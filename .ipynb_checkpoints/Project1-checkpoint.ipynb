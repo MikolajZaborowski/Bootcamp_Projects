{
 "cells": [
  {
   "cell_type": "code",
   "execution_count": 61,
   "id": "29b66bc5",
   "metadata": {
    "scrolled": true
   },
   "outputs": [],
   "source": [
    "import pandas as pd\n",
    "from sklearn.linear_model import LinearRegression\n",
    "from sklearn.metrics import mean_squared_error\n",
    "import numpy as np\n",
    "import pandas as pd\n",
    "from sklearn.linear_model import LinearRegression\n",
    "import matplotlib.pyplot as plt\n",
    "from sklearn.model_selection import train_test_split\n",
    "from sklearn.tree import DecisionTreeRegressor\n",
    "from sklearn import tree"
   ]
  },
  {
   "cell_type": "code",
   "execution_count": 62,
   "id": "4f95f944",
   "metadata": {},
   "outputs": [],
   "source": [
    "df = pd.read_csv(\"data/epi_r.csv\")\n",
    "df2 = pd.read_csv(\"data/epi_r.csv\")"
   ]
  },
  {
   "cell_type": "code",
   "execution_count": 63,
   "id": "67abc76c",
   "metadata": {},
   "outputs": [
    {
     "data": {
      "text/plain": [
       "(20052, 680)"
      ]
     },
     "execution_count": 63,
     "metadata": {},
     "output_type": "execute_result"
    }
   ],
   "source": [
    "df.shape"
   ]
  },
  {
   "cell_type": "code",
   "execution_count": 64,
   "id": "8e5b6d85",
   "metadata": {},
   "outputs": [
    {
     "data": {
      "text/plain": [
       "True"
      ]
     },
     "execution_count": 64,
     "metadata": {},
     "output_type": "execute_result"
    }
   ],
   "source": [
    "df['calories'].isnull().values.any()"
   ]
  },
  {
   "cell_type": "code",
   "execution_count": null,
   "id": "480a0112",
   "metadata": {},
   "outputs": [],
   "source": []
  },
  {
   "cell_type": "code",
   "execution_count": 65,
   "id": "6466a00f",
   "metadata": {},
   "outputs": [],
   "source": [
    "df=df.dropna()"
   ]
  },
  {
   "cell_type": "code",
   "execution_count": 66,
   "id": "8c0f938a",
   "metadata": {},
   "outputs": [],
   "source": [
    "df=df.reset_index()"
   ]
  },
  {
   "cell_type": "code",
   "execution_count": 67,
   "id": "992eda0f",
   "metadata": {},
   "outputs": [
    {
     "data": {
      "text/plain": [
       "<bound method DataFrame.info of        index                                        title  rating  calories   \n",
       "0          0              Lentil, Apple, and Turkey Wrap    2.500     426.0  \\\n",
       "1          1  Boudin Blanc Terrine with Red Onion Confit    4.375     403.0   \n",
       "2          2                Potato and Fennel Soup Hodge    3.750     165.0   \n",
       "3          4                    Spinach Noodle Casserole    3.125     547.0   \n",
       "4          5                               The Best Blts    4.375     948.0   \n",
       "...      ...                                          ...     ...       ...   \n",
       "15859  20047                              Parmesan Puffs    3.125      28.0   \n",
       "15860  20048              Artichoke and Parmesan Risotto    4.375     671.0   \n",
       "15861  20049                       Turkey Cream Puff Pie    4.375     563.0   \n",
       "15862  20050     Snapper on Angel Hair with Citrus Cream    4.375     631.0   \n",
       "15863  20051  Baked Ham with Marmalade-Horseradish Glaze    4.375     560.0   \n",
       "\n",
       "       protein   fat  sodium  #cakeweek  #wasteless  22-minute meals  ...   \n",
       "0         30.0   7.0   559.0        0.0         0.0              0.0  ...  \\\n",
       "1         18.0  23.0  1439.0        0.0         0.0              0.0  ...   \n",
       "2          6.0   7.0   165.0        0.0         0.0              0.0  ...   \n",
       "3         20.0  32.0   452.0        0.0         0.0              0.0  ...   \n",
       "4         19.0  79.0  1042.0        0.0         0.0              0.0  ...   \n",
       "...        ...   ...     ...        ...         ...              ...  ...   \n",
       "15859      2.0   2.0    64.0        0.0         0.0              0.0  ...   \n",
       "15860     22.0  28.0   583.0        0.0         0.0              0.0  ...   \n",
       "15861     31.0  38.0   652.0        0.0         0.0              0.0  ...   \n",
       "15862     45.0  24.0   517.0        0.0         0.0              0.0  ...   \n",
       "15863     73.0  10.0  3698.0        0.0         0.0              0.0  ...   \n",
       "\n",
       "       yellow squash  yogurt  yonkers  yuca  zucchini  cookbooks  leftovers   \n",
       "0                0.0     0.0      0.0   0.0       0.0        0.0        0.0  \\\n",
       "1                0.0     0.0      0.0   0.0       0.0        0.0        0.0   \n",
       "2                0.0     0.0      0.0   0.0       0.0        0.0        0.0   \n",
       "3                0.0     0.0      0.0   0.0       0.0        0.0        0.0   \n",
       "4                0.0     0.0      0.0   0.0       0.0        0.0        0.0   \n",
       "...              ...     ...      ...   ...       ...        ...        ...   \n",
       "15859            0.0     0.0      0.0   0.0       0.0        0.0        0.0   \n",
       "15860            0.0     0.0      0.0   0.0       0.0        0.0        0.0   \n",
       "15861            0.0     0.0      0.0   0.0       0.0        0.0        0.0   \n",
       "15862            0.0     0.0      0.0   0.0       0.0        0.0        0.0   \n",
       "15863            0.0     0.0      0.0   0.0       0.0        0.0        0.0   \n",
       "\n",
       "       snack  snack week  turkey  \n",
       "0        0.0         0.0     1.0  \n",
       "1        0.0         0.0     0.0  \n",
       "2        0.0         0.0     0.0  \n",
       "3        0.0         0.0     0.0  \n",
       "4        0.0         0.0     0.0  \n",
       "...      ...         ...     ...  \n",
       "15859    0.0         0.0     0.0  \n",
       "15860    0.0         0.0     0.0  \n",
       "15861    0.0         0.0     1.0  \n",
       "15862    0.0         0.0     0.0  \n",
       "15863    0.0         0.0     0.0  \n",
       "\n",
       "[15864 rows x 681 columns]>"
      ]
     },
     "execution_count": 67,
     "metadata": {},
     "output_type": "execute_result"
    }
   ],
   "source": [
    "df.info"
   ]
  },
  {
   "cell_type": "code",
   "execution_count": 68,
   "id": "8d2e6bb0",
   "metadata": {},
   "outputs": [
    {
     "data": {
      "text/plain": [
       "index           int64\n",
       "title          object\n",
       "rating        float64\n",
       "calories      float64\n",
       "protein       float64\n",
       "               ...   \n",
       "cookbooks     float64\n",
       "leftovers     float64\n",
       "snack         float64\n",
       "snack week    float64\n",
       "turkey        float64\n",
       "Length: 681, dtype: object"
      ]
     },
     "execution_count": 68,
     "metadata": {},
     "output_type": "execute_result"
    }
   ],
   "source": [
    "df.dtypes"
   ]
  },
  {
   "cell_type": "code",
   "execution_count": 69,
   "id": "46e9f9dc",
   "metadata": {
    "scrolled": false
   },
   "outputs": [
    {
     "data": {
      "text/html": [
       "<div>\n",
       "<style scoped>\n",
       "    .dataframe tbody tr th:only-of-type {\n",
       "        vertical-align: middle;\n",
       "    }\n",
       "\n",
       "    .dataframe tbody tr th {\n",
       "        vertical-align: top;\n",
       "    }\n",
       "\n",
       "    .dataframe thead th {\n",
       "        text-align: right;\n",
       "    }\n",
       "</style>\n",
       "<table border=\"1\" class=\"dataframe\">\n",
       "  <thead>\n",
       "    <tr style=\"text-align: right;\">\n",
       "      <th></th>\n",
       "      <th>index</th>\n",
       "      <th>title</th>\n",
       "      <th>rating</th>\n",
       "      <th>calories</th>\n",
       "      <th>protein</th>\n",
       "      <th>fat</th>\n",
       "      <th>sodium</th>\n",
       "      <th>#cakeweek</th>\n",
       "      <th>#wasteless</th>\n",
       "      <th>22-minute meals</th>\n",
       "      <th>...</th>\n",
       "      <th>yellow squash</th>\n",
       "      <th>yogurt</th>\n",
       "      <th>yonkers</th>\n",
       "      <th>yuca</th>\n",
       "      <th>zucchini</th>\n",
       "      <th>cookbooks</th>\n",
       "      <th>leftovers</th>\n",
       "      <th>snack</th>\n",
       "      <th>snack week</th>\n",
       "      <th>turkey</th>\n",
       "    </tr>\n",
       "  </thead>\n",
       "  <tbody>\n",
       "    <tr>\n",
       "      <th>0</th>\n",
       "      <td>0</td>\n",
       "      <td>Lentil, Apple, and Turkey Wrap</td>\n",
       "      <td>2.500</td>\n",
       "      <td>426.0</td>\n",
       "      <td>30.0</td>\n",
       "      <td>7.0</td>\n",
       "      <td>559.0</td>\n",
       "      <td>0.0</td>\n",
       "      <td>0.0</td>\n",
       "      <td>0.0</td>\n",
       "      <td>...</td>\n",
       "      <td>0.0</td>\n",
       "      <td>0.0</td>\n",
       "      <td>0.0</td>\n",
       "      <td>0.0</td>\n",
       "      <td>0.0</td>\n",
       "      <td>0.0</td>\n",
       "      <td>0.0</td>\n",
       "      <td>0.0</td>\n",
       "      <td>0.0</td>\n",
       "      <td>1.0</td>\n",
       "    </tr>\n",
       "    <tr>\n",
       "      <th>1</th>\n",
       "      <td>1</td>\n",
       "      <td>Boudin Blanc Terrine with Red Onion Confit</td>\n",
       "      <td>4.375</td>\n",
       "      <td>403.0</td>\n",
       "      <td>18.0</td>\n",
       "      <td>23.0</td>\n",
       "      <td>1439.0</td>\n",
       "      <td>0.0</td>\n",
       "      <td>0.0</td>\n",
       "      <td>0.0</td>\n",
       "      <td>...</td>\n",
       "      <td>0.0</td>\n",
       "      <td>0.0</td>\n",
       "      <td>0.0</td>\n",
       "      <td>0.0</td>\n",
       "      <td>0.0</td>\n",
       "      <td>0.0</td>\n",
       "      <td>0.0</td>\n",
       "      <td>0.0</td>\n",
       "      <td>0.0</td>\n",
       "      <td>0.0</td>\n",
       "    </tr>\n",
       "    <tr>\n",
       "      <th>2</th>\n",
       "      <td>2</td>\n",
       "      <td>Potato and Fennel Soup Hodge</td>\n",
       "      <td>3.750</td>\n",
       "      <td>165.0</td>\n",
       "      <td>6.0</td>\n",
       "      <td>7.0</td>\n",
       "      <td>165.0</td>\n",
       "      <td>0.0</td>\n",
       "      <td>0.0</td>\n",
       "      <td>0.0</td>\n",
       "      <td>...</td>\n",
       "      <td>0.0</td>\n",
       "      <td>0.0</td>\n",
       "      <td>0.0</td>\n",
       "      <td>0.0</td>\n",
       "      <td>0.0</td>\n",
       "      <td>0.0</td>\n",
       "      <td>0.0</td>\n",
       "      <td>0.0</td>\n",
       "      <td>0.0</td>\n",
       "      <td>0.0</td>\n",
       "    </tr>\n",
       "    <tr>\n",
       "      <th>3</th>\n",
       "      <td>4</td>\n",
       "      <td>Spinach Noodle Casserole</td>\n",
       "      <td>3.125</td>\n",
       "      <td>547.0</td>\n",
       "      <td>20.0</td>\n",
       "      <td>32.0</td>\n",
       "      <td>452.0</td>\n",
       "      <td>0.0</td>\n",
       "      <td>0.0</td>\n",
       "      <td>0.0</td>\n",
       "      <td>...</td>\n",
       "      <td>0.0</td>\n",
       "      <td>0.0</td>\n",
       "      <td>0.0</td>\n",
       "      <td>0.0</td>\n",
       "      <td>0.0</td>\n",
       "      <td>0.0</td>\n",
       "      <td>0.0</td>\n",
       "      <td>0.0</td>\n",
       "      <td>0.0</td>\n",
       "      <td>0.0</td>\n",
       "    </tr>\n",
       "    <tr>\n",
       "      <th>4</th>\n",
       "      <td>5</td>\n",
       "      <td>The Best Blts</td>\n",
       "      <td>4.375</td>\n",
       "      <td>948.0</td>\n",
       "      <td>19.0</td>\n",
       "      <td>79.0</td>\n",
       "      <td>1042.0</td>\n",
       "      <td>0.0</td>\n",
       "      <td>0.0</td>\n",
       "      <td>0.0</td>\n",
       "      <td>...</td>\n",
       "      <td>0.0</td>\n",
       "      <td>0.0</td>\n",
       "      <td>0.0</td>\n",
       "      <td>0.0</td>\n",
       "      <td>0.0</td>\n",
       "      <td>0.0</td>\n",
       "      <td>0.0</td>\n",
       "      <td>0.0</td>\n",
       "      <td>0.0</td>\n",
       "      <td>0.0</td>\n",
       "    </tr>\n",
       "    <tr>\n",
       "      <th>...</th>\n",
       "      <td>...</td>\n",
       "      <td>...</td>\n",
       "      <td>...</td>\n",
       "      <td>...</td>\n",
       "      <td>...</td>\n",
       "      <td>...</td>\n",
       "      <td>...</td>\n",
       "      <td>...</td>\n",
       "      <td>...</td>\n",
       "      <td>...</td>\n",
       "      <td>...</td>\n",
       "      <td>...</td>\n",
       "      <td>...</td>\n",
       "      <td>...</td>\n",
       "      <td>...</td>\n",
       "      <td>...</td>\n",
       "      <td>...</td>\n",
       "      <td>...</td>\n",
       "      <td>...</td>\n",
       "      <td>...</td>\n",
       "      <td>...</td>\n",
       "    </tr>\n",
       "    <tr>\n",
       "      <th>15859</th>\n",
       "      <td>20047</td>\n",
       "      <td>Parmesan Puffs</td>\n",
       "      <td>3.125</td>\n",
       "      <td>28.0</td>\n",
       "      <td>2.0</td>\n",
       "      <td>2.0</td>\n",
       "      <td>64.0</td>\n",
       "      <td>0.0</td>\n",
       "      <td>0.0</td>\n",
       "      <td>0.0</td>\n",
       "      <td>...</td>\n",
       "      <td>0.0</td>\n",
       "      <td>0.0</td>\n",
       "      <td>0.0</td>\n",
       "      <td>0.0</td>\n",
       "      <td>0.0</td>\n",
       "      <td>0.0</td>\n",
       "      <td>0.0</td>\n",
       "      <td>0.0</td>\n",
       "      <td>0.0</td>\n",
       "      <td>0.0</td>\n",
       "    </tr>\n",
       "    <tr>\n",
       "      <th>15860</th>\n",
       "      <td>20048</td>\n",
       "      <td>Artichoke and Parmesan Risotto</td>\n",
       "      <td>4.375</td>\n",
       "      <td>671.0</td>\n",
       "      <td>22.0</td>\n",
       "      <td>28.0</td>\n",
       "      <td>583.0</td>\n",
       "      <td>0.0</td>\n",
       "      <td>0.0</td>\n",
       "      <td>0.0</td>\n",
       "      <td>...</td>\n",
       "      <td>0.0</td>\n",
       "      <td>0.0</td>\n",
       "      <td>0.0</td>\n",
       "      <td>0.0</td>\n",
       "      <td>0.0</td>\n",
       "      <td>0.0</td>\n",
       "      <td>0.0</td>\n",
       "      <td>0.0</td>\n",
       "      <td>0.0</td>\n",
       "      <td>0.0</td>\n",
       "    </tr>\n",
       "    <tr>\n",
       "      <th>15861</th>\n",
       "      <td>20049</td>\n",
       "      <td>Turkey Cream Puff Pie</td>\n",
       "      <td>4.375</td>\n",
       "      <td>563.0</td>\n",
       "      <td>31.0</td>\n",
       "      <td>38.0</td>\n",
       "      <td>652.0</td>\n",
       "      <td>0.0</td>\n",
       "      <td>0.0</td>\n",
       "      <td>0.0</td>\n",
       "      <td>...</td>\n",
       "      <td>0.0</td>\n",
       "      <td>0.0</td>\n",
       "      <td>0.0</td>\n",
       "      <td>0.0</td>\n",
       "      <td>0.0</td>\n",
       "      <td>0.0</td>\n",
       "      <td>0.0</td>\n",
       "      <td>0.0</td>\n",
       "      <td>0.0</td>\n",
       "      <td>1.0</td>\n",
       "    </tr>\n",
       "    <tr>\n",
       "      <th>15862</th>\n",
       "      <td>20050</td>\n",
       "      <td>Snapper on Angel Hair with Citrus Cream</td>\n",
       "      <td>4.375</td>\n",
       "      <td>631.0</td>\n",
       "      <td>45.0</td>\n",
       "      <td>24.0</td>\n",
       "      <td>517.0</td>\n",
       "      <td>0.0</td>\n",
       "      <td>0.0</td>\n",
       "      <td>0.0</td>\n",
       "      <td>...</td>\n",
       "      <td>0.0</td>\n",
       "      <td>0.0</td>\n",
       "      <td>0.0</td>\n",
       "      <td>0.0</td>\n",
       "      <td>0.0</td>\n",
       "      <td>0.0</td>\n",
       "      <td>0.0</td>\n",
       "      <td>0.0</td>\n",
       "      <td>0.0</td>\n",
       "      <td>0.0</td>\n",
       "    </tr>\n",
       "    <tr>\n",
       "      <th>15863</th>\n",
       "      <td>20051</td>\n",
       "      <td>Baked Ham with Marmalade-Horseradish Glaze</td>\n",
       "      <td>4.375</td>\n",
       "      <td>560.0</td>\n",
       "      <td>73.0</td>\n",
       "      <td>10.0</td>\n",
       "      <td>3698.0</td>\n",
       "      <td>0.0</td>\n",
       "      <td>0.0</td>\n",
       "      <td>0.0</td>\n",
       "      <td>...</td>\n",
       "      <td>0.0</td>\n",
       "      <td>0.0</td>\n",
       "      <td>0.0</td>\n",
       "      <td>0.0</td>\n",
       "      <td>0.0</td>\n",
       "      <td>0.0</td>\n",
       "      <td>0.0</td>\n",
       "      <td>0.0</td>\n",
       "      <td>0.0</td>\n",
       "      <td>0.0</td>\n",
       "    </tr>\n",
       "  </tbody>\n",
       "</table>\n",
       "<p>15864 rows × 681 columns</p>\n",
       "</div>"
      ],
      "text/plain": [
       "       index                                        title  rating  calories   \n",
       "0          0              Lentil, Apple, and Turkey Wrap    2.500     426.0  \\\n",
       "1          1  Boudin Blanc Terrine with Red Onion Confit    4.375     403.0   \n",
       "2          2                Potato and Fennel Soup Hodge    3.750     165.0   \n",
       "3          4                    Spinach Noodle Casserole    3.125     547.0   \n",
       "4          5                               The Best Blts    4.375     948.0   \n",
       "...      ...                                          ...     ...       ...   \n",
       "15859  20047                              Parmesan Puffs    3.125      28.0   \n",
       "15860  20048              Artichoke and Parmesan Risotto    4.375     671.0   \n",
       "15861  20049                       Turkey Cream Puff Pie    4.375     563.0   \n",
       "15862  20050     Snapper on Angel Hair with Citrus Cream    4.375     631.0   \n",
       "15863  20051  Baked Ham with Marmalade-Horseradish Glaze    4.375     560.0   \n",
       "\n",
       "       protein   fat  sodium  #cakeweek  #wasteless  22-minute meals  ...   \n",
       "0         30.0   7.0   559.0        0.0         0.0              0.0  ...  \\\n",
       "1         18.0  23.0  1439.0        0.0         0.0              0.0  ...   \n",
       "2          6.0   7.0   165.0        0.0         0.0              0.0  ...   \n",
       "3         20.0  32.0   452.0        0.0         0.0              0.0  ...   \n",
       "4         19.0  79.0  1042.0        0.0         0.0              0.0  ...   \n",
       "...        ...   ...     ...        ...         ...              ...  ...   \n",
       "15859      2.0   2.0    64.0        0.0         0.0              0.0  ...   \n",
       "15860     22.0  28.0   583.0        0.0         0.0              0.0  ...   \n",
       "15861     31.0  38.0   652.0        0.0         0.0              0.0  ...   \n",
       "15862     45.0  24.0   517.0        0.0         0.0              0.0  ...   \n",
       "15863     73.0  10.0  3698.0        0.0         0.0              0.0  ...   \n",
       "\n",
       "       yellow squash  yogurt  yonkers  yuca  zucchini  cookbooks  leftovers   \n",
       "0                0.0     0.0      0.0   0.0       0.0        0.0        0.0  \\\n",
       "1                0.0     0.0      0.0   0.0       0.0        0.0        0.0   \n",
       "2                0.0     0.0      0.0   0.0       0.0        0.0        0.0   \n",
       "3                0.0     0.0      0.0   0.0       0.0        0.0        0.0   \n",
       "4                0.0     0.0      0.0   0.0       0.0        0.0        0.0   \n",
       "...              ...     ...      ...   ...       ...        ...        ...   \n",
       "15859            0.0     0.0      0.0   0.0       0.0        0.0        0.0   \n",
       "15860            0.0     0.0      0.0   0.0       0.0        0.0        0.0   \n",
       "15861            0.0     0.0      0.0   0.0       0.0        0.0        0.0   \n",
       "15862            0.0     0.0      0.0   0.0       0.0        0.0        0.0   \n",
       "15863            0.0     0.0      0.0   0.0       0.0        0.0        0.0   \n",
       "\n",
       "       snack  snack week  turkey  \n",
       "0        0.0         0.0     1.0  \n",
       "1        0.0         0.0     0.0  \n",
       "2        0.0         0.0     0.0  \n",
       "3        0.0         0.0     0.0  \n",
       "4        0.0         0.0     0.0  \n",
       "...      ...         ...     ...  \n",
       "15859    0.0         0.0     0.0  \n",
       "15860    0.0         0.0     0.0  \n",
       "15861    0.0         0.0     1.0  \n",
       "15862    0.0         0.0     0.0  \n",
       "15863    0.0         0.0     0.0  \n",
       "\n",
       "[15864 rows x 681 columns]"
      ]
     },
     "execution_count": 69,
     "metadata": {},
     "output_type": "execute_result"
    }
   ],
   "source": [
    "df"
   ]
  },
  {
   "cell_type": "code",
   "execution_count": 73,
   "id": "b71b5d46",
   "metadata": {},
   "outputs": [],
   "source": [
    "df = df.drop([\"index\"], axis=1)"
   ]
  },
  {
   "cell_type": "code",
   "execution_count": 74,
   "id": "7967cddc",
   "metadata": {},
   "outputs": [
    {
     "data": {
      "text/plain": [
       "(15864, 680)"
      ]
     },
     "execution_count": 74,
     "metadata": {},
     "output_type": "execute_result"
    }
   ],
   "source": [
    "df.shape"
   ]
  },
  {
   "cell_type": "code",
   "execution_count": 71,
   "id": "14bdcebb",
   "metadata": {},
   "outputs": [],
   "source": [
    "# Rozkład zmiennej objaśnianej"
   ]
  },
  {
   "cell_type": "code",
   "execution_count": 75,
   "id": "7111a67a",
   "metadata": {
    "scrolled": false
   },
   "outputs": [
    {
     "data": {
      "text/plain": [
       "<seaborn.axisgrid.FacetGrid at 0x19436070f70>"
      ]
     },
     "execution_count": 75,
     "metadata": {},
     "output_type": "execute_result"
    },
    {
     "data": {
      "image/png": "[encoded data removed]",
      "text/plain": [
       "<Figure size 500x500 with 1 Axes>"
      ]
     },
     "metadata": {},
     "output_type": "display_data"
    }
   ],
   "source": [
    "import seaborn as sns\n",
    "sns.displot(df[\"rating\"], kde=False, bins=10)"
   ]
  },
  {
   "cell_type": "code",
   "execution_count": 92,
   "id": "9524da6c",
   "metadata": {
    "scrolled": false
   },
   "outputs": [
    {
     "data": {
      "text/plain": [
       "(0.0, 5000.0)"
      ]
     },
     "execution_count": 92,
     "metadata": {},
     "output_type": "execute_result"
    },
    {
     "data": {
      "image/png": "[encoded data removed]",
      "text/plain": [
       "<Figure size 640x480 with 1 Axes>"
      ]
     },
     "metadata": {},
     "output_type": "display_data"
    }
   ],
   "source": [
    "sns.scatterplot(df,x=\"calories\",y=\"rating\")\n",
    "plt.xlim(0,5000)"
   ]
  },
  {
   "cell_type": "code",
   "execution_count": 99,
   "id": "2f3ce0f6",
   "metadata": {},
   "outputs": [],
   "source": [
    "unique_rating = df[\"rating\"].unique()\n",
    "df[\"calories\"]\n"
   ]
  },
  {
   "cell_type": "code",
   "execution_count": 94,
   "id": "6b2cb3da",
   "metadata": {},
   "outputs": [
    {
     "data": {
      "image/png": "[encoded data removed]",
      "text/plain": [
       "<Figure size 640x480 with 1 Axes>"
      ]
     },
     "metadata": {},
     "output_type": "display_data"
    }
   ],
   "source": [
    "fig, ax = plt.subplots() \n",
    "bars=ax.bar(unique_rating,  , width=0.4, color=\"g\")"
   ]
  }
 ],
 "metadata": {
  "kernelspec": {
   "display_name": "Python 3 (ipykernel)",
   "language": "python",
   "name": "python3"
  },
  "language_info": {
   "codemirror_mode": {
    "name": "ipython",
    "version": 3
   },
   "file_extension": ".py",
   "mimetype": "text/x-python",
   "name": "python",
   "nbconvert_exporter": "python",
   "pygments_lexer": "ipython3",
   "version": "3.10.4"
  }
 },
 "nbformat": 4,
 "nbformat_minor": 5
}
