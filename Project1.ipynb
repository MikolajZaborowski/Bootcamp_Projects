{
 "cells": [
  {
   "cell_type": "code",
   "execution_count": 241,
   "id": "360e9e4b",
   "metadata": {
    "scrolled": true
   },
   "outputs": [],
   "source": [
    "import pandas as pd\n",
    "from sklearn.linear_model import LinearRegression\n",
    "from sklearn.metrics import mean_squared_error\n",
    "import numpy as np\n",
    "import pandas as pd\n",
    "from sklearn.linear_model import LinearRegression\n",
    "import matplotlib.pyplot as plt\n",
    "from sklearn.model_selection import train_test_split\n",
    "from sklearn.tree import DecisionTreeRegressor\n",
    "from sklearn import tree"
   ]
  },
  {
   "cell_type": "code",
   "execution_count": null,
   "id": "eee49560",
   "metadata": {},
   "outputs": [],
   "source": []
  },
  {
   "cell_type": "code",
   "execution_count": 242,
   "id": "e6f4580b",
   "metadata": {},
   "outputs": [],
   "source": [
    "df = pd.read_csv(\"data/epi_r.csv\")\n",
    "df2 = pd.read_csv(\"data/epi_r.csv\")"
   ]
  },
  {
   "cell_type": "code",
   "execution_count": 243,
   "id": "5b0bc0d6",
   "metadata": {},
   "outputs": [],
   "source": [
    "df.shape"
   ]
  },
  {
   "cell_type": "code",
   "execution_count": 244,
   "id": "265faca2",
   "metadata": {},
   "outputs": [],
   "source": [
    "df['calories'].isnull().values.any()"
   ]
  },
  {
   "cell_type": "code",
   "execution_count": 245,
   "id": "d2e62447",
   "metadata": {},
   "outputs": [],
   "source": [
    "df=df.dropna()"
   ]
  },
  {
   "cell_type": "code",
   "execution_count": 246,
   "id": "2056f6c9",
   "metadata": {},
   "outputs": [],
   "source": [
    "df.dtypes"
   ]
  },
  {
   "cell_type": "code",
   "execution_count": null,
   "id": "062ae1d4",
   "metadata": {
    "scrolled": false
   },
   "outputs": [],
   "source": [
    "df.head(5)"
   ]
  },
  {
   "cell_type": "code",
   "execution_count": null,
   "id": "da26fecb",
   "metadata": {},
   "outputs": [],
   "source": [
    "pd.set_option('display.max_columns', None)"
   ]
  },
  {
   "cell_type": "code",
   "execution_count": null,
   "id": "29daa232",
   "metadata": {},
   "outputs": [],
   "source": [
    "df = df.drop([\"index\"], axis=1)"
   ]
  },
  {
   "cell_type": "code",
   "execution_count": null,
   "id": "33863c1d",
   "metadata": {},
   "outputs": [],
   "source": [
    "df.shape"
   ]
  },
  {
   "cell_type": "code",
   "execution_count": null,
   "id": "0b45e777",
   "metadata": {},
   "outputs": [],
   "source": [
    "# Rozkład zmiennej objaśnianej"
   ]
  },
  {
   "cell_type": "code",
   "execution_count": null,
   "id": "fb8c16ba",
   "metadata": {
    "scrolled": false
   },
   "outputs": [],
   "source": [
    "import seaborn as sns\n",
    "sns.displot(df[\"rating\"], kde=False, bins=10)"
   ]
  },
  {
   "cell_type": "code",
   "execution_count": null,
   "id": "633cb103",
   "metadata": {
    "scrolled": false
   },
   "outputs": [],
   "source": [
    "sns.scatterplot(df,x=\"calories\",y=\"rating\")\n",
    "plt.xlim(0,10000)"
   ]
  },
  {
   "cell_type": "code",
   "execution_count": null,
   "id": "b07a9dbf",
   "metadata": {},
   "outputs": [],
   "source": [
    "sns.scatterplot(df,x=\"fat\",y=\"rating\")\n",
    "plt.xlim(0,3000)"
   ]
  },
  {
   "cell_type": "code",
   "execution_count": null,
   "id": "f2494abe",
   "metadata": {},
   "outputs": [],
   "source": [
    "srednie_proteiny = list()\n",
    "unique_rating = df[\"rating\"].unique()\n",
    "for i in range(len(unique_rating)):\n",
    "    srednie_proteiny.append(df.iloc[np.where(df['rating'] == df['rating'].unique()[i])]['protein'].mean())\n",
    "    \n",
    "srednie_kalorie = list()\n",
    "for i in range(len(unique_rating)):\n",
    "    srednie_kalorie.append(df.iloc[np.where(df['rating'] == df['rating'].unique()[i])]['calories'].mean())\n",
    "\n",
    "sredni_tłuszcz = list()\n",
    "for i in range(len(unique_rating)):\n",
    "    sredni_tłuszcz.append(df.iloc[np.where(df['rating'] == df['rating'].unique()[i])]['fat'].mean())\n",
    "    \n",
    "srednia_sól = list()\n",
    "for i in range(len(unique_rating)):\n",
    "    srednia_sól.append(df.iloc[np.where(df['rating'] == df['rating'].unique()[i])]['sodium'].mean())"
   ]
  },
  {
   "cell_type": "code",
   "execution_count": null,
   "id": "1f13f8cd",
   "metadata": {},
   "outputs": [],
   "source": [
    "d={\"rating\":unique_rating, \"calories\":srednie_kalorie, \"protein\":srednie_proteiny, \"fat\": sredni_tłuszcz, \"sodium\":srednia_sól }\n",
    "srednie=pd.DataFrame(d)\n",
    "srednie"
   ]
  },
  {
   "cell_type": "code",
   "execution_count": null,
   "id": "4ff1722b",
   "metadata": {
    "scrolled": false
   },
   "outputs": [],
   "source": [
    "fig, ax = plt.subplots(2,2, figsize=(12,12)) \n",
    "bars=ax[0][0].bar(unique_rating, srednie_proteiny  , width=0.4, color=\"g\")\n",
    "ax[0][0].set_title(\"Średnia ilość białka dla dań o określonym ratingu\")\n",
    "ax[0][0].set_ylabel(\"średnia ilosc białka\")\n",
    "ax[0][0].set_xlabel(\"Ocena\")\n",
    "\n",
    "bars=ax[1][0].bar(unique_rating, srednie_kalorie  , width=0.4, color=\"g\")\n",
    "ax[1][0].set_title(\"Średnia ilość kalorii dla dań o określonym ratingu\")\n",
    "ax[1][0].set_ylabel(\"średnia ilosc kalorii\")\n",
    "ax[1][0].set_xlabel(\"Ocena\")\n",
    "\n",
    "bars=ax[0][1].bar(unique_rating, sredni_tłuszcz  , width=0.4, color=\"g\")\n",
    "ax[0][1].set_title(\"Średnia ilość tłuszczu dla dań o określonym ratingu\")\n",
    "ax[0][1].set_ylabel(\"średnia ilosc tłuszczu\")\n",
    "ax[0][1].set_xlabel(\"Ocena\")\n",
    "\n",
    "bars=ax[1][1].bar(unique_rating, srednia_sól , width=0.4, color=\"g\")\n",
    "ax[1][1].set_title(\"Średnia ilość soli dla dań o określonym ratingu\")\n",
    "ax[1][1].set_ylabel(\"średnia ilość soli\")\n",
    "ax[1][1].set_xlabel(\"Ocena\")"
   ]
  },
  {
   "cell_type": "code",
   "execution_count": null,
   "id": "bb2c3073",
   "metadata": {
    "scrolled": false
   },
   "outputs": [],
   "source": [
    "import seaborn as sns\n",
    "plt.figure(figsize=(10,5))\n",
    "sns.heatmap(data=srednie.corr(), annot=True)\n",
    "plt.show()"
   ]
  },
  {
   "cell_type": "code",
   "execution_count": null,
   "id": "3e414757",
   "metadata": {
    "scrolled": false
   },
   "outputs": [],
   "source": [
    "df[df[\"calories\"]<1]"
   ]
  },
  {
   "cell_type": "code",
   "execution_count": null,
   "id": "df00918f",
   "metadata": {},
   "outputs": [],
   "source": [
    "list(df.columns)"
   ]
  },
  {
   "cell_type": "code",
   "execution_count": null,
   "id": "69778830",
   "metadata": {},
   "outputs": [],
   "source": [
    "# boxploty zmienna binarna vs zmienna y"
   ]
  },
  {
   "cell_type": "code",
   "execution_count": null,
   "id": "8ab6ef26",
   "metadata": {},
   "outputs": [],
   "source": [
    "binary={}\n",
    "a=0\n",
    "for i, column in enumerate(list(df.columns)):\n",
    "    if i>13:\n",
    "        binary[column]=df[column].sum()\n",
    "binary\n"
   ]
  },
  {
   "cell_type": "code",
   "execution_count": null,
   "id": "f24a9717",
   "metadata": {
    "scrolled": true
   },
   "outputs": [],
   "source": [
    "dfbinary=pd.DataFrame.from_dict(binary, orient='index')\n",
    "dfbinary.describe()"
   ]
  },
  {
   "cell_type": "code",
   "execution_count": null,
   "id": "12b837f5",
   "metadata": {},
   "outputs": [],
   "source": [
    "X = df.drop([\"title\",\"rating\"],axis=1)\n"
   ]
  },
  {
   "cell_type": "code",
   "execution_count": null,
   "id": "e1a7574d",
   "metadata": {},
   "outputs": [],
   "source": [
    "X.head(5)"
   ]
  }
 ],
 "metadata": {
  "kernelspec": {
   "display_name": "Python 3 (ipykernel)",
   "language": "python",
   "name": "python3"
  },
  "language_info": {
   "codemirror_mode": {
    "name": "ipython",
    "version": 3
   },
   "file_extension": ".py",
   "mimetype": "text/x-python",
   "name": "python",
   "nbconvert_exporter": "python",
   "pygments_lexer": "ipython3",
   "version": "3.10.4"
  }
 },
 "nbformat": 4,
 "nbformat_minor": 5
}
