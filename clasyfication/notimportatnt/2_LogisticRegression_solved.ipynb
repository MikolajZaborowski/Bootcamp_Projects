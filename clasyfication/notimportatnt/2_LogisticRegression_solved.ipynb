{
 "cells": [
  {
   "cell_type": "markdown",
   "metadata": {
    "id": "DN1V1CgEgq_a"
   },
   "source": [
    "Sklonujmy sobie najpierw repozytorium z danymi"
   ]
  },
  {
   "cell_type": "code",
   "execution_count": 1,
   "metadata": {
    "colab": {
     "base_uri": "https://localhost:8080/"
    },
    "executionInfo": {
     "elapsed": 4751,
     "status": "ok",
     "timestamp": 1616243756945,
     "user": {
      "displayName": "Oskar Duda",
      "photoUrl": "",
      "userId": "06088257986685215787"
     },
     "user_tz": -60
    },
    "id": "wBFyDWHqgq_a",
    "outputId": "b756a76a-0bf5-425f-9abe-e15d844e8fdb"
   },
   "outputs": [
    {
     "name": "stderr",
     "output_type": "stream",
     "text": [
      "Cloning into 'ML-datasets'...\n"
     ]
    }
   ],
   "source": [
    "!git clone https://github.com/matzim95/ML-datasets"
   ]
  },
  {
   "cell_type": "markdown",
   "metadata": {
    "colab": {
     "base_uri": "https://localhost:8080/"
    },
    "executionInfo": {
     "elapsed": 582,
     "status": "ok",
     "timestamp": 1616243763563,
     "user": {
      "displayName": "Oskar Duda",
      "photoUrl": "",
      "userId": "06088257986685215787"
     },
     "user_tz": -60
    },
    "id": "WG8QguNaonip",
    "outputId": "33b5a52f-c626-4e63-d5b2-400390e027bc"
   },
   "source": [
    "!ls ML-datasets "
   ]
  },
  {
   "cell_type": "markdown",
   "metadata": {
    "id": "X7AbBWrXgq_h"
   },
   "source": [
    "# Budowa modelu na danych rzeczywistych"
   ]
  },
  {
   "cell_type": "markdown",
   "metadata": {},
   "source": [
    "Funckje wczytujące dane:"
   ]
  },
  {
   "cell_type": "code",
   "execution_count": 2,
   "metadata": {
    "executionInfo": {
     "elapsed": 736,
     "status": "ok",
     "timestamp": 1616244862738,
     "user": {
      "displayName": "Oskar Duda",
      "photoUrl": "",
      "userId": "06088257986685215787"
     },
     "user_tz": -60
    },
    "id": "OFU1eEkjgq_h"
   },
   "outputs": [],
   "source": [
    "import pandas as pd\n",
    "import numpy as np\n",
    "import matplotlib.pyplot as plt\n",
    "\n",
    "\n",
    "def load_dataset(filename, class_column, index_col=None):\n",
    "    dataset = pd.read_csv(f'ML-datasets/{filename}.csv', index_col=index_col)\n",
    "    dataset['class'] = dataset[class_column].astype('category').cat.codes\n",
    "    classes = dataset.pop(class_column).unique()\n",
    "    return dataset, classes\n",
    "\n",
    "def prepare_dataset(dataset_name):\n",
    "    params = {'iris': {'class_column': 'species', 'index_col': None},\n",
    "              'wine': {'class_column': 'Class', 'index_col': None},\n",
    "              'glass': {'class_column': 'Type', 'index_col': 'ID'},\n",
    "              'diabetes': {'class_column': 'Class', 'index_col': None}}\n",
    "    dataset, classes = load_dataset(dataset_name,\n",
    "                                    **params[dataset_name])\n",
    "    y = dataset.pop('class')\n",
    "    X = dataset\n",
    "    return X, y, classes"
   ]
  },
  {
   "cell_type": "markdown",
   "metadata": {},
   "source": [
    "Skorzystamy ze zbioru diabets:"
   ]
  },
  {
   "cell_type": "code",
   "execution_count": 3,
   "metadata": {},
   "outputs": [],
   "source": [
    "X,y,classes = prepare_dataset('diabetes')"
   ]
  },
  {
   "cell_type": "code",
   "execution_count": 4,
   "metadata": {},
   "outputs": [
    {
     "data": {
      "text/html": [
       "<div>\n",
       "<style scoped>\n",
       "    .dataframe tbody tr th:only-of-type {\n",
       "        vertical-align: middle;\n",
       "    }\n",
       "\n",
       "    .dataframe tbody tr th {\n",
       "        vertical-align: top;\n",
       "    }\n",
       "\n",
       "    .dataframe thead th {\n",
       "        text-align: right;\n",
       "    }\n",
       "</style>\n",
       "<table border=\"1\" class=\"dataframe\">\n",
       "  <thead>\n",
       "    <tr style=\"text-align: right;\">\n",
       "      <th></th>\n",
       "      <th>Number of times pregnant</th>\n",
       "      <th>Plasma glucose concentration</th>\n",
       "      <th>Diastolic blood pressure</th>\n",
       "      <th>Triceps skin fold thickness</th>\n",
       "      <th>2-Hour serum insulin</th>\n",
       "      <th>Body mass index</th>\n",
       "      <th>Diabetes pedigree function</th>\n",
       "      <th>Age</th>\n",
       "    </tr>\n",
       "  </thead>\n",
       "  <tbody>\n",
       "    <tr>\n",
       "      <th>0</th>\n",
       "      <td>6</td>\n",
       "      <td>148</td>\n",
       "      <td>72</td>\n",
       "      <td>35</td>\n",
       "      <td>0</td>\n",
       "      <td>33.6</td>\n",
       "      <td>0.627</td>\n",
       "      <td>50</td>\n",
       "    </tr>\n",
       "    <tr>\n",
       "      <th>1</th>\n",
       "      <td>1</td>\n",
       "      <td>85</td>\n",
       "      <td>66</td>\n",
       "      <td>29</td>\n",
       "      <td>0</td>\n",
       "      <td>26.6</td>\n",
       "      <td>0.351</td>\n",
       "      <td>31</td>\n",
       "    </tr>\n",
       "    <tr>\n",
       "      <th>2</th>\n",
       "      <td>8</td>\n",
       "      <td>183</td>\n",
       "      <td>64</td>\n",
       "      <td>0</td>\n",
       "      <td>0</td>\n",
       "      <td>23.3</td>\n",
       "      <td>0.672</td>\n",
       "      <td>32</td>\n",
       "    </tr>\n",
       "    <tr>\n",
       "      <th>3</th>\n",
       "      <td>1</td>\n",
       "      <td>89</td>\n",
       "      <td>66</td>\n",
       "      <td>23</td>\n",
       "      <td>94</td>\n",
       "      <td>28.1</td>\n",
       "      <td>0.167</td>\n",
       "      <td>21</td>\n",
       "    </tr>\n",
       "    <tr>\n",
       "      <th>4</th>\n",
       "      <td>0</td>\n",
       "      <td>137</td>\n",
       "      <td>40</td>\n",
       "      <td>35</td>\n",
       "      <td>168</td>\n",
       "      <td>43.1</td>\n",
       "      <td>2.288</td>\n",
       "      <td>33</td>\n",
       "    </tr>\n",
       "  </tbody>\n",
       "</table>\n",
       "</div>"
      ],
      "text/plain": [
       "   Number of times pregnant  Plasma glucose concentration  \\\n",
       "0                         6                           148   \n",
       "1                         1                            85   \n",
       "2                         8                           183   \n",
       "3                         1                            89   \n",
       "4                         0                           137   \n",
       "\n",
       "   Diastolic blood pressure  Triceps skin fold thickness  \\\n",
       "0                        72                           35   \n",
       "1                        66                           29   \n",
       "2                        64                            0   \n",
       "3                        66                           23   \n",
       "4                        40                           35   \n",
       "\n",
       "   2-Hour serum insulin  Body mass index  Diabetes pedigree function  Age  \n",
       "0                     0             33.6                       0.627   50  \n",
       "1                     0             26.6                       0.351   31  \n",
       "2                     0             23.3                       0.672   32  \n",
       "3                    94             28.1                       0.167   21  \n",
       "4                   168             43.1                       2.288   33  "
      ]
     },
     "execution_count": 4,
     "metadata": {},
     "output_type": "execute_result"
    }
   ],
   "source": [
    "X.head()"
   ]
  },
  {
   "cell_type": "code",
   "execution_count": 5,
   "metadata": {},
   "outputs": [
    {
     "data": {
      "text/plain": [
       "0    500\n",
       "1    268\n",
       "Name: class, dtype: int64"
      ]
     },
     "execution_count": 5,
     "metadata": {},
     "output_type": "execute_result"
    }
   ],
   "source": [
    "y.value_counts()"
   ]
  },
  {
   "cell_type": "markdown",
   "metadata": {},
   "source": [
    "Podejrzyjmy co to za zbiór:"
   ]
  },
  {
   "cell_type": "code",
   "execution_count": 6,
   "metadata": {},
   "outputs": [
    {
     "data": {
      "text/plain": [
       "array(['positive', 'negative'], dtype=object)"
      ]
     },
     "execution_count": 6,
     "metadata": {},
     "output_type": "execute_result"
    }
   ],
   "source": [
    "classes"
   ]
  },
  {
   "cell_type": "code",
   "execution_count": 7,
   "metadata": {},
   "outputs": [
    {
     "data": {
      "text/html": [
       "<div>\n",
       "<style scoped>\n",
       "    .dataframe tbody tr th:only-of-type {\n",
       "        vertical-align: middle;\n",
       "    }\n",
       "\n",
       "    .dataframe tbody tr th {\n",
       "        vertical-align: top;\n",
       "    }\n",
       "\n",
       "    .dataframe thead th {\n",
       "        text-align: right;\n",
       "    }\n",
       "</style>\n",
       "<table border=\"1\" class=\"dataframe\">\n",
       "  <thead>\n",
       "    <tr style=\"text-align: right;\">\n",
       "      <th></th>\n",
       "      <th>Number of times pregnant</th>\n",
       "      <th>Plasma glucose concentration</th>\n",
       "      <th>Diastolic blood pressure</th>\n",
       "      <th>Triceps skin fold thickness</th>\n",
       "      <th>2-Hour serum insulin</th>\n",
       "      <th>Body mass index</th>\n",
       "      <th>Diabetes pedigree function</th>\n",
       "      <th>Age</th>\n",
       "    </tr>\n",
       "  </thead>\n",
       "  <tbody>\n",
       "    <tr>\n",
       "      <th>count</th>\n",
       "      <td>768.000000</td>\n",
       "      <td>768.000000</td>\n",
       "      <td>768.000000</td>\n",
       "      <td>768.000000</td>\n",
       "      <td>768.000000</td>\n",
       "      <td>768.000000</td>\n",
       "      <td>768.000000</td>\n",
       "      <td>768.000000</td>\n",
       "    </tr>\n",
       "    <tr>\n",
       "      <th>mean</th>\n",
       "      <td>3.845052</td>\n",
       "      <td>120.894531</td>\n",
       "      <td>69.105469</td>\n",
       "      <td>20.536458</td>\n",
       "      <td>79.799479</td>\n",
       "      <td>31.992578</td>\n",
       "      <td>0.471876</td>\n",
       "      <td>33.240885</td>\n",
       "    </tr>\n",
       "    <tr>\n",
       "      <th>std</th>\n",
       "      <td>3.369578</td>\n",
       "      <td>31.972618</td>\n",
       "      <td>19.355807</td>\n",
       "      <td>15.952218</td>\n",
       "      <td>115.244002</td>\n",
       "      <td>7.884160</td>\n",
       "      <td>0.331329</td>\n",
       "      <td>11.760232</td>\n",
       "    </tr>\n",
       "    <tr>\n",
       "      <th>min</th>\n",
       "      <td>0.000000</td>\n",
       "      <td>0.000000</td>\n",
       "      <td>0.000000</td>\n",
       "      <td>0.000000</td>\n",
       "      <td>0.000000</td>\n",
       "      <td>0.000000</td>\n",
       "      <td>0.078000</td>\n",
       "      <td>21.000000</td>\n",
       "    </tr>\n",
       "    <tr>\n",
       "      <th>25%</th>\n",
       "      <td>1.000000</td>\n",
       "      <td>99.000000</td>\n",
       "      <td>62.000000</td>\n",
       "      <td>0.000000</td>\n",
       "      <td>0.000000</td>\n",
       "      <td>27.300000</td>\n",
       "      <td>0.243750</td>\n",
       "      <td>24.000000</td>\n",
       "    </tr>\n",
       "    <tr>\n",
       "      <th>50%</th>\n",
       "      <td>3.000000</td>\n",
       "      <td>117.000000</td>\n",
       "      <td>72.000000</td>\n",
       "      <td>23.000000</td>\n",
       "      <td>30.500000</td>\n",
       "      <td>32.000000</td>\n",
       "      <td>0.372500</td>\n",
       "      <td>29.000000</td>\n",
       "    </tr>\n",
       "    <tr>\n",
       "      <th>75%</th>\n",
       "      <td>6.000000</td>\n",
       "      <td>140.250000</td>\n",
       "      <td>80.000000</td>\n",
       "      <td>32.000000</td>\n",
       "      <td>127.250000</td>\n",
       "      <td>36.600000</td>\n",
       "      <td>0.626250</td>\n",
       "      <td>41.000000</td>\n",
       "    </tr>\n",
       "    <tr>\n",
       "      <th>max</th>\n",
       "      <td>17.000000</td>\n",
       "      <td>199.000000</td>\n",
       "      <td>122.000000</td>\n",
       "      <td>99.000000</td>\n",
       "      <td>846.000000</td>\n",
       "      <td>67.100000</td>\n",
       "      <td>2.420000</td>\n",
       "      <td>81.000000</td>\n",
       "    </tr>\n",
       "  </tbody>\n",
       "</table>\n",
       "</div>"
      ],
      "text/plain": [
       "       Number of times pregnant  Plasma glucose concentration  \\\n",
       "count                768.000000                    768.000000   \n",
       "mean                   3.845052                    120.894531   \n",
       "std                    3.369578                     31.972618   \n",
       "min                    0.000000                      0.000000   \n",
       "25%                    1.000000                     99.000000   \n",
       "50%                    3.000000                    117.000000   \n",
       "75%                    6.000000                    140.250000   \n",
       "max                   17.000000                    199.000000   \n",
       "\n",
       "       Diastolic blood pressure  Triceps skin fold thickness  \\\n",
       "count                768.000000                   768.000000   \n",
       "mean                  69.105469                    20.536458   \n",
       "std                   19.355807                    15.952218   \n",
       "min                    0.000000                     0.000000   \n",
       "25%                   62.000000                     0.000000   \n",
       "50%                   72.000000                    23.000000   \n",
       "75%                   80.000000                    32.000000   \n",
       "max                  122.000000                    99.000000   \n",
       "\n",
       "       2-Hour serum insulin  Body mass index  Diabetes pedigree function  \\\n",
       "count            768.000000       768.000000                  768.000000   \n",
       "mean              79.799479        31.992578                    0.471876   \n",
       "std              115.244002         7.884160                    0.331329   \n",
       "min                0.000000         0.000000                    0.078000   \n",
       "25%                0.000000        27.300000                    0.243750   \n",
       "50%               30.500000        32.000000                    0.372500   \n",
       "75%              127.250000        36.600000                    0.626250   \n",
       "max              846.000000        67.100000                    2.420000   \n",
       "\n",
       "              Age  \n",
       "count  768.000000  \n",
       "mean    33.240885  \n",
       "std     11.760232  \n",
       "min     21.000000  \n",
       "25%     24.000000  \n",
       "50%     29.000000  \n",
       "75%     41.000000  \n",
       "max     81.000000  "
      ]
     },
     "execution_count": 7,
     "metadata": {},
     "output_type": "execute_result"
    }
   ],
   "source": [
    "X.describe()"
   ]
  },
  {
   "cell_type": "code",
   "execution_count": 8,
   "metadata": {},
   "outputs": [
    {
     "data": {
      "text/plain": [
       "Number of times pregnant        0\n",
       "Plasma glucose concentration    0\n",
       "Diastolic blood pressure        0\n",
       "Triceps skin fold thickness     0\n",
       "2-Hour serum insulin            0\n",
       "Body mass index                 0\n",
       "Diabetes pedigree function      0\n",
       "Age                             0\n",
       "dtype: int64"
      ]
     },
     "execution_count": 8,
     "metadata": {},
     "output_type": "execute_result"
    }
   ],
   "source": [
    "X.isna().sum()"
   ]
  },
  {
   "cell_type": "markdown",
   "metadata": {
    "id": "1oF3uBDMgq_h"
   },
   "source": [
    "Dzielimy dataset na zbiory treningowy i testowy"
   ]
  },
  {
   "cell_type": "code",
   "execution_count": 9,
   "metadata": {},
   "outputs": [],
   "source": [
    "from sklearn.model_selection import train_test_split\n",
    "\n",
    "X_train, X_test, y_train, y_test = train_test_split(X,y, stratify = y)"
   ]
  },
  {
   "cell_type": "code",
   "execution_count": 10,
   "metadata": {},
   "outputs": [
    {
     "name": "stdout",
     "output_type": "stream",
     "text": [
      "0    375\n",
      "1    201\n",
      "Name: class, dtype: int64\n",
      "0    125\n",
      "1     67\n",
      "Name: class, dtype: int64\n"
     ]
    }
   ],
   "source": [
    "print(y_train.value_counts())\n",
    "print(y_test.value_counts())"
   ]
  },
  {
   "cell_type": "markdown",
   "metadata": {},
   "source": [
    "Dzielenie ze stratyfikacją (parametry stratify = ) zapewnia, że udział obserwacji z danej zmiennej (w tym wypadku y) jest w obu zbiorach (train i test) taki sam. "
   ]
  },
  {
   "cell_type": "code",
   "execution_count": 11,
   "metadata": {},
   "outputs": [
    {
     "data": {
      "text/plain": [
       "0.536"
      ]
     },
     "execution_count": 11,
     "metadata": {},
     "output_type": "execute_result"
    }
   ],
   "source": [
    "67/125"
   ]
  },
  {
   "cell_type": "code",
   "execution_count": 12,
   "metadata": {},
   "outputs": [
    {
     "data": {
      "text/plain": [
       "0.536"
      ]
     },
     "execution_count": 12,
     "metadata": {},
     "output_type": "execute_result"
    }
   ],
   "source": [
    "201/375"
   ]
  },
  {
   "cell_type": "markdown",
   "metadata": {
    "id": "IekQwULKgq_h"
   },
   "source": [
    "Trenujemy model na danych treningowych:"
   ]
  },
  {
   "cell_type": "code",
   "execution_count": 13,
   "metadata": {},
   "outputs": [
    {
     "data": {
      "text/html": [
       "<style>#sk-container-id-1 {color: black;background-color: white;}#sk-container-id-1 pre{padding: 0;}#sk-container-id-1 div.sk-toggleable {background-color: white;}#sk-container-id-1 label.sk-toggleable__label {cursor: pointer;display: block;width: 100%;margin-bottom: 0;padding: 0.3em;box-sizing: border-box;text-align: center;}#sk-container-id-1 label.sk-toggleable__label-arrow:before {content: \"▸\";float: left;margin-right: 0.25em;color: #696969;}#sk-container-id-1 label.sk-toggleable__label-arrow:hover:before {color: black;}#sk-container-id-1 div.sk-estimator:hover label.sk-toggleable__label-arrow:before {color: black;}#sk-container-id-1 div.sk-toggleable__content {max-height: 0;max-width: 0;overflow: hidden;text-align: left;background-color: #f0f8ff;}#sk-container-id-1 div.sk-toggleable__content pre {margin: 0.2em;color: black;border-radius: 0.25em;background-color: #f0f8ff;}#sk-container-id-1 input.sk-toggleable__control:checked~div.sk-toggleable__content {max-height: 200px;max-width: 100%;overflow: auto;}#sk-container-id-1 input.sk-toggleable__control:checked~label.sk-toggleable__label-arrow:before {content: \"▾\";}#sk-container-id-1 div.sk-estimator input.sk-toggleable__control:checked~label.sk-toggleable__label {background-color: #d4ebff;}#sk-container-id-1 div.sk-label input.sk-toggleable__control:checked~label.sk-toggleable__label {background-color: #d4ebff;}#sk-container-id-1 input.sk-hidden--visually {border: 0;clip: rect(1px 1px 1px 1px);clip: rect(1px, 1px, 1px, 1px);height: 1px;margin: -1px;overflow: hidden;padding: 0;position: absolute;width: 1px;}#sk-container-id-1 div.sk-estimator {font-family: monospace;background-color: #f0f8ff;border: 1px dotted black;border-radius: 0.25em;box-sizing: border-box;margin-bottom: 0.5em;}#sk-container-id-1 div.sk-estimator:hover {background-color: #d4ebff;}#sk-container-id-1 div.sk-parallel-item::after {content: \"\";width: 100%;border-bottom: 1px solid gray;flex-grow: 1;}#sk-container-id-1 div.sk-label:hover label.sk-toggleable__label {background-color: #d4ebff;}#sk-container-id-1 div.sk-serial::before {content: \"\";position: absolute;border-left: 1px solid gray;box-sizing: border-box;top: 0;bottom: 0;left: 50%;z-index: 0;}#sk-container-id-1 div.sk-serial {display: flex;flex-direction: column;align-items: center;background-color: white;padding-right: 0.2em;padding-left: 0.2em;position: relative;}#sk-container-id-1 div.sk-item {position: relative;z-index: 1;}#sk-container-id-1 div.sk-parallel {display: flex;align-items: stretch;justify-content: center;background-color: white;position: relative;}#sk-container-id-1 div.sk-item::before, #sk-container-id-1 div.sk-parallel-item::before {content: \"\";position: absolute;border-left: 1px solid gray;box-sizing: border-box;top: 0;bottom: 0;left: 50%;z-index: -1;}#sk-container-id-1 div.sk-parallel-item {display: flex;flex-direction: column;z-index: 1;position: relative;background-color: white;}#sk-container-id-1 div.sk-parallel-item:first-child::after {align-self: flex-end;width: 50%;}#sk-container-id-1 div.sk-parallel-item:last-child::after {align-self: flex-start;width: 50%;}#sk-container-id-1 div.sk-parallel-item:only-child::after {width: 0;}#sk-container-id-1 div.sk-dashed-wrapped {border: 1px dashed gray;margin: 0 0.4em 0.5em 0.4em;box-sizing: border-box;padding-bottom: 0.4em;background-color: white;}#sk-container-id-1 div.sk-label label {font-family: monospace;font-weight: bold;display: inline-block;line-height: 1.2em;}#sk-container-id-1 div.sk-label-container {text-align: center;}#sk-container-id-1 div.sk-container {/* jupyter's `normalize.less` sets `[hidden] { display: none; }` but bootstrap.min.css set `[hidden] { display: none !important; }` so we also need the `!important` here to be able to override the default hidden behavior on the sphinx rendered scikit-learn.org. See: https://github.com/scikit-learn/scikit-learn/issues/21755 */display: inline-block !important;position: relative;}#sk-container-id-1 div.sk-text-repr-fallback {display: none;}</style><div id=\"sk-container-id-1\" class=\"sk-top-container\"><div class=\"sk-text-repr-fallback\"><pre>LogisticRegression(max_iter=500, random_state=30)</pre><b>In a Jupyter environment, please rerun this cell to show the HTML representation or trust the notebook. <br />On GitHub, the HTML representation is unable to render, please try loading this page with nbviewer.org.</b></div><div class=\"sk-container\" hidden><div class=\"sk-item\"><div class=\"sk-estimator sk-toggleable\"><input class=\"sk-toggleable__control sk-hidden--visually\" id=\"sk-estimator-id-1\" type=\"checkbox\" checked><label for=\"sk-estimator-id-1\" class=\"sk-toggleable__label sk-toggleable__label-arrow\">LogisticRegression</label><div class=\"sk-toggleable__content\"><pre>LogisticRegression(max_iter=500, random_state=30)</pre></div></div></div></div></div>"
      ],
      "text/plain": [
       "LogisticRegression(max_iter=500, random_state=30)"
      ]
     },
     "execution_count": 13,
     "metadata": {},
     "output_type": "execute_result"
    }
   ],
   "source": [
    "from sklearn.linear_model import LogisticRegression\n",
    "\n",
    "model = LogisticRegression(random_state=30, max_iter=500)\n",
    "model.fit(X_train, y_train)"
   ]
  },
  {
   "cell_type": "code",
   "execution_count": 14,
   "metadata": {},
   "outputs": [],
   "source": [
    "y_pred = model.predict(X_test)\n",
    "y_pred_train = model.predict(X_train)"
   ]
  },
  {
   "cell_type": "markdown",
   "metadata": {},
   "source": [
    "Stwórzmy następnie macierz pomyłek i wyliczmy miary jakości klasyfikacji:"
   ]
  },
  {
   "cell_type": "code",
   "execution_count": 15,
   "metadata": {},
   "outputs": [
    {
     "data": {
      "image/png": "[encoded data removed]",
      "text/plain": [
       "<Figure size 640x480 with 2 Axes>"
      ]
     },
     "metadata": {},
     "output_type": "display_data"
    },
    {
     "data": {
      "image/png": "[encoded data removed]",
      "text/plain": [
       "<Figure size 640x480 with 2 Axes>"
      ]
     },
     "metadata": {},
     "output_type": "display_data"
    }
   ],
   "source": [
    "from sklearn.metrics import confusion_matrix\n",
    "\n",
    "cm = confusion_matrix(y_test, y_pred)\n",
    "cm_train = confusion_matrix(y_train, y_pred_train)\n",
    "\n",
    "import matplotlib.pyplot as plt\n",
    "import seaborn as sns\n",
    "\n",
    "sns.heatmap(cm_train, annot = True, fmt = 'd')\n",
    "plt.show()\n",
    "\n",
    "sns.heatmap(cm, annot = True, fmt = 'd')\n",
    "plt.show()"
   ]
  },
  {
   "cell_type": "code",
   "execution_count": 16,
   "metadata": {},
   "outputs": [
    {
     "name": "stdout",
     "output_type": "stream",
     "text": [
      "F-Score train: 0.6467391304347826, F-Score test: 0.5714285714285714\n"
     ]
    }
   ],
   "source": [
    "from sklearn.metrics import f1_score\n",
    "print(f'F-Score train: {f1_score(y_train, y_pred_train)}, F-Score test: {f1_score(y_test, y_pred)}')"
   ]
  },
  {
   "cell_type": "markdown",
   "metadata": {
    "id": "DbdpY_8wgq_j"
   },
   "source": [
    "Możemy też obliczyć wartości pozostałych metryk klasyfikacji korzystając z wbudowanych funkcji."
   ]
  },
  {
   "cell_type": "markdown",
   "metadata": {},
   "source": [
    "Sprawdzenie też czy model jest przetrenowany:"
   ]
  },
  {
   "cell_type": "code",
   "execution_count": 17,
   "metadata": {},
   "outputs": [],
   "source": [
    "from sklearn.metrics import accuracy_score, recall_score, precision_score\n",
    "\n",
    "accuracy_train = accuracy_score(y_train, y_pred_train)\n",
    "accuracy_test = accuracy_score(y_test, y_pred)\n",
    "\n",
    "recall_train = recall_score(y_train, y_pred_train)\n",
    "recall_test = recall_score(y_test, y_pred)\n",
    "\n",
    "precision_train = precision_score(y_train, y_pred_train)\n",
    "precision_test = precision_score(y_test, y_pred)\n",
    "\n",
    "f1_train = f1_score(y_train, y_pred_train)\n",
    "f1_test = f1_score(y_test, y_pred)"
   ]
  },
  {
   "cell_type": "code",
   "execution_count": 18,
   "metadata": {},
   "outputs": [],
   "source": [
    "df_dict = {'train':[accuracy_train, precision_train, recall_train, f1_train],\n",
    "          'test': [accuracy_test, precision_test, recall_test, f1_test]}\n",
    "\n",
    "df = pd.DataFrame\\\n",
    ".from_dict(df_dict,\n",
    "           orient = 'index',\n",
    "           columns = ['accuracy', 'precision', 'recall', 'f-score'])\\\n",
    ".reset_index()\\\n",
    ".melt(id_vars = 'index', var_name = 'metric')"
   ]
  },
  {
   "cell_type": "code",
   "execution_count": 19,
   "metadata": {},
   "outputs": [
    {
     "data": {
      "text/html": [
       "<div>\n",
       "<style scoped>\n",
       "    .dataframe tbody tr th:only-of-type {\n",
       "        vertical-align: middle;\n",
       "    }\n",
       "\n",
       "    .dataframe tbody tr th {\n",
       "        vertical-align: top;\n",
       "    }\n",
       "\n",
       "    .dataframe thead th {\n",
       "        text-align: right;\n",
       "    }\n",
       "</style>\n",
       "<table border=\"1\" class=\"dataframe\">\n",
       "  <thead>\n",
       "    <tr style=\"text-align: right;\">\n",
       "      <th></th>\n",
       "      <th>index</th>\n",
       "      <th>metric</th>\n",
       "      <th>value</th>\n",
       "    </tr>\n",
       "  </thead>\n",
       "  <tbody>\n",
       "    <tr>\n",
       "      <th>0</th>\n",
       "      <td>train</td>\n",
       "      <td>accuracy</td>\n",
       "      <td>0.774306</td>\n",
       "    </tr>\n",
       "    <tr>\n",
       "      <th>1</th>\n",
       "      <td>test</td>\n",
       "      <td>accuracy</td>\n",
       "      <td>0.750000</td>\n",
       "    </tr>\n",
       "    <tr>\n",
       "      <th>2</th>\n",
       "      <td>train</td>\n",
       "      <td>precision</td>\n",
       "      <td>0.712575</td>\n",
       "    </tr>\n",
       "    <tr>\n",
       "      <th>3</th>\n",
       "      <td>test</td>\n",
       "      <td>precision</td>\n",
       "      <td>0.711111</td>\n",
       "    </tr>\n",
       "    <tr>\n",
       "      <th>4</th>\n",
       "      <td>train</td>\n",
       "      <td>recall</td>\n",
       "      <td>0.592040</td>\n",
       "    </tr>\n",
       "    <tr>\n",
       "      <th>5</th>\n",
       "      <td>test</td>\n",
       "      <td>recall</td>\n",
       "      <td>0.477612</td>\n",
       "    </tr>\n",
       "    <tr>\n",
       "      <th>6</th>\n",
       "      <td>train</td>\n",
       "      <td>f-score</td>\n",
       "      <td>0.646739</td>\n",
       "    </tr>\n",
       "    <tr>\n",
       "      <th>7</th>\n",
       "      <td>test</td>\n",
       "      <td>f-score</td>\n",
       "      <td>0.571429</td>\n",
       "    </tr>\n",
       "  </tbody>\n",
       "</table>\n",
       "</div>"
      ],
      "text/plain": [
       "   index     metric     value\n",
       "0  train   accuracy  0.774306\n",
       "1   test   accuracy  0.750000\n",
       "2  train  precision  0.712575\n",
       "3   test  precision  0.711111\n",
       "4  train     recall  0.592040\n",
       "5   test     recall  0.477612\n",
       "6  train    f-score  0.646739\n",
       "7   test    f-score  0.571429"
      ]
     },
     "execution_count": 19,
     "metadata": {},
     "output_type": "execute_result"
    }
   ],
   "source": [
    "df"
   ]
  },
  {
   "cell_type": "markdown",
   "metadata": {
    "id": "qDd9Padsgq_k"
   },
   "source": [
    "Możemy jeszcze spróbować wyświetlić to w formie wykresu."
   ]
  },
  {
   "cell_type": "code",
   "execution_count": 20,
   "metadata": {},
   "outputs": [
    {
     "data": {
      "image/png": "[encoded data removed]",
      "text/plain": [
       "<Figure size 640x480 with 1 Axes>"
      ]
     },
     "metadata": {},
     "output_type": "display_data"
    }
   ],
   "source": [
    "sns.barplot(x='metric', y = 'value', hue = 'index', data =df);"
   ]
  },
  {
   "cell_type": "markdown",
   "metadata": {
    "id": "9APIzov6gq_l"
   },
   "source": [
    "Możemy też regresję logistyczną zastosować dla zbiorów o wielu etykietach. Stosujemy wówczas strategię One versus Rest (trenujemy tyle klasyfikatorów, ile mamy klas) - sklearn robi to automatycznie."
   ]
  },
  {
   "cell_type": "code",
   "execution_count": 21,
   "metadata": {},
   "outputs": [],
   "source": [
    "X, y, classes = prepare_dataset('iris')\n",
    "X_train, X_test, y_train, y_test = train_test_split(X,y, stratify=y, test_size=0.3, random_state=30)"
   ]
  },
  {
   "cell_type": "code",
   "execution_count": 22,
   "metadata": {},
   "outputs": [
    {
     "data": {
      "text/plain": [
       "0    50\n",
       "1    50\n",
       "2    50\n",
       "Name: class, dtype: int64"
      ]
     },
     "execution_count": 22,
     "metadata": {},
     "output_type": "execute_result"
    }
   ],
   "source": [
    "y.value_counts()"
   ]
  },
  {
   "cell_type": "code",
   "execution_count": 23,
   "metadata": {},
   "outputs": [
    {
     "data": {
      "text/html": [
       "<div>\n",
       "<style scoped>\n",
       "    .dataframe tbody tr th:only-of-type {\n",
       "        vertical-align: middle;\n",
       "    }\n",
       "\n",
       "    .dataframe tbody tr th {\n",
       "        vertical-align: top;\n",
       "    }\n",
       "\n",
       "    .dataframe thead th {\n",
       "        text-align: right;\n",
       "    }\n",
       "</style>\n",
       "<table border=\"1\" class=\"dataframe\">\n",
       "  <thead>\n",
       "    <tr style=\"text-align: right;\">\n",
       "      <th></th>\n",
       "      <th>sepal length</th>\n",
       "      <th>sepal width</th>\n",
       "      <th>petal length</th>\n",
       "      <th>petal width</th>\n",
       "    </tr>\n",
       "  </thead>\n",
       "  <tbody>\n",
       "    <tr>\n",
       "      <th>0</th>\n",
       "      <td>5.1</td>\n",
       "      <td>3.5</td>\n",
       "      <td>1.4</td>\n",
       "      <td>0.2</td>\n",
       "    </tr>\n",
       "    <tr>\n",
       "      <th>1</th>\n",
       "      <td>4.9</td>\n",
       "      <td>3.0</td>\n",
       "      <td>1.4</td>\n",
       "      <td>0.2</td>\n",
       "    </tr>\n",
       "    <tr>\n",
       "      <th>2</th>\n",
       "      <td>4.7</td>\n",
       "      <td>3.2</td>\n",
       "      <td>1.3</td>\n",
       "      <td>0.2</td>\n",
       "    </tr>\n",
       "    <tr>\n",
       "      <th>3</th>\n",
       "      <td>4.6</td>\n",
       "      <td>3.1</td>\n",
       "      <td>1.5</td>\n",
       "      <td>0.2</td>\n",
       "    </tr>\n",
       "    <tr>\n",
       "      <th>4</th>\n",
       "      <td>5.0</td>\n",
       "      <td>3.6</td>\n",
       "      <td>1.4</td>\n",
       "      <td>0.2</td>\n",
       "    </tr>\n",
       "  </tbody>\n",
       "</table>\n",
       "</div>"
      ],
      "text/plain": [
       "   sepal length  sepal width  petal length  petal width\n",
       "0           5.1          3.5           1.4          0.2\n",
       "1           4.9          3.0           1.4          0.2\n",
       "2           4.7          3.2           1.3          0.2\n",
       "3           4.6          3.1           1.5          0.2\n",
       "4           5.0          3.6           1.4          0.2"
      ]
     },
     "execution_count": 23,
     "metadata": {},
     "output_type": "execute_result"
    }
   ],
   "source": [
    "X.head()"
   ]
  },
  {
   "cell_type": "code",
   "execution_count": 24,
   "metadata": {},
   "outputs": [
    {
     "data": {
      "text/html": [
       "<style>#sk-container-id-2 {color: black;background-color: white;}#sk-container-id-2 pre{padding: 0;}#sk-container-id-2 div.sk-toggleable {background-color: white;}#sk-container-id-2 label.sk-toggleable__label {cursor: pointer;display: block;width: 100%;margin-bottom: 0;padding: 0.3em;box-sizing: border-box;text-align: center;}#sk-container-id-2 label.sk-toggleable__label-arrow:before {content: \"▸\";float: left;margin-right: 0.25em;color: #696969;}#sk-container-id-2 label.sk-toggleable__label-arrow:hover:before {color: black;}#sk-container-id-2 div.sk-estimator:hover label.sk-toggleable__label-arrow:before {color: black;}#sk-container-id-2 div.sk-toggleable__content {max-height: 0;max-width: 0;overflow: hidden;text-align: left;background-color: #f0f8ff;}#sk-container-id-2 div.sk-toggleable__content pre {margin: 0.2em;color: black;border-radius: 0.25em;background-color: #f0f8ff;}#sk-container-id-2 input.sk-toggleable__control:checked~div.sk-toggleable__content {max-height: 200px;max-width: 100%;overflow: auto;}#sk-container-id-2 input.sk-toggleable__control:checked~label.sk-toggleable__label-arrow:before {content: \"▾\";}#sk-container-id-2 div.sk-estimator input.sk-toggleable__control:checked~label.sk-toggleable__label {background-color: #d4ebff;}#sk-container-id-2 div.sk-label input.sk-toggleable__control:checked~label.sk-toggleable__label {background-color: #d4ebff;}#sk-container-id-2 input.sk-hidden--visually {border: 0;clip: rect(1px 1px 1px 1px);clip: rect(1px, 1px, 1px, 1px);height: 1px;margin: -1px;overflow: hidden;padding: 0;position: absolute;width: 1px;}#sk-container-id-2 div.sk-estimator {font-family: monospace;background-color: #f0f8ff;border: 1px dotted black;border-radius: 0.25em;box-sizing: border-box;margin-bottom: 0.5em;}#sk-container-id-2 div.sk-estimator:hover {background-color: #d4ebff;}#sk-container-id-2 div.sk-parallel-item::after {content: \"\";width: 100%;border-bottom: 1px solid gray;flex-grow: 1;}#sk-container-id-2 div.sk-label:hover label.sk-toggleable__label {background-color: #d4ebff;}#sk-container-id-2 div.sk-serial::before {content: \"\";position: absolute;border-left: 1px solid gray;box-sizing: border-box;top: 0;bottom: 0;left: 50%;z-index: 0;}#sk-container-id-2 div.sk-serial {display: flex;flex-direction: column;align-items: center;background-color: white;padding-right: 0.2em;padding-left: 0.2em;position: relative;}#sk-container-id-2 div.sk-item {position: relative;z-index: 1;}#sk-container-id-2 div.sk-parallel {display: flex;align-items: stretch;justify-content: center;background-color: white;position: relative;}#sk-container-id-2 div.sk-item::before, #sk-container-id-2 div.sk-parallel-item::before {content: \"\";position: absolute;border-left: 1px solid gray;box-sizing: border-box;top: 0;bottom: 0;left: 50%;z-index: -1;}#sk-container-id-2 div.sk-parallel-item {display: flex;flex-direction: column;z-index: 1;position: relative;background-color: white;}#sk-container-id-2 div.sk-parallel-item:first-child::after {align-self: flex-end;width: 50%;}#sk-container-id-2 div.sk-parallel-item:last-child::after {align-self: flex-start;width: 50%;}#sk-container-id-2 div.sk-parallel-item:only-child::after {width: 0;}#sk-container-id-2 div.sk-dashed-wrapped {border: 1px dashed gray;margin: 0 0.4em 0.5em 0.4em;box-sizing: border-box;padding-bottom: 0.4em;background-color: white;}#sk-container-id-2 div.sk-label label {font-family: monospace;font-weight: bold;display: inline-block;line-height: 1.2em;}#sk-container-id-2 div.sk-label-container {text-align: center;}#sk-container-id-2 div.sk-container {/* jupyter's `normalize.less` sets `[hidden] { display: none; }` but bootstrap.min.css set `[hidden] { display: none !important; }` so we also need the `!important` here to be able to override the default hidden behavior on the sphinx rendered scikit-learn.org. See: https://github.com/scikit-learn/scikit-learn/issues/21755 */display: inline-block !important;position: relative;}#sk-container-id-2 div.sk-text-repr-fallback {display: none;}</style><div id=\"sk-container-id-2\" class=\"sk-top-container\"><div class=\"sk-text-repr-fallback\"><pre>LogisticRegression()</pre><b>In a Jupyter environment, please rerun this cell to show the HTML representation or trust the notebook. <br />On GitHub, the HTML representation is unable to render, please try loading this page with nbviewer.org.</b></div><div class=\"sk-container\" hidden><div class=\"sk-item\"><div class=\"sk-estimator sk-toggleable\"><input class=\"sk-toggleable__control sk-hidden--visually\" id=\"sk-estimator-id-2\" type=\"checkbox\" checked><label for=\"sk-estimator-id-2\" class=\"sk-toggleable__label sk-toggleable__label-arrow\">LogisticRegression</label><div class=\"sk-toggleable__content\"><pre>LogisticRegression()</pre></div></div></div></div></div>"
      ],
      "text/plain": [
       "LogisticRegression()"
      ]
     },
     "execution_count": 24,
     "metadata": {},
     "output_type": "execute_result"
    }
   ],
   "source": [
    "model = LogisticRegression()\n",
    "model.fit(X_train, y_train)"
   ]
  },
  {
   "cell_type": "code",
   "execution_count": 25,
   "metadata": {},
   "outputs": [],
   "source": [
    "y_pred = model.predict(X_test)\n",
    "y_pred_train = model.predict(X_train)"
   ]
  },
  {
   "cell_type": "code",
   "execution_count": 26,
   "metadata": {},
   "outputs": [
    {
     "data": {
      "image/png": "[encoded data removed]",
      "text/plain": [
       "<Figure size 640x480 with 2 Axes>"
      ]
     },
     "metadata": {},
     "output_type": "display_data"
    },
    {
     "data": {
      "image/png": "[encoded data removed]",
      "text/plain": [
       "<Figure size 640x480 with 2 Axes>"
      ]
     },
     "metadata": {},
     "output_type": "display_data"
    }
   ],
   "source": [
    "from sklearn.metrics import confusion_matrix\n",
    "\n",
    "cm = confusion_matrix(y_test, y_pred)\n",
    "cm_train = confusion_matrix(y_train, y_pred_train)\n",
    "\n",
    "import matplotlib.pyplot as plt\n",
    "import seaborn as sns\n",
    "\n",
    "sns.heatmap(cm_train, annot = True, fmt = 'd')\n",
    "plt.show()\n",
    "\n",
    "sns.heatmap(cm, annot = True, fmt = 'd')\n",
    "plt.show()"
   ]
  },
  {
   "cell_type": "code",
   "execution_count": 27,
   "metadata": {},
   "outputs": [
    {
     "data": {
      "text/plain": [
       "array(['Iris-setosa', 'Iris-versicolor', 'Iris-virginica'], dtype=object)"
      ]
     },
     "execution_count": 27,
     "metadata": {},
     "output_type": "execute_result"
    }
   ],
   "source": [
    "classes"
   ]
  },
  {
   "cell_type": "code",
   "execution_count": 28,
   "metadata": {},
   "outputs": [],
   "source": [
    "accuracy_train = accuracy_score(y_train, y_pred_train)\n",
    "accuracy_test = accuracy_score(y_test, y_pred)\n",
    "\n",
    "recall_train = recall_score(y_train, y_pred_train, average='macro')\n",
    "recall_test = recall_score(y_test, y_pred, average='macro')\n",
    "\n",
    "precision_train = precision_score(y_train, y_pred_train, average='macro')\n",
    "precision_test = precision_score(y_test, y_pred, average='macro')\n",
    "\n",
    "f1_train = f1_score(y_train, y_pred_train, average='macro')\n",
    "f1_test = f1_score(y_test, y_pred, average='macro')"
   ]
  },
  {
   "cell_type": "code",
   "execution_count": 29,
   "metadata": {},
   "outputs": [],
   "source": [
    "df_dict = {'train':[accuracy_train, precision_train, recall_train, f1_train],\n",
    "          'test': [accuracy_test, precision_test, recall_test, f1_test]}\n",
    "\n",
    "df = pd.DataFrame\\\n",
    ".from_dict(df_dict,\n",
    "           orient = 'index',\n",
    "           columns = ['accuracy', 'precision', 'recall', 'f-score'])\\\n",
    ".reset_index()\\\n",
    ".melt(id_vars = 'index', var_name = 'metric')"
   ]
  },
  {
   "cell_type": "code",
   "execution_count": 30,
   "metadata": {},
   "outputs": [
    {
     "data": {
      "image/png": "[encoded data removed]",
      "text/plain": [
       "<Figure size 640x480 with 1 Axes>"
      ]
     },
     "metadata": {},
     "output_type": "display_data"
    }
   ],
   "source": [
    "sns.barplot(x='metric', y = 'value', hue = 'index', data =df);"
   ]
  },
  {
   "cell_type": "markdown",
   "metadata": {
    "id": "S4p6LlSLgq_l"
   },
   "source": [
    "**Zadanie:**\n",
    "\n",
    "Dla zbioru danych diabets wytrenuj model regresji logistycznej i narysuj krzywą ROC. Zwróć uwagę na różnice w funkcjach:\n",
    "* predict()\n",
    "* predict_proba()\n",
    "\n",
    "Patrząc na krzywą ROC zastanów się czy model jest dobrze wytrenowany, przetrenowany czy wytrenowany niewystarczająco dobrze."
   ]
  },
  {
   "cell_type": "code",
   "execution_count": 31,
   "metadata": {},
   "outputs": [],
   "source": [
    "X,y,classes = prepare_dataset('diabetes')"
   ]
  },
  {
   "cell_type": "code",
   "execution_count": 32,
   "metadata": {},
   "outputs": [
    {
     "data": {
      "text/html": [
       "<div>\n",
       "<style scoped>\n",
       "    .dataframe tbody tr th:only-of-type {\n",
       "        vertical-align: middle;\n",
       "    }\n",
       "\n",
       "    .dataframe tbody tr th {\n",
       "        vertical-align: top;\n",
       "    }\n",
       "\n",
       "    .dataframe thead th {\n",
       "        text-align: right;\n",
       "    }\n",
       "</style>\n",
       "<table border=\"1\" class=\"dataframe\">\n",
       "  <thead>\n",
       "    <tr style=\"text-align: right;\">\n",
       "      <th></th>\n",
       "      <th>Number of times pregnant</th>\n",
       "      <th>Plasma glucose concentration</th>\n",
       "      <th>Diastolic blood pressure</th>\n",
       "      <th>Triceps skin fold thickness</th>\n",
       "      <th>2-Hour serum insulin</th>\n",
       "      <th>Body mass index</th>\n",
       "      <th>Diabetes pedigree function</th>\n",
       "      <th>Age</th>\n",
       "    </tr>\n",
       "  </thead>\n",
       "  <tbody>\n",
       "    <tr>\n",
       "      <th>0</th>\n",
       "      <td>6</td>\n",
       "      <td>148</td>\n",
       "      <td>72</td>\n",
       "      <td>35</td>\n",
       "      <td>0</td>\n",
       "      <td>33.6</td>\n",
       "      <td>0.627</td>\n",
       "      <td>50</td>\n",
       "    </tr>\n",
       "    <tr>\n",
       "      <th>1</th>\n",
       "      <td>1</td>\n",
       "      <td>85</td>\n",
       "      <td>66</td>\n",
       "      <td>29</td>\n",
       "      <td>0</td>\n",
       "      <td>26.6</td>\n",
       "      <td>0.351</td>\n",
       "      <td>31</td>\n",
       "    </tr>\n",
       "    <tr>\n",
       "      <th>2</th>\n",
       "      <td>8</td>\n",
       "      <td>183</td>\n",
       "      <td>64</td>\n",
       "      <td>0</td>\n",
       "      <td>0</td>\n",
       "      <td>23.3</td>\n",
       "      <td>0.672</td>\n",
       "      <td>32</td>\n",
       "    </tr>\n",
       "    <tr>\n",
       "      <th>3</th>\n",
       "      <td>1</td>\n",
       "      <td>89</td>\n",
       "      <td>66</td>\n",
       "      <td>23</td>\n",
       "      <td>94</td>\n",
       "      <td>28.1</td>\n",
       "      <td>0.167</td>\n",
       "      <td>21</td>\n",
       "    </tr>\n",
       "    <tr>\n",
       "      <th>4</th>\n",
       "      <td>0</td>\n",
       "      <td>137</td>\n",
       "      <td>40</td>\n",
       "      <td>35</td>\n",
       "      <td>168</td>\n",
       "      <td>43.1</td>\n",
       "      <td>2.288</td>\n",
       "      <td>33</td>\n",
       "    </tr>\n",
       "  </tbody>\n",
       "</table>\n",
       "</div>"
      ],
      "text/plain": [
       "   Number of times pregnant  Plasma glucose concentration  \\\n",
       "0                         6                           148   \n",
       "1                         1                            85   \n",
       "2                         8                           183   \n",
       "3                         1                            89   \n",
       "4                         0                           137   \n",
       "\n",
       "   Diastolic blood pressure  Triceps skin fold thickness  \\\n",
       "0                        72                           35   \n",
       "1                        66                           29   \n",
       "2                        64                            0   \n",
       "3                        66                           23   \n",
       "4                        40                           35   \n",
       "\n",
       "   2-Hour serum insulin  Body mass index  Diabetes pedigree function  Age  \n",
       "0                     0             33.6                       0.627   50  \n",
       "1                     0             26.6                       0.351   31  \n",
       "2                     0             23.3                       0.672   32  \n",
       "3                    94             28.1                       0.167   21  \n",
       "4                   168             43.1                       2.288   33  "
      ]
     },
     "execution_count": 32,
     "metadata": {},
     "output_type": "execute_result"
    }
   ],
   "source": [
    "X.head()"
   ]
  },
  {
   "cell_type": "code",
   "execution_count": 33,
   "metadata": {},
   "outputs": [
    {
     "data": {
      "text/plain": [
       "0    1\n",
       "1    0\n",
       "2    1\n",
       "3    0\n",
       "4    1\n",
       "Name: class, dtype: int8"
      ]
     },
     "execution_count": 33,
     "metadata": {},
     "output_type": "execute_result"
    }
   ],
   "source": [
    "y.head()"
   ]
  },
  {
   "cell_type": "code",
   "execution_count": 34,
   "metadata": {},
   "outputs": [],
   "source": [
    "from sklearn.model_selection import train_test_split\n",
    "\n",
    "X_train, X_test, y_train, y_test = train_test_split(X,y, stratify = y)"
   ]
  },
  {
   "cell_type": "code",
   "execution_count": 35,
   "metadata": {},
   "outputs": [
    {
     "data": {
      "text/plain": [
       "576"
      ]
     },
     "execution_count": 35,
     "metadata": {},
     "output_type": "execute_result"
    }
   ],
   "source": [
    "len(X_train)"
   ]
  },
  {
   "cell_type": "code",
   "execution_count": 36,
   "metadata": {},
   "outputs": [
    {
     "data": {
      "text/plain": [
       "192"
      ]
     },
     "execution_count": 36,
     "metadata": {},
     "output_type": "execute_result"
    }
   ],
   "source": [
    "len(X_test)"
   ]
  },
  {
   "cell_type": "code",
   "execution_count": 37,
   "metadata": {},
   "outputs": [
    {
     "data": {
      "text/html": [
       "<div>\n",
       "<style scoped>\n",
       "    .dataframe tbody tr th:only-of-type {\n",
       "        vertical-align: middle;\n",
       "    }\n",
       "\n",
       "    .dataframe tbody tr th {\n",
       "        vertical-align: top;\n",
       "    }\n",
       "\n",
       "    .dataframe thead th {\n",
       "        text-align: right;\n",
       "    }\n",
       "</style>\n",
       "<table border=\"1\" class=\"dataframe\">\n",
       "  <thead>\n",
       "    <tr style=\"text-align: right;\">\n",
       "      <th></th>\n",
       "      <th>Number of times pregnant</th>\n",
       "      <th>Plasma glucose concentration</th>\n",
       "      <th>Diastolic blood pressure</th>\n",
       "      <th>Triceps skin fold thickness</th>\n",
       "      <th>2-Hour serum insulin</th>\n",
       "      <th>Body mass index</th>\n",
       "      <th>Diabetes pedigree function</th>\n",
       "      <th>Age</th>\n",
       "    </tr>\n",
       "  </thead>\n",
       "  <tbody>\n",
       "    <tr>\n",
       "      <th>71</th>\n",
       "      <td>5</td>\n",
       "      <td>139</td>\n",
       "      <td>64</td>\n",
       "      <td>35</td>\n",
       "      <td>140</td>\n",
       "      <td>28.6</td>\n",
       "      <td>0.411</td>\n",
       "      <td>26</td>\n",
       "    </tr>\n",
       "    <tr>\n",
       "      <th>118</th>\n",
       "      <td>4</td>\n",
       "      <td>97</td>\n",
       "      <td>60</td>\n",
       "      <td>23</td>\n",
       "      <td>0</td>\n",
       "      <td>28.2</td>\n",
       "      <td>0.443</td>\n",
       "      <td>22</td>\n",
       "    </tr>\n",
       "    <tr>\n",
       "      <th>699</th>\n",
       "      <td>4</td>\n",
       "      <td>118</td>\n",
       "      <td>70</td>\n",
       "      <td>0</td>\n",
       "      <td>0</td>\n",
       "      <td>44.5</td>\n",
       "      <td>0.904</td>\n",
       "      <td>26</td>\n",
       "    </tr>\n",
       "    <tr>\n",
       "      <th>409</th>\n",
       "      <td>1</td>\n",
       "      <td>172</td>\n",
       "      <td>68</td>\n",
       "      <td>49</td>\n",
       "      <td>579</td>\n",
       "      <td>42.4</td>\n",
       "      <td>0.702</td>\n",
       "      <td>28</td>\n",
       "    </tr>\n",
       "    <tr>\n",
       "      <th>375</th>\n",
       "      <td>12</td>\n",
       "      <td>140</td>\n",
       "      <td>82</td>\n",
       "      <td>43</td>\n",
       "      <td>325</td>\n",
       "      <td>39.2</td>\n",
       "      <td>0.528</td>\n",
       "      <td>58</td>\n",
       "    </tr>\n",
       "  </tbody>\n",
       "</table>\n",
       "</div>"
      ],
      "text/plain": [
       "     Number of times pregnant  Plasma glucose concentration  \\\n",
       "71                          5                           139   \n",
       "118                         4                            97   \n",
       "699                         4                           118   \n",
       "409                         1                           172   \n",
       "375                        12                           140   \n",
       "\n",
       "     Diastolic blood pressure  Triceps skin fold thickness  \\\n",
       "71                         64                           35   \n",
       "118                        60                           23   \n",
       "699                        70                            0   \n",
       "409                        68                           49   \n",
       "375                        82                           43   \n",
       "\n",
       "     2-Hour serum insulin  Body mass index  Diabetes pedigree function  Age  \n",
       "71                    140             28.6                       0.411   26  \n",
       "118                     0             28.2                       0.443   22  \n",
       "699                     0             44.5                       0.904   26  \n",
       "409                   579             42.4                       0.702   28  \n",
       "375                   325             39.2                       0.528   58  "
      ]
     },
     "execution_count": 37,
     "metadata": {},
     "output_type": "execute_result"
    }
   ],
   "source": [
    "X_train.head()"
   ]
  },
  {
   "cell_type": "code",
   "execution_count": 38,
   "metadata": {},
   "outputs": [
    {
     "data": {
      "text/plain": [
       "71     0\n",
       "118    0\n",
       "699    0\n",
       "409    1\n",
       "375    1\n",
       "Name: class, dtype: int8"
      ]
     },
     "execution_count": 38,
     "metadata": {},
     "output_type": "execute_result"
    }
   ],
   "source": [
    "y_train.head()"
   ]
  },
  {
   "cell_type": "code",
   "execution_count": 39,
   "metadata": {},
   "outputs": [
    {
     "data": {
      "text/html": [
       "<style>#sk-container-id-3 {color: black;background-color: white;}#sk-container-id-3 pre{padding: 0;}#sk-container-id-3 div.sk-toggleable {background-color: white;}#sk-container-id-3 label.sk-toggleable__label {cursor: pointer;display: block;width: 100%;margin-bottom: 0;padding: 0.3em;box-sizing: border-box;text-align: center;}#sk-container-id-3 label.sk-toggleable__label-arrow:before {content: \"▸\";float: left;margin-right: 0.25em;color: #696969;}#sk-container-id-3 label.sk-toggleable__label-arrow:hover:before {color: black;}#sk-container-id-3 div.sk-estimator:hover label.sk-toggleable__label-arrow:before {color: black;}#sk-container-id-3 div.sk-toggleable__content {max-height: 0;max-width: 0;overflow: hidden;text-align: left;background-color: #f0f8ff;}#sk-container-id-3 div.sk-toggleable__content pre {margin: 0.2em;color: black;border-radius: 0.25em;background-color: #f0f8ff;}#sk-container-id-3 input.sk-toggleable__control:checked~div.sk-toggleable__content {max-height: 200px;max-width: 100%;overflow: auto;}#sk-container-id-3 input.sk-toggleable__control:checked~label.sk-toggleable__label-arrow:before {content: \"▾\";}#sk-container-id-3 div.sk-estimator input.sk-toggleable__control:checked~label.sk-toggleable__label {background-color: #d4ebff;}#sk-container-id-3 div.sk-label input.sk-toggleable__control:checked~label.sk-toggleable__label {background-color: #d4ebff;}#sk-container-id-3 input.sk-hidden--visually {border: 0;clip: rect(1px 1px 1px 1px);clip: rect(1px, 1px, 1px, 1px);height: 1px;margin: -1px;overflow: hidden;padding: 0;position: absolute;width: 1px;}#sk-container-id-3 div.sk-estimator {font-family: monospace;background-color: #f0f8ff;border: 1px dotted black;border-radius: 0.25em;box-sizing: border-box;margin-bottom: 0.5em;}#sk-container-id-3 div.sk-estimator:hover {background-color: #d4ebff;}#sk-container-id-3 div.sk-parallel-item::after {content: \"\";width: 100%;border-bottom: 1px solid gray;flex-grow: 1;}#sk-container-id-3 div.sk-label:hover label.sk-toggleable__label {background-color: #d4ebff;}#sk-container-id-3 div.sk-serial::before {content: \"\";position: absolute;border-left: 1px solid gray;box-sizing: border-box;top: 0;bottom: 0;left: 50%;z-index: 0;}#sk-container-id-3 div.sk-serial {display: flex;flex-direction: column;align-items: center;background-color: white;padding-right: 0.2em;padding-left: 0.2em;position: relative;}#sk-container-id-3 div.sk-item {position: relative;z-index: 1;}#sk-container-id-3 div.sk-parallel {display: flex;align-items: stretch;justify-content: center;background-color: white;position: relative;}#sk-container-id-3 div.sk-item::before, #sk-container-id-3 div.sk-parallel-item::before {content: \"\";position: absolute;border-left: 1px solid gray;box-sizing: border-box;top: 0;bottom: 0;left: 50%;z-index: -1;}#sk-container-id-3 div.sk-parallel-item {display: flex;flex-direction: column;z-index: 1;position: relative;background-color: white;}#sk-container-id-3 div.sk-parallel-item:first-child::after {align-self: flex-end;width: 50%;}#sk-container-id-3 div.sk-parallel-item:last-child::after {align-self: flex-start;width: 50%;}#sk-container-id-3 div.sk-parallel-item:only-child::after {width: 0;}#sk-container-id-3 div.sk-dashed-wrapped {border: 1px dashed gray;margin: 0 0.4em 0.5em 0.4em;box-sizing: border-box;padding-bottom: 0.4em;background-color: white;}#sk-container-id-3 div.sk-label label {font-family: monospace;font-weight: bold;display: inline-block;line-height: 1.2em;}#sk-container-id-3 div.sk-label-container {text-align: center;}#sk-container-id-3 div.sk-container {/* jupyter's `normalize.less` sets `[hidden] { display: none; }` but bootstrap.min.css set `[hidden] { display: none !important; }` so we also need the `!important` here to be able to override the default hidden behavior on the sphinx rendered scikit-learn.org. See: https://github.com/scikit-learn/scikit-learn/issues/21755 */display: inline-block !important;position: relative;}#sk-container-id-3 div.sk-text-repr-fallback {display: none;}</style><div id=\"sk-container-id-3\" class=\"sk-top-container\"><div class=\"sk-text-repr-fallback\"><pre>LogisticRegression(max_iter=500, random_state=30)</pre><b>In a Jupyter environment, please rerun this cell to show the HTML representation or trust the notebook. <br />On GitHub, the HTML representation is unable to render, please try loading this page with nbviewer.org.</b></div><div class=\"sk-container\" hidden><div class=\"sk-item\"><div class=\"sk-estimator sk-toggleable\"><input class=\"sk-toggleable__control sk-hidden--visually\" id=\"sk-estimator-id-3\" type=\"checkbox\" checked><label for=\"sk-estimator-id-3\" class=\"sk-toggleable__label sk-toggleable__label-arrow\">LogisticRegression</label><div class=\"sk-toggleable__content\"><pre>LogisticRegression(max_iter=500, random_state=30)</pre></div></div></div></div></div>"
      ],
      "text/plain": [
       "LogisticRegression(max_iter=500, random_state=30)"
      ]
     },
     "execution_count": 39,
     "metadata": {},
     "output_type": "execute_result"
    }
   ],
   "source": [
    "from sklearn.linear_model import LogisticRegression\n",
    "\n",
    "model = LogisticRegression(random_state=30, max_iter = 500)\n",
    "model.fit(X_train, y_train)"
   ]
  },
  {
   "cell_type": "code",
   "execution_count": 40,
   "metadata": {
    "scrolled": true
   },
   "outputs": [
    {
     "data": {
      "text/html": [
       "<div>\n",
       "<style scoped>\n",
       "    .dataframe tbody tr th:only-of-type {\n",
       "        vertical-align: middle;\n",
       "    }\n",
       "\n",
       "    .dataframe tbody tr th {\n",
       "        vertical-align: top;\n",
       "    }\n",
       "\n",
       "    .dataframe thead th {\n",
       "        text-align: right;\n",
       "    }\n",
       "</style>\n",
       "<table border=\"1\" class=\"dataframe\">\n",
       "  <thead>\n",
       "    <tr style=\"text-align: right;\">\n",
       "      <th></th>\n",
       "      <th>Number of times pregnant</th>\n",
       "      <th>Plasma glucose concentration</th>\n",
       "      <th>Diastolic blood pressure</th>\n",
       "      <th>Triceps skin fold thickness</th>\n",
       "      <th>2-Hour serum insulin</th>\n",
       "      <th>Body mass index</th>\n",
       "      <th>Diabetes pedigree function</th>\n",
       "      <th>Age</th>\n",
       "    </tr>\n",
       "  </thead>\n",
       "  <tbody>\n",
       "    <tr>\n",
       "      <th>709</th>\n",
       "      <td>2</td>\n",
       "      <td>93</td>\n",
       "      <td>64</td>\n",
       "      <td>32</td>\n",
       "      <td>160</td>\n",
       "      <td>38.0</td>\n",
       "      <td>0.674</td>\n",
       "      <td>23</td>\n",
       "    </tr>\n",
       "    <tr>\n",
       "      <th>324</th>\n",
       "      <td>2</td>\n",
       "      <td>112</td>\n",
       "      <td>75</td>\n",
       "      <td>32</td>\n",
       "      <td>0</td>\n",
       "      <td>35.7</td>\n",
       "      <td>0.148</td>\n",
       "      <td>21</td>\n",
       "    </tr>\n",
       "    <tr>\n",
       "      <th>365</th>\n",
       "      <td>5</td>\n",
       "      <td>99</td>\n",
       "      <td>54</td>\n",
       "      <td>28</td>\n",
       "      <td>83</td>\n",
       "      <td>34.0</td>\n",
       "      <td>0.499</td>\n",
       "      <td>30</td>\n",
       "    </tr>\n",
       "    <tr>\n",
       "      <th>502</th>\n",
       "      <td>6</td>\n",
       "      <td>0</td>\n",
       "      <td>68</td>\n",
       "      <td>41</td>\n",
       "      <td>0</td>\n",
       "      <td>39.0</td>\n",
       "      <td>0.727</td>\n",
       "      <td>41</td>\n",
       "    </tr>\n",
       "    <tr>\n",
       "      <th>424</th>\n",
       "      <td>8</td>\n",
       "      <td>151</td>\n",
       "      <td>78</td>\n",
       "      <td>32</td>\n",
       "      <td>210</td>\n",
       "      <td>42.9</td>\n",
       "      <td>0.516</td>\n",
       "      <td>36</td>\n",
       "    </tr>\n",
       "  </tbody>\n",
       "</table>\n",
       "</div>"
      ],
      "text/plain": [
       "     Number of times pregnant  Plasma glucose concentration  \\\n",
       "709                         2                            93   \n",
       "324                         2                           112   \n",
       "365                         5                            99   \n",
       "502                         6                             0   \n",
       "424                         8                           151   \n",
       "\n",
       "     Diastolic blood pressure  Triceps skin fold thickness  \\\n",
       "709                        64                           32   \n",
       "324                        75                           32   \n",
       "365                        54                           28   \n",
       "502                        68                           41   \n",
       "424                        78                           32   \n",
       "\n",
       "     2-Hour serum insulin  Body mass index  Diabetes pedigree function  Age  \n",
       "709                   160             38.0                       0.674   23  \n",
       "324                     0             35.7                       0.148   21  \n",
       "365                    83             34.0                       0.499   30  \n",
       "502                     0             39.0                       0.727   41  \n",
       "424                   210             42.9                       0.516   36  "
      ]
     },
     "execution_count": 40,
     "metadata": {},
     "output_type": "execute_result"
    }
   ],
   "source": [
    "X_test.head()"
   ]
  },
  {
   "cell_type": "code",
   "execution_count": 41,
   "metadata": {},
   "outputs": [],
   "source": [
    "y_pred = model.predict(X_test)"
   ]
  },
  {
   "cell_type": "code",
   "execution_count": 42,
   "metadata": {},
   "outputs": [
    {
     "data": {
      "text/plain": [
       "array([0, 0, 0, 0, 1, 0, 0, 0, 1, 0, 0, 0, 0, 1, 0, 0, 0, 1, 0, 0, 0, 1,\n",
       "       0, 0, 1, 0, 0, 0, 0, 0, 1, 0, 1, 0, 0, 0, 0, 0, 0, 0, 0, 0, 0, 0,\n",
       "       0, 0, 0, 0, 0, 0, 0, 1, 0, 0, 0, 1, 1, 0, 0, 0, 0, 0, 0, 0, 0, 0,\n",
       "       1, 0, 0, 0, 1, 0, 0, 0, 1, 0, 1, 0, 0, 0, 1, 1, 0, 1, 0, 0, 0, 1,\n",
       "       1, 0, 0, 0, 0, 0, 0, 0, 1, 1, 0, 0, 0, 1, 0, 0, 0, 1, 1, 0, 1, 0,\n",
       "       0, 1, 0, 1, 0, 0, 0, 0, 0, 1, 0, 0, 0, 0, 0, 1, 0, 0, 0, 1, 0, 0,\n",
       "       1, 0, 0, 0, 0, 1, 0, 0, 1, 0, 0, 1, 1, 0, 0, 0, 0, 0, 0, 0, 1, 1,\n",
       "       0, 1, 0, 0, 0, 0, 0, 0, 0, 0, 0, 1, 0, 0, 0, 0, 0, 1, 0, 1, 0, 0,\n",
       "       1, 1, 0, 0, 1, 1, 0, 0, 1, 0, 1, 0, 0, 0, 0, 0], dtype=int8)"
      ]
     },
     "execution_count": 42,
     "metadata": {},
     "output_type": "execute_result"
    }
   ],
   "source": [
    "y_pred"
   ]
  },
  {
   "cell_type": "code",
   "execution_count": 43,
   "metadata": {},
   "outputs": [],
   "source": [
    "y_pred_proba = model.predict_proba(X_test)\n",
    "y_pred_proba_train = model.predict_proba(X_train)"
   ]
  },
  {
   "cell_type": "code",
   "execution_count": 44,
   "metadata": {},
   "outputs": [
    {
     "data": {
      "text/plain": [
       "array([[0.8483607 , 0.1516393 ],\n",
       "       [0.82659022, 0.17340978],\n",
       "       [0.79231066, 0.20768934],\n",
       "       [0.98259146, 0.01740854],\n",
       "       [0.20714684, 0.79285316],\n",
       "       [0.69730402, 0.30269598],\n",
       "       [0.73515904, 0.26484096],\n",
       "       [0.77641203, 0.22358797],\n",
       "       [0.17811132, 0.82188868],\n",
       "       [0.95469412, 0.04530588],\n",
       "       [0.7352704 , 0.2647296 ],\n",
       "       [0.94639368, 0.05360632],\n",
       "       [0.64285241, 0.35714759],\n",
       "       [0.11789204, 0.88210796],\n",
       "       [0.88354296, 0.11645704],\n",
       "       [0.94412258, 0.05587742],\n",
       "       [0.88089573, 0.11910427],\n",
       "       [0.25806521, 0.74193479],\n",
       "       [0.95038846, 0.04961154],\n",
       "       [0.76047088, 0.23952912],\n",
       "       [0.79407315, 0.20592685],\n",
       "       [0.47961041, 0.52038959],\n",
       "       [0.78566741, 0.21433259],\n",
       "       [0.75662653, 0.24337347],\n",
       "       [0.12523274, 0.87476726],\n",
       "       [0.83390907, 0.16609093],\n",
       "       [0.67447348, 0.32552652],\n",
       "       [0.98289167, 0.01710833],\n",
       "       [0.99293878, 0.00706122],\n",
       "       [0.60126337, 0.39873663],\n",
       "       [0.46227005, 0.53772995],\n",
       "       [0.64633358, 0.35366642],\n",
       "       [0.28112628, 0.71887372],\n",
       "       [0.73914923, 0.26085077],\n",
       "       [0.95456576, 0.04543424],\n",
       "       [0.54439632, 0.45560368],\n",
       "       [0.55801714, 0.44198286],\n",
       "       [0.71713327, 0.28286673],\n",
       "       [0.83753227, 0.16246773],\n",
       "       [0.81544695, 0.18455305],\n",
       "       [0.8671771 , 0.1328229 ],\n",
       "       [0.89864311, 0.10135689],\n",
       "       [0.90836659, 0.09163341],\n",
       "       [0.51261649, 0.48738351],\n",
       "       [0.95991582, 0.04008418],\n",
       "       [0.73885028, 0.26114972],\n",
       "       [0.64350357, 0.35649643],\n",
       "       [0.75122111, 0.24877889],\n",
       "       [0.95126538, 0.04873462],\n",
       "       [0.97785036, 0.02214964],\n",
       "       [0.72629908, 0.27370092],\n",
       "       [0.28748281, 0.71251719],\n",
       "       [0.79700033, 0.20299967],\n",
       "       [0.88863189, 0.11136811],\n",
       "       [0.90874939, 0.09125061],\n",
       "       [0.45308712, 0.54691288],\n",
       "       [0.49371674, 0.50628326],\n",
       "       [0.99373005, 0.00626995],\n",
       "       [0.69226007, 0.30773993],\n",
       "       [0.94315492, 0.05684508],\n",
       "       [0.85015377, 0.14984623],\n",
       "       [0.96764534, 0.03235466],\n",
       "       [0.78767095, 0.21232905],\n",
       "       [0.61570244, 0.38429756],\n",
       "       [0.90423133, 0.09576867],\n",
       "       [0.62901788, 0.37098212],\n",
       "       [0.31440558, 0.68559442],\n",
       "       [0.90462729, 0.09537271],\n",
       "       [0.96559314, 0.03440686],\n",
       "       [0.51485474, 0.48514526],\n",
       "       [0.23824058, 0.76175942],\n",
       "       [0.9285696 , 0.0714304 ],\n",
       "       [0.80010842, 0.19989158],\n",
       "       [0.80347547, 0.19652453],\n",
       "       [0.28458004, 0.71541996],\n",
       "       [0.85958923, 0.14041077],\n",
       "       [0.36838281, 0.63161719],\n",
       "       [0.9240748 , 0.0759252 ],\n",
       "       [0.86372956, 0.13627044],\n",
       "       [0.88923371, 0.11076629],\n",
       "       [0.48033826, 0.51966174],\n",
       "       [0.12925001, 0.87074999],\n",
       "       [0.67249733, 0.32750267],\n",
       "       [0.29065211, 0.70934789],\n",
       "       [0.73691804, 0.26308196],\n",
       "       [0.69342344, 0.30657656],\n",
       "       [0.94283905, 0.05716095],\n",
       "       [0.32177979, 0.67822021],\n",
       "       [0.26440214, 0.73559786],\n",
       "       [0.50291632, 0.49708368],\n",
       "       [0.8145479 , 0.1854521 ],\n",
       "       [0.6127763 , 0.3872237 ],\n",
       "       [0.93734371, 0.06265629],\n",
       "       [0.64724302, 0.35275698],\n",
       "       [0.91805921, 0.08194079],\n",
       "       [0.90431141, 0.09568859],\n",
       "       [0.31069946, 0.68930054],\n",
       "       [0.29077039, 0.70922961],\n",
       "       [0.80955118, 0.19044882],\n",
       "       [0.96015195, 0.03984805],\n",
       "       [0.62465216, 0.37534784],\n",
       "       [0.23827973, 0.76172027],\n",
       "       [0.73255313, 0.26744687],\n",
       "       [0.62257131, 0.37742869],\n",
       "       [0.87719334, 0.12280666],\n",
       "       [0.21014385, 0.78985615],\n",
       "       [0.12422627, 0.87577373],\n",
       "       [0.88593487, 0.11406513],\n",
       "       [0.43832207, 0.56167793],\n",
       "       [0.94868134, 0.05131866],\n",
       "       [0.75212185, 0.24787815],\n",
       "       [0.19060492, 0.80939508],\n",
       "       [0.70805428, 0.29194572],\n",
       "       [0.46047394, 0.53952606],\n",
       "       [0.92147349, 0.07852651],\n",
       "       [0.87693886, 0.12306114],\n",
       "       [0.75639615, 0.24360385],\n",
       "       [0.84156173, 0.15843827],\n",
       "       [0.82721532, 0.17278468],\n",
       "       [0.28601975, 0.71398025],\n",
       "       [0.72430045, 0.27569955],\n",
       "       [0.89980477, 0.10019523],\n",
       "       [0.93441048, 0.06558952],\n",
       "       [0.5318682 , 0.4681318 ],\n",
       "       [0.90136626, 0.09863374],\n",
       "       [0.26942293, 0.73057707],\n",
       "       [0.70290086, 0.29709914],\n",
       "       [0.7487287 , 0.2512713 ],\n",
       "       [0.51118676, 0.48881324],\n",
       "       [0.22950522, 0.77049478],\n",
       "       [0.88545045, 0.11454955],\n",
       "       [0.54513543, 0.45486457],\n",
       "       [0.05746695, 0.94253305],\n",
       "       [0.76415987, 0.23584013],\n",
       "       [0.70359274, 0.29640726],\n",
       "       [0.87859987, 0.12140013],\n",
       "       [0.96647553, 0.03352447],\n",
       "       [0.36951653, 0.63048347],\n",
       "       [0.78249785, 0.21750215],\n",
       "       [0.7685738 , 0.2314262 ],\n",
       "       [0.33261394, 0.66738606],\n",
       "       [0.88859607, 0.11140393],\n",
       "       [0.9844919 , 0.0155081 ],\n",
       "       [0.15829885, 0.84170115],\n",
       "       [0.24666796, 0.75333204],\n",
       "       [0.84240577, 0.15759423],\n",
       "       [0.58863097, 0.41136903],\n",
       "       [0.9688831 , 0.0311169 ],\n",
       "       [0.85184697, 0.14815303],\n",
       "       [0.9095412 , 0.0904588 ],\n",
       "       [0.60950116, 0.39049884],\n",
       "       [0.93273597, 0.06726403],\n",
       "       [0.19247768, 0.80752232],\n",
       "       [0.22633824, 0.77366176],\n",
       "       [0.96007468, 0.03992532],\n",
       "       [0.29312819, 0.70687181],\n",
       "       [0.96244364, 0.03755636],\n",
       "       [0.86274253, 0.13725747],\n",
       "       [0.62044854, 0.37955146],\n",
       "       [0.88638482, 0.11361518],\n",
       "       [0.66696845, 0.33303155],\n",
       "       [0.68316603, 0.31683397],\n",
       "       [0.95054267, 0.04945733],\n",
       "       [0.70838864, 0.29161136],\n",
       "       [0.90225416, 0.09774584],\n",
       "       [0.15878488, 0.84121512],\n",
       "       [0.81599194, 0.18400806],\n",
       "       [0.51710795, 0.48289205],\n",
       "       [0.86062207, 0.13937793],\n",
       "       [0.52097306, 0.47902694],\n",
       "       [0.79719735, 0.20280265],\n",
       "       [0.30950129, 0.69049871],\n",
       "       [0.59123254, 0.40876746],\n",
       "       [0.40965039, 0.59034961],\n",
       "       [0.96559017, 0.03440983],\n",
       "       [0.88981325, 0.11018675],\n",
       "       [0.15804194, 0.84195806],\n",
       "       [0.37310363, 0.62689637],\n",
       "       [0.90629144, 0.09370856],\n",
       "       [0.96710304, 0.03289696],\n",
       "       [0.40577524, 0.59422476],\n",
       "       [0.2599385 , 0.7400615 ],\n",
       "       [0.63269496, 0.36730504],\n",
       "       [0.97567019, 0.02432981],\n",
       "       [0.1647    , 0.8353    ],\n",
       "       [0.91379135, 0.08620865],\n",
       "       [0.1531644 , 0.8468356 ],\n",
       "       [0.66352662, 0.33647338],\n",
       "       [0.80195818, 0.19804182],\n",
       "       [0.97840911, 0.02159089],\n",
       "       [0.90310758, 0.09689242],\n",
       "       [0.64809021, 0.35190979]])"
      ]
     },
     "execution_count": 44,
     "metadata": {},
     "output_type": "execute_result"
    }
   ],
   "source": [
    "y_pred_proba"
   ]
  },
  {
   "cell_type": "markdown",
   "metadata": {},
   "source": [
    "W przypadku modeli, które oferują logikę, wg. któtej wynik może być interpretowany jako prawdopodobieństwo, możemy użyć funkcji preict_proba(). Wynikiem będzie tutaj macierz, w lewej kolumnie będzie zawierała prawdopodobieństwo, że próbka jest klasą 0, w prawej, że jest klasą 1."
   ]
  },
  {
   "cell_type": "markdown",
   "metadata": {},
   "source": [
    "Korzystając z wbudwanej funkcji sklearn roc_auc_score importowanej podobnie jak accuracy_score, precision_score, recall_score, f1_score z modułu sklearn.metrics oblicz pole pod krzywą ROC:"
   ]
  },
  {
   "cell_type": "code",
   "execution_count": 45,
   "metadata": {},
   "outputs": [],
   "source": [
    "from sklearn.metrics import roc_curve\n",
    "\n",
    "fpr, tpr, treshold = roc_curve(y_test, y_pred_proba[:,1], drop_intermediate=False)\n",
    "fpr_t, tpr_t, treshold_t = roc_curve(y_train, y_pred_proba_train[:,1], drop_intermediate=False)"
   ]
  },
  {
   "cell_type": "code",
   "execution_count": 46,
   "metadata": {},
   "outputs": [],
   "source": [
    "import matplotlib.pyplot as plt\n",
    "\n",
    "def plot_roc(fpr_t, tpr_t, fpr, tpr):\n",
    "    plt.figure(figsize = (10,6))\n",
    "    plt.plot(fpr_t, tpr_t, c = 'red', label = 'Train')\n",
    "    plt.plot(fpr, tpr, c = 'blue', label = 'Test')\n",
    "    plt.axis([0,1,0,1])\n",
    "    plt.plot([0,1], [0,1], 'k--', c ='black')\n",
    "    plt.title('ROC')\n",
    "    plt.legend()"
   ]
  },
  {
   "cell_type": "code",
   "execution_count": 47,
   "metadata": {},
   "outputs": [
    {
     "name": "stderr",
     "output_type": "stream",
     "text": [
      "C:\\Users\\kacpe\\AppData\\Local\\Temp\\ipykernel_9652\\2915646692.py:8: UserWarning: color is redundantly defined by the 'color' keyword argument and the fmt string \"k--\" (-> color='k'). The keyword argument will take precedence.\n",
      "  plt.plot([0,1], [0,1], 'k--', c ='black')\n"
     ]
    },
    {
     "data": {
      "image/png": "[encoded data removed]",
      "text/plain": [
       "<Figure size 1000x600 with 1 Axes>"
      ]
     },
     "metadata": {},
     "output_type": "display_data"
    }
   ],
   "source": [
    "plot_roc(fpr_t, tpr_t, fpr, tpr)"
   ]
  },
  {
   "cell_type": "markdown",
   "metadata": {},
   "source": [
    "Analiza punktów odcięcia:"
   ]
  },
  {
   "cell_type": "code",
   "execution_count": 48,
   "metadata": {
    "scrolled": false
   },
   "outputs": [
    {
     "data": {
      "image/png": "[encoded data removed]",
      "text/plain": [
       "<Figure size 640x480 with 2 Axes>"
      ]
     },
     "metadata": {},
     "output_type": "display_data"
    },
    {
     "data": {
      "image/png": "[encoded data removed]",
      "text/plain": [
       "<Figure size 640x480 with 2 Axes>"
      ]
     },
     "metadata": {},
     "output_type": "display_data"
    },
    {
     "data": {
      "image/png": "[encoded data removed]",
      "text/plain": [
       "<Figure size 640x480 with 2 Axes>"
      ]
     },
     "metadata": {},
     "output_type": "display_data"
    },
    {
     "data": {
      "image/png": "[encoded data removed]",
      "text/plain": [
       "<Figure size 640x480 with 2 Axes>"
      ]
     },
     "metadata": {},
     "output_type": "display_data"
    },
    {
     "data": {
      "image/png": "[encoded data removed]",
      "text/plain": [
       "<Figure size 640x480 with 2 Axes>"
      ]
     },
     "metadata": {},
     "output_type": "display_data"
    }
   ],
   "source": [
    "tresholds = [0.2, 0.4, 0.5, 0.6, 0.8]\n",
    "\n",
    "for treshold in tresholds:\n",
    "    y_pred = []\n",
    "    for y in y_pred_proba[:,1]:\n",
    "        if y > treshold:\n",
    "            y_pred.append(1)\n",
    "        else:\n",
    "            y_pred.append(0)\n",
    "            \n",
    "    cm = confusion_matrix(y_test, y_pred)\n",
    "    f = f1_score(y_test, y_pred)\n",
    "    sns.heatmap(cm, annot = True, fmt = 'd')\n",
    "    title = f'treshold: {treshold}, f-score: {f}'\n",
    "    plt.title(title)\n",
    "    plt.show()\n",
    "    "
   ]
  },
  {
   "cell_type": "code",
   "execution_count": 49,
   "metadata": {},
   "outputs": [
    {
     "name": "stdout",
     "output_type": "stream",
     "text": [
      "Pole pod krzywą ROC dla zestawu treningowego: 0.84\n",
      "Pole pod krzywą ROC dla zestawu testowego: 0.82\n"
     ]
    }
   ],
   "source": [
    "from sklearn.metrics import roc_auc_score\n",
    "\n",
    "auc_train = roc_auc_score(y_train, y_pred_proba_train[:,1])\n",
    "auc_test = roc_auc_score(y_test, y_pred_proba[:,1])\n",
    "\n",
    "print(f'Pole pod krzywą ROC dla zestawu treningowego: {round(auc_train,2)}')\n",
    "print(f'Pole pod krzywą ROC dla zestawu testowego: {round(auc_test,2)}')"
   ]
  },
  {
   "cell_type": "markdown",
   "metadata": {},
   "source": [
    "**Zadanie:** Przetestuj walidację krzyżową na analizowanym wcześniej zbiorze:"
   ]
  },
  {
   "cell_type": "code",
   "execution_count": 50,
   "metadata": {},
   "outputs": [],
   "source": [
    "from sklearn.model_selection import cross_val_score"
   ]
  },
  {
   "cell_type": "markdown",
   "metadata": {},
   "source": [
    "iteracja 1: trening: a,b,c,d, test: e <br>\n",
    "iteracja 2: trening: a,b,c,e, test: d <br>\n",
    "iteracja 3: trening: a,b,d,e, test: c <br>\n",
    "iteracja 4: trening: a,c,d,e, test: b <br>\n",
    "iteracja 5: trening: b,c,d,e, test: a <br>"
   ]
  },
  {
   "cell_type": "code",
   "execution_count": 52,
   "metadata": {},
   "outputs": [],
   "source": [
    "X,y,classes = prepare_dataset('diabetes')\n",
    "X_train, X_test, y_train, y_test = train_test_split(X,y, stratify=y, random_state=30)"
   ]
  },
  {
   "cell_type": "code",
   "execution_count": 53,
   "metadata": {},
   "outputs": [],
   "source": [
    "\n",
    "\n",
    "model = LogisticRegression(random_state = 30, max_iter = 500)\n",
    "\n",
    "scores = cross_val_score(model, X_train, y_train, cv=5, scoring = 'precision_macro',)"
   ]
  },
  {
   "cell_type": "code",
   "execution_count": 54,
   "metadata": {},
   "outputs": [
    {
     "data": {
      "text/plain": [
       "array([0.70767575, 0.64978214, 0.77505447, 0.80588235, 0.8331044 ])"
      ]
     },
     "execution_count": 54,
     "metadata": {},
     "output_type": "execute_result"
    }
   ],
   "source": [
    "scores"
   ]
  },
  {
   "cell_type": "markdown",
   "metadata": {},
   "source": [
    "# Regularyzacja, czyli jak przeciwdziałać overfittingowi. Czy to jest w ogóle problem? Sprawdźmy!"
   ]
  },
  {
   "cell_type": "code",
   "execution_count": 55,
   "metadata": {},
   "outputs": [],
   "source": [
    "wine, wine_classes = load_dataset('wine', 'Class')"
   ]
  },
  {
   "cell_type": "code",
   "execution_count": 56,
   "metadata": {},
   "outputs": [
    {
     "data": {
      "text/html": [
       "<div>\n",
       "<style scoped>\n",
       "    .dataframe tbody tr th:only-of-type {\n",
       "        vertical-align: middle;\n",
       "    }\n",
       "\n",
       "    .dataframe tbody tr th {\n",
       "        vertical-align: top;\n",
       "    }\n",
       "\n",
       "    .dataframe thead th {\n",
       "        text-align: right;\n",
       "    }\n",
       "</style>\n",
       "<table border=\"1\" class=\"dataframe\">\n",
       "  <thead>\n",
       "    <tr style=\"text-align: right;\">\n",
       "      <th></th>\n",
       "      <th>Alcohol</th>\n",
       "      <th>Malic acid</th>\n",
       "      <th>Ash</th>\n",
       "      <th>Alcalinity of ash</th>\n",
       "      <th>Magnesium</th>\n",
       "      <th>Total phenols</th>\n",
       "      <th>Flavanoids</th>\n",
       "      <th>Nonflavanoid phenols</th>\n",
       "      <th>Proanthocyanins</th>\n",
       "      <th>Color intensity</th>\n",
       "      <th>Hue</th>\n",
       "      <th>OD280/OD315 of diluted wines</th>\n",
       "      <th>Proline</th>\n",
       "      <th>class</th>\n",
       "    </tr>\n",
       "  </thead>\n",
       "  <tbody>\n",
       "    <tr>\n",
       "      <th>0</th>\n",
       "      <td>14.23</td>\n",
       "      <td>1.71</td>\n",
       "      <td>2.43</td>\n",
       "      <td>15.6</td>\n",
       "      <td>127</td>\n",
       "      <td>2.80</td>\n",
       "      <td>3.06</td>\n",
       "      <td>0.28</td>\n",
       "      <td>2.29</td>\n",
       "      <td>5.64</td>\n",
       "      <td>1.04</td>\n",
       "      <td>3.92</td>\n",
       "      <td>1065</td>\n",
       "      <td>0</td>\n",
       "    </tr>\n",
       "    <tr>\n",
       "      <th>1</th>\n",
       "      <td>13.20</td>\n",
       "      <td>1.78</td>\n",
       "      <td>2.14</td>\n",
       "      <td>11.2</td>\n",
       "      <td>100</td>\n",
       "      <td>2.65</td>\n",
       "      <td>2.76</td>\n",
       "      <td>0.26</td>\n",
       "      <td>1.28</td>\n",
       "      <td>4.38</td>\n",
       "      <td>1.05</td>\n",
       "      <td>3.40</td>\n",
       "      <td>1050</td>\n",
       "      <td>0</td>\n",
       "    </tr>\n",
       "    <tr>\n",
       "      <th>2</th>\n",
       "      <td>13.16</td>\n",
       "      <td>2.36</td>\n",
       "      <td>2.67</td>\n",
       "      <td>18.6</td>\n",
       "      <td>101</td>\n",
       "      <td>2.80</td>\n",
       "      <td>3.24</td>\n",
       "      <td>0.30</td>\n",
       "      <td>2.81</td>\n",
       "      <td>5.68</td>\n",
       "      <td>1.03</td>\n",
       "      <td>3.17</td>\n",
       "      <td>1185</td>\n",
       "      <td>0</td>\n",
       "    </tr>\n",
       "    <tr>\n",
       "      <th>3</th>\n",
       "      <td>14.37</td>\n",
       "      <td>1.95</td>\n",
       "      <td>2.50</td>\n",
       "      <td>16.8</td>\n",
       "      <td>113</td>\n",
       "      <td>3.85</td>\n",
       "      <td>3.49</td>\n",
       "      <td>0.24</td>\n",
       "      <td>2.18</td>\n",
       "      <td>7.80</td>\n",
       "      <td>0.86</td>\n",
       "      <td>3.45</td>\n",
       "      <td>1480</td>\n",
       "      <td>0</td>\n",
       "    </tr>\n",
       "    <tr>\n",
       "      <th>4</th>\n",
       "      <td>13.24</td>\n",
       "      <td>2.59</td>\n",
       "      <td>2.87</td>\n",
       "      <td>21.0</td>\n",
       "      <td>118</td>\n",
       "      <td>2.80</td>\n",
       "      <td>2.69</td>\n",
       "      <td>0.39</td>\n",
       "      <td>1.82</td>\n",
       "      <td>4.32</td>\n",
       "      <td>1.04</td>\n",
       "      <td>2.93</td>\n",
       "      <td>735</td>\n",
       "      <td>0</td>\n",
       "    </tr>\n",
       "  </tbody>\n",
       "</table>\n",
       "</div>"
      ],
      "text/plain": [
       "   Alcohol  Malic acid   Ash  Alcalinity of ash  Magnesium  Total phenols  \\\n",
       "0    14.23        1.71  2.43               15.6        127           2.80   \n",
       "1    13.20        1.78  2.14               11.2        100           2.65   \n",
       "2    13.16        2.36  2.67               18.6        101           2.80   \n",
       "3    14.37        1.95  2.50               16.8        113           3.85   \n",
       "4    13.24        2.59  2.87               21.0        118           2.80   \n",
       "\n",
       "   Flavanoids  Nonflavanoid phenols  Proanthocyanins  Color intensity   Hue  \\\n",
       "0        3.06                  0.28             2.29             5.64  1.04   \n",
       "1        2.76                  0.26             1.28             4.38  1.05   \n",
       "2        3.24                  0.30             2.81             5.68  1.03   \n",
       "3        3.49                  0.24             2.18             7.80  0.86   \n",
       "4        2.69                  0.39             1.82             4.32  1.04   \n",
       "\n",
       "   OD280/OD315 of diluted wines  Proline  class  \n",
       "0                          3.92     1065      0  \n",
       "1                          3.40     1050      0  \n",
       "2                          3.17     1185      0  \n",
       "3                          3.45     1480      0  \n",
       "4                          2.93      735      0  "
      ]
     },
     "execution_count": 56,
     "metadata": {},
     "output_type": "execute_result"
    }
   ],
   "source": [
    "wine.head()"
   ]
  },
  {
   "cell_type": "code",
   "execution_count": 57,
   "metadata": {},
   "outputs": [],
   "source": [
    "y = wine.pop('class')"
   ]
  },
  {
   "cell_type": "code",
   "execution_count": 58,
   "metadata": {},
   "outputs": [],
   "source": [
    "X = wine"
   ]
  },
  {
   "cell_type": "code",
   "execution_count": 59,
   "metadata": {},
   "outputs": [
    {
     "data": {
      "text/plain": [
       "2    71\n",
       "0    59\n",
       "1    48\n",
       "Name: class, dtype: int64"
      ]
     },
     "execution_count": 59,
     "metadata": {},
     "output_type": "execute_result"
    }
   ],
   "source": [
    "y.value_counts()"
   ]
  },
  {
   "cell_type": "code",
   "execution_count": 60,
   "metadata": {},
   "outputs": [
    {
     "name": "stderr",
     "output_type": "stream",
     "text": [
      "C:\\Users\\kacpe\\AppData\\Roaming\\Python\\Python310\\site-packages\\sklearn\\linear_model\\_logistic.py:458: ConvergenceWarning: lbfgs failed to converge (status=1):\n",
      "STOP: TOTAL NO. of ITERATIONS REACHED LIMIT.\n",
      "\n",
      "Increase the number of iterations (max_iter) or scale the data as shown in:\n",
      "    https://scikit-learn.org/stable/modules/preprocessing.html\n",
      "Please also refer to the documentation for alternative solver options:\n",
      "    https://scikit-learn.org/stable/modules/linear_model.html#logistic-regression\n",
      "  n_iter_i = _check_optimize_result(\n"
     ]
    },
    {
     "data": {
      "text/html": [
       "<style>#sk-container-id-4 {color: black;background-color: white;}#sk-container-id-4 pre{padding: 0;}#sk-container-id-4 div.sk-toggleable {background-color: white;}#sk-container-id-4 label.sk-toggleable__label {cursor: pointer;display: block;width: 100%;margin-bottom: 0;padding: 0.3em;box-sizing: border-box;text-align: center;}#sk-container-id-4 label.sk-toggleable__label-arrow:before {content: \"▸\";float: left;margin-right: 0.25em;color: #696969;}#sk-container-id-4 label.sk-toggleable__label-arrow:hover:before {color: black;}#sk-container-id-4 div.sk-estimator:hover label.sk-toggleable__label-arrow:before {color: black;}#sk-container-id-4 div.sk-toggleable__content {max-height: 0;max-width: 0;overflow: hidden;text-align: left;background-color: #f0f8ff;}#sk-container-id-4 div.sk-toggleable__content pre {margin: 0.2em;color: black;border-radius: 0.25em;background-color: #f0f8ff;}#sk-container-id-4 input.sk-toggleable__control:checked~div.sk-toggleable__content {max-height: 200px;max-width: 100%;overflow: auto;}#sk-container-id-4 input.sk-toggleable__control:checked~label.sk-toggleable__label-arrow:before {content: \"▾\";}#sk-container-id-4 div.sk-estimator input.sk-toggleable__control:checked~label.sk-toggleable__label {background-color: #d4ebff;}#sk-container-id-4 div.sk-label input.sk-toggleable__control:checked~label.sk-toggleable__label {background-color: #d4ebff;}#sk-container-id-4 input.sk-hidden--visually {border: 0;clip: rect(1px 1px 1px 1px);clip: rect(1px, 1px, 1px, 1px);height: 1px;margin: -1px;overflow: hidden;padding: 0;position: absolute;width: 1px;}#sk-container-id-4 div.sk-estimator {font-family: monospace;background-color: #f0f8ff;border: 1px dotted black;border-radius: 0.25em;box-sizing: border-box;margin-bottom: 0.5em;}#sk-container-id-4 div.sk-estimator:hover {background-color: #d4ebff;}#sk-container-id-4 div.sk-parallel-item::after {content: \"\";width: 100%;border-bottom: 1px solid gray;flex-grow: 1;}#sk-container-id-4 div.sk-label:hover label.sk-toggleable__label {background-color: #d4ebff;}#sk-container-id-4 div.sk-serial::before {content: \"\";position: absolute;border-left: 1px solid gray;box-sizing: border-box;top: 0;bottom: 0;left: 50%;z-index: 0;}#sk-container-id-4 div.sk-serial {display: flex;flex-direction: column;align-items: center;background-color: white;padding-right: 0.2em;padding-left: 0.2em;position: relative;}#sk-container-id-4 div.sk-item {position: relative;z-index: 1;}#sk-container-id-4 div.sk-parallel {display: flex;align-items: stretch;justify-content: center;background-color: white;position: relative;}#sk-container-id-4 div.sk-item::before, #sk-container-id-4 div.sk-parallel-item::before {content: \"\";position: absolute;border-left: 1px solid gray;box-sizing: border-box;top: 0;bottom: 0;left: 50%;z-index: -1;}#sk-container-id-4 div.sk-parallel-item {display: flex;flex-direction: column;z-index: 1;position: relative;background-color: white;}#sk-container-id-4 div.sk-parallel-item:first-child::after {align-self: flex-end;width: 50%;}#sk-container-id-4 div.sk-parallel-item:last-child::after {align-self: flex-start;width: 50%;}#sk-container-id-4 div.sk-parallel-item:only-child::after {width: 0;}#sk-container-id-4 div.sk-dashed-wrapped {border: 1px dashed gray;margin: 0 0.4em 0.5em 0.4em;box-sizing: border-box;padding-bottom: 0.4em;background-color: white;}#sk-container-id-4 div.sk-label label {font-family: monospace;font-weight: bold;display: inline-block;line-height: 1.2em;}#sk-container-id-4 div.sk-label-container {text-align: center;}#sk-container-id-4 div.sk-container {/* jupyter's `normalize.less` sets `[hidden] { display: none; }` but bootstrap.min.css set `[hidden] { display: none !important; }` so we also need the `!important` here to be able to override the default hidden behavior on the sphinx rendered scikit-learn.org. See: https://github.com/scikit-learn/scikit-learn/issues/21755 */display: inline-block !important;position: relative;}#sk-container-id-4 div.sk-text-repr-fallback {display: none;}</style><div id=\"sk-container-id-4\" class=\"sk-top-container\"><div class=\"sk-text-repr-fallback\"><pre>LogisticRegression(random_state=30)</pre><b>In a Jupyter environment, please rerun this cell to show the HTML representation or trust the notebook. <br />On GitHub, the HTML representation is unable to render, please try loading this page with nbviewer.org.</b></div><div class=\"sk-container\" hidden><div class=\"sk-item\"><div class=\"sk-estimator sk-toggleable\"><input class=\"sk-toggleable__control sk-hidden--visually\" id=\"sk-estimator-id-4\" type=\"checkbox\" checked><label for=\"sk-estimator-id-4\" class=\"sk-toggleable__label sk-toggleable__label-arrow\">LogisticRegression</label><div class=\"sk-toggleable__content\"><pre>LogisticRegression(random_state=30)</pre></div></div></div></div></div>"
      ],
      "text/plain": [
       "LogisticRegression(random_state=30)"
      ]
     },
     "execution_count": 60,
     "metadata": {},
     "output_type": "execute_result"
    }
   ],
   "source": [
    "X_train, X_test, y_train, y_test = train_test_split(X,y, test_size=30, stratify=y, random_state=30)\n",
    "model = LogisticRegression(random_state=30, max_iter=100)\n",
    "model.fit(X_train, y_train)"
   ]
  },
  {
   "cell_type": "code",
   "execution_count": 61,
   "metadata": {},
   "outputs": [
    {
     "name": "stderr",
     "output_type": "stream",
     "text": [
      "C:\\Users\\kacpe\\AppData\\Roaming\\Python\\Python310\\site-packages\\sklearn\\linear_model\\_logistic.py:458: ConvergenceWarning: lbfgs failed to converge (status=1):\n",
      "STOP: TOTAL NO. of ITERATIONS REACHED LIMIT.\n",
      "\n",
      "Increase the number of iterations (max_iter) or scale the data as shown in:\n",
      "    https://scikit-learn.org/stable/modules/preprocessing.html\n",
      "Please also refer to the documentation for alternative solver options:\n",
      "    https://scikit-learn.org/stable/modules/linear_model.html#logistic-regression\n",
      "  n_iter_i = _check_optimize_result(\n",
      "C:\\Users\\kacpe\\AppData\\Roaming\\Python\\Python310\\site-packages\\sklearn\\linear_model\\_logistic.py:458: ConvergenceWarning: lbfgs failed to converge (status=1):\n",
      "STOP: TOTAL NO. of ITERATIONS REACHED LIMIT.\n",
      "\n",
      "Increase the number of iterations (max_iter) or scale the data as shown in:\n",
      "    https://scikit-learn.org/stable/modules/preprocessing.html\n",
      "Please also refer to the documentation for alternative solver options:\n",
      "    https://scikit-learn.org/stable/modules/linear_model.html#logistic-regression\n",
      "  n_iter_i = _check_optimize_result(\n",
      "C:\\Users\\kacpe\\AppData\\Roaming\\Python\\Python310\\site-packages\\sklearn\\linear_model\\_logistic.py:458: ConvergenceWarning: lbfgs failed to converge (status=1):\n",
      "STOP: TOTAL NO. of ITERATIONS REACHED LIMIT.\n",
      "\n",
      "Increase the number of iterations (max_iter) or scale the data as shown in:\n",
      "    https://scikit-learn.org/stable/modules/preprocessing.html\n",
      "Please also refer to the documentation for alternative solver options:\n",
      "    https://scikit-learn.org/stable/modules/linear_model.html#logistic-regression\n",
      "  n_iter_i = _check_optimize_result(\n",
      "C:\\Users\\kacpe\\AppData\\Roaming\\Python\\Python310\\site-packages\\sklearn\\linear_model\\_logistic.py:458: ConvergenceWarning: lbfgs failed to converge (status=1):\n",
      "STOP: TOTAL NO. of ITERATIONS REACHED LIMIT.\n",
      "\n",
      "Increase the number of iterations (max_iter) or scale the data as shown in:\n",
      "    https://scikit-learn.org/stable/modules/preprocessing.html\n",
      "Please also refer to the documentation for alternative solver options:\n",
      "    https://scikit-learn.org/stable/modules/linear_model.html#logistic-regression\n",
      "  n_iter_i = _check_optimize_result(\n",
      "C:\\Users\\kacpe\\AppData\\Roaming\\Python\\Python310\\site-packages\\sklearn\\linear_model\\_logistic.py:458: ConvergenceWarning: lbfgs failed to converge (status=1):\n",
      "STOP: TOTAL NO. of ITERATIONS REACHED LIMIT.\n",
      "\n",
      "Increase the number of iterations (max_iter) or scale the data as shown in:\n",
      "    https://scikit-learn.org/stable/modules/preprocessing.html\n",
      "Please also refer to the documentation for alternative solver options:\n",
      "    https://scikit-learn.org/stable/modules/linear_model.html#logistic-regression\n",
      "  n_iter_i = _check_optimize_result(\n",
      "C:\\Users\\kacpe\\AppData\\Roaming\\Python\\Python310\\site-packages\\sklearn\\linear_model\\_logistic.py:458: ConvergenceWarning: lbfgs failed to converge (status=1):\n",
      "STOP: TOTAL NO. of ITERATIONS REACHED LIMIT.\n",
      "\n",
      "Increase the number of iterations (max_iter) or scale the data as shown in:\n",
      "    https://scikit-learn.org/stable/modules/preprocessing.html\n",
      "Please also refer to the documentation for alternative solver options:\n",
      "    https://scikit-learn.org/stable/modules/linear_model.html#logistic-regression\n",
      "  n_iter_i = _check_optimize_result(\n",
      "C:\\Users\\kacpe\\AppData\\Roaming\\Python\\Python310\\site-packages\\sklearn\\linear_model\\_logistic.py:458: ConvergenceWarning: lbfgs failed to converge (status=1):\n",
      "STOP: TOTAL NO. of ITERATIONS REACHED LIMIT.\n",
      "\n",
      "Increase the number of iterations (max_iter) or scale the data as shown in:\n",
      "    https://scikit-learn.org/stable/modules/preprocessing.html\n",
      "Please also refer to the documentation for alternative solver options:\n",
      "    https://scikit-learn.org/stable/modules/linear_model.html#logistic-regression\n",
      "  n_iter_i = _check_optimize_result(\n",
      "C:\\Users\\kacpe\\AppData\\Roaming\\Python\\Python310\\site-packages\\sklearn\\linear_model\\_logistic.py:458: ConvergenceWarning: lbfgs failed to converge (status=1):\n",
      "STOP: TOTAL NO. of ITERATIONS REACHED LIMIT.\n",
      "\n",
      "Increase the number of iterations (max_iter) or scale the data as shown in:\n",
      "    https://scikit-learn.org/stable/modules/preprocessing.html\n",
      "Please also refer to the documentation for alternative solver options:\n",
      "    https://scikit-learn.org/stable/modules/linear_model.html#logistic-regression\n",
      "  n_iter_i = _check_optimize_result(\n",
      "C:\\Users\\kacpe\\AppData\\Roaming\\Python\\Python310\\site-packages\\sklearn\\linear_model\\_logistic.py:458: ConvergenceWarning: lbfgs failed to converge (status=1):\n",
      "STOP: TOTAL NO. of ITERATIONS REACHED LIMIT.\n",
      "\n",
      "Increase the number of iterations (max_iter) or scale the data as shown in:\n",
      "    https://scikit-learn.org/stable/modules/preprocessing.html\n",
      "Please also refer to the documentation for alternative solver options:\n",
      "    https://scikit-learn.org/stable/modules/linear_model.html#logistic-regression\n",
      "  n_iter_i = _check_optimize_result(\n",
      "C:\\Users\\kacpe\\AppData\\Roaming\\Python\\Python310\\site-packages\\sklearn\\linear_model\\_logistic.py:458: ConvergenceWarning: lbfgs failed to converge (status=1):\n",
      "STOP: TOTAL NO. of ITERATIONS REACHED LIMIT.\n",
      "\n",
      "Increase the number of iterations (max_iter) or scale the data as shown in:\n",
      "    https://scikit-learn.org/stable/modules/preprocessing.html\n",
      "Please also refer to the documentation for alternative solver options:\n",
      "    https://scikit-learn.org/stable/modules/linear_model.html#logistic-regression\n",
      "  n_iter_i = _check_optimize_result(\n"
     ]
    }
   ],
   "source": [
    "#from sklearn import make_scorer\n",
    "\n",
    "model = LogisticRegression(random_state = 30, max_iter = 1500)\n",
    "\n",
    "scores_precision = cross_val_score(model, X_train, y_train, cv=5, scoring='precision_macro')\n",
    "scores_recall = cross_val_score(model, X_train, y_train, cv=5, scoring='recall_macro')"
   ]
  },
  {
   "cell_type": "code",
   "execution_count": 62,
   "metadata": {},
   "outputs": [
    {
     "name": "stdout",
     "output_type": "stream",
     "text": [
      "[0.97435897 0.96296296 0.91538462 0.96296296 0.89469697]\n",
      "[0.96666667 0.97222222 0.89722222 0.97222222 0.89772727]\n"
     ]
    }
   ],
   "source": [
    "print(scores_precision)\n",
    "print(scores_recall)"
   ]
  },
  {
   "cell_type": "code",
   "execution_count": 63,
   "metadata": {},
   "outputs": [
    {
     "ename": "NotFittedError",
     "evalue": "This LogisticRegression instance is not fitted yet. Call 'fit' with appropriate arguments before using this estimator.",
     "output_type": "error",
     "traceback": [
      "\u001b[1;31m---------------------------------------------------------------------------\u001b[0m",
      "\u001b[1;31mNotFittedError\u001b[0m                            Traceback (most recent call last)",
      "Cell \u001b[1;32mIn[63], line 1\u001b[0m\n\u001b[1;32m----> 1\u001b[0m y_pred_train \u001b[38;5;241m=\u001b[39m \u001b[43mmodel\u001b[49m\u001b[38;5;241;43m.\u001b[39;49m\u001b[43mpredict\u001b[49m\u001b[43m(\u001b[49m\u001b[43mX_train\u001b[49m\u001b[43m)\u001b[49m\n\u001b[0;32m      2\u001b[0m y_pred \u001b[38;5;241m=\u001b[39m model\u001b[38;5;241m.\u001b[39mpredict(X_test)\n\u001b[0;32m      4\u001b[0m f_train \u001b[38;5;241m=\u001b[39m f1_score(y_train, y_pred_train, average\u001b[38;5;241m=\u001b[39m\u001b[38;5;124m'\u001b[39m\u001b[38;5;124mweighted\u001b[39m\u001b[38;5;124m'\u001b[39m)\n",
      "File \u001b[1;32m~\\AppData\\Roaming\\Python\\Python310\\site-packages\\sklearn\\linear_model\\_base.py:419\u001b[0m, in \u001b[0;36mLinearClassifierMixin.predict\u001b[1;34m(self, X)\u001b[0m\n\u001b[0;32m    405\u001b[0m \u001b[38;5;250m\u001b[39m\u001b[38;5;124;03m\"\"\"\u001b[39;00m\n\u001b[0;32m    406\u001b[0m \u001b[38;5;124;03mPredict class labels for samples in X.\u001b[39;00m\n\u001b[0;32m    407\u001b[0m \n\u001b[1;32m   (...)\u001b[0m\n\u001b[0;32m    416\u001b[0m \u001b[38;5;124;03m    Vector containing the class labels for each sample.\u001b[39;00m\n\u001b[0;32m    417\u001b[0m \u001b[38;5;124;03m\"\"\"\u001b[39;00m\n\u001b[0;32m    418\u001b[0m xp, _ \u001b[38;5;241m=\u001b[39m get_namespace(X)\n\u001b[1;32m--> 419\u001b[0m scores \u001b[38;5;241m=\u001b[39m \u001b[38;5;28;43mself\u001b[39;49m\u001b[38;5;241;43m.\u001b[39;49m\u001b[43mdecision_function\u001b[49m\u001b[43m(\u001b[49m\u001b[43mX\u001b[49m\u001b[43m)\u001b[49m\n\u001b[0;32m    420\u001b[0m \u001b[38;5;28;01mif\u001b[39;00m \u001b[38;5;28mlen\u001b[39m(scores\u001b[38;5;241m.\u001b[39mshape) \u001b[38;5;241m==\u001b[39m \u001b[38;5;241m1\u001b[39m:\n\u001b[0;32m    421\u001b[0m     indices \u001b[38;5;241m=\u001b[39m xp\u001b[38;5;241m.\u001b[39mastype(scores \u001b[38;5;241m>\u001b[39m \u001b[38;5;241m0\u001b[39m, \u001b[38;5;28mint\u001b[39m)\n",
      "File \u001b[1;32m~\\AppData\\Roaming\\Python\\Python310\\site-packages\\sklearn\\linear_model\\_base.py:397\u001b[0m, in \u001b[0;36mLinearClassifierMixin.decision_function\u001b[1;34m(self, X)\u001b[0m\n\u001b[0;32m    378\u001b[0m \u001b[38;5;28;01mdef\u001b[39;00m \u001b[38;5;21mdecision_function\u001b[39m(\u001b[38;5;28mself\u001b[39m, X):\n\u001b[0;32m    379\u001b[0m \u001b[38;5;250m    \u001b[39m\u001b[38;5;124;03m\"\"\"\u001b[39;00m\n\u001b[0;32m    380\u001b[0m \u001b[38;5;124;03m    Predict confidence scores for samples.\u001b[39;00m\n\u001b[0;32m    381\u001b[0m \n\u001b[1;32m   (...)\u001b[0m\n\u001b[0;32m    395\u001b[0m \u001b[38;5;124;03m        this class would be predicted.\u001b[39;00m\n\u001b[0;32m    396\u001b[0m \u001b[38;5;124;03m    \"\"\"\u001b[39;00m\n\u001b[1;32m--> 397\u001b[0m     \u001b[43mcheck_is_fitted\u001b[49m\u001b[43m(\u001b[49m\u001b[38;5;28;43mself\u001b[39;49m\u001b[43m)\u001b[49m\n\u001b[0;32m    398\u001b[0m     xp, _ \u001b[38;5;241m=\u001b[39m get_namespace(X)\n\u001b[0;32m    400\u001b[0m     X \u001b[38;5;241m=\u001b[39m \u001b[38;5;28mself\u001b[39m\u001b[38;5;241m.\u001b[39m_validate_data(X, accept_sparse\u001b[38;5;241m=\u001b[39m\u001b[38;5;124m\"\u001b[39m\u001b[38;5;124mcsr\u001b[39m\u001b[38;5;124m\"\u001b[39m, reset\u001b[38;5;241m=\u001b[39m\u001b[38;5;28;01mFalse\u001b[39;00m)\n",
      "File \u001b[1;32m~\\AppData\\Roaming\\Python\\Python310\\site-packages\\sklearn\\utils\\validation.py:1390\u001b[0m, in \u001b[0;36mcheck_is_fitted\u001b[1;34m(estimator, attributes, msg, all_or_any)\u001b[0m\n\u001b[0;32m   1385\u001b[0m     fitted \u001b[38;5;241m=\u001b[39m [\n\u001b[0;32m   1386\u001b[0m         v \u001b[38;5;28;01mfor\u001b[39;00m v \u001b[38;5;129;01min\u001b[39;00m \u001b[38;5;28mvars\u001b[39m(estimator) \u001b[38;5;28;01mif\u001b[39;00m v\u001b[38;5;241m.\u001b[39mendswith(\u001b[38;5;124m\"\u001b[39m\u001b[38;5;124m_\u001b[39m\u001b[38;5;124m\"\u001b[39m) \u001b[38;5;129;01mand\u001b[39;00m \u001b[38;5;129;01mnot\u001b[39;00m v\u001b[38;5;241m.\u001b[39mstartswith(\u001b[38;5;124m\"\u001b[39m\u001b[38;5;124m__\u001b[39m\u001b[38;5;124m\"\u001b[39m)\n\u001b[0;32m   1387\u001b[0m     ]\n\u001b[0;32m   1389\u001b[0m \u001b[38;5;28;01mif\u001b[39;00m \u001b[38;5;129;01mnot\u001b[39;00m fitted:\n\u001b[1;32m-> 1390\u001b[0m     \u001b[38;5;28;01mraise\u001b[39;00m NotFittedError(msg \u001b[38;5;241m%\u001b[39m {\u001b[38;5;124m\"\u001b[39m\u001b[38;5;124mname\u001b[39m\u001b[38;5;124m\"\u001b[39m: \u001b[38;5;28mtype\u001b[39m(estimator)\u001b[38;5;241m.\u001b[39m\u001b[38;5;18m__name__\u001b[39m})\n",
      "\u001b[1;31mNotFittedError\u001b[0m: This LogisticRegression instance is not fitted yet. Call 'fit' with appropriate arguments before using this estimator."
     ]
    }
   ],
   "source": [
    "y_pred_train = model.predict(X_train)\n",
    "y_pred = model.predict(X_test)\n",
    "\n",
    "f_train = f1_score(y_train, y_pred_train, average='weighted')\n",
    "f_test = f1_score(y_test, y_pred, average='weighted')\n",
    "\n",
    "print(f'f-score na zbiorze treningowym: {f_train}')\n",
    "print(f'f-score na zbiorze testowym: {f_test}')"
   ]
  },
  {
   "cell_type": "markdown",
   "metadata": {},
   "source": [
    "Regularyzacja:"
   ]
  },
  {
   "cell_type": "code",
   "execution_count": null,
   "metadata": {},
   "outputs": [],
   "source": [
    "model = LogisticRegression(random_state=30, max_iter=100, penalty = 'l2', C=0.1)\n",
    "model.fit(X_train, y_train)\n",
    "\n",
    "\n",
    "y_pred_train = model.predict(X_train)\n",
    "y_pred = model.predict(X_test)\n",
    "\n",
    "f_train = f1_score(y_train, y_pred_train, average='weighted')\n",
    "f_test = f1_score(y_test, y_pred, average='weighted')\n",
    "\n",
    "print(f'f-score na zbiorze treningowym: {f_train}')\n",
    "print(f'f-score na zbiorze testowym: {f_test}')"
   ]
  },
  {
   "cell_type": "markdown",
   "metadata": {},
   "source": [
    "Przetestujmy teraz jednocześnie wiele wartości parametru regularyzacji"
   ]
  },
  {
   "cell_type": "code",
   "execution_count": null,
   "metadata": {},
   "outputs": [],
   "source": [
    "import numpy as np\n",
    "\n",
    "C_values = [10.0**x for x in np.arange(-3,2,1)]\n",
    "\n",
    "print(C_values)"
   ]
  },
  {
   "cell_type": "code",
   "execution_count": null,
   "metadata": {},
   "outputs": [],
   "source": [
    "train_err = []\n",
    "valid_err = []\n",
    "\n",
    "for C_value in C_values:\n",
    "    model = LogisticRegression(random_state=30, max_iter=100, penalty = 'l2', C=C_value)\n",
    "    model.fit(X_train, y_train)\n",
    "    \n",
    "    train_err.append(model.score(X_train, y_train))\n",
    "    valid_err.append(model.score(X_test, y_test))"
   ]
  },
  {
   "cell_type": "code",
   "execution_count": null,
   "metadata": {},
   "outputs": [],
   "source": [
    "train_err"
   ]
  },
  {
   "cell_type": "code",
   "execution_count": null,
   "metadata": {},
   "outputs": [],
   "source": [
    "plt.semilogx(C_values, train_err, C_values, valid_err)\n",
    "plt.legend(('train', 'validation'))\n",
    "plt.show()"
   ]
  },
  {
   "cell_type": "markdown",
   "metadata": {},
   "source": [
    "Skorzystajmy teraz z metody Grid Search. Regularyzacja l1 udostępnia selekcję cech, o możemy zobaczyć tu:"
   ]
  },
  {
   "cell_type": "code",
   "execution_count": null,
   "metadata": {},
   "outputs": [],
   "source": [
    "from sklearn.model_selection import GridSearchCV"
   ]
  },
  {
   "cell_type": "code",
   "execution_count": null,
   "metadata": {},
   "outputs": [],
   "source": [
    "lr = LogisticRegression(solver ='liblinear', random_state=30)\n",
    "\n",
    "params = {'C':[10.0**x for x in np.arange(-3,2,1)],\n",
    "         'penalty': ['l1', 'l2'],\n",
    "         'max_iter': [100, 300, 500]}"
   ]
  },
  {
   "cell_type": "code",
   "execution_count": null,
   "metadata": {},
   "outputs": [],
   "source": [
    "searcher = GridSearchCV(lr, param_grid=params, cv = 3, n_jobs=-1)\n",
    "searcher.fit(X_train, y_train)"
   ]
  },
  {
   "cell_type": "code",
   "execution_count": null,
   "metadata": {},
   "outputs": [],
   "source": [
    "best_lr = searcher.best_estimator_\n",
    "best_params = searcher.best_params_"
   ]
  },
  {
   "cell_type": "markdown",
   "metadata": {},
   "source": [
    "Sprawdźmy też jakie wartości współczynników wyznaczyła regresja rozwiązując naszy układ równań:"
   ]
  },
  {
   "cell_type": "code",
   "execution_count": null,
   "metadata": {},
   "outputs": [],
   "source": [
    "coefs = best_lr.coef_"
   ]
  },
  {
   "cell_type": "code",
   "execution_count": null,
   "metadata": {},
   "outputs": [],
   "source": [
    "coefs"
   ]
  },
  {
   "cell_type": "code",
   "execution_count": null,
   "metadata": {},
   "outputs": [],
   "source": [
    "best_params"
   ]
  },
  {
   "cell_type": "markdown",
   "metadata": {},
   "source": [
    "# Granice decyzyjne na sztucznie wygenerowanym zbiorze:"
   ]
  },
  {
   "cell_type": "markdown",
   "metadata": {},
   "source": [
    "Zaczniemy od wygenerowania sztucznego zbioru do klasyfikacji, składającego się z dwóch zbiorów punktów z rozkładu normalnego."
   ]
  },
  {
   "cell_type": "code",
   "execution_count": 64,
   "metadata": {},
   "outputs": [],
   "source": [
    "import numpy as np\n",
    "import matplotlib.pyplot as plt\n",
    "%matplotlib inline\n",
    "\n",
    "# losowe dane dla dwóch klas, przy przesunięciu środka rozkładu\n",
    "train_data = np.vstack((np.random.normal(size=(100, 2)),\n",
    "                        np.random.normal(size=(100, 2), loc=2)))\n",
    "\n",
    "train_labels = np.hstack((np.zeros(100), np.ones(100)))\n",
    "\n",
    "\n",
    "# np.vstack - połaczenie tablic wertykalne\n",
    "# np.hstack - połączenie tablic horyzontalne"
   ]
  },
  {
   "cell_type": "code",
   "execution_count": 65,
   "metadata": {},
   "outputs": [
    {
     "data": {
      "text/plain": [
       "(200, 2)"
      ]
     },
     "execution_count": 65,
     "metadata": {},
     "output_type": "execute_result"
    }
   ],
   "source": [
    "train_data.shape"
   ]
  },
  {
   "cell_type": "code",
   "execution_count": 66,
   "metadata": {},
   "outputs": [
    {
     "data": {
      "text/plain": [
       "array([[ 1.05337383, -0.20059054],\n",
       "       [ 0.69495118,  0.7654857 ],\n",
       "       [-2.6221522 ,  0.2972916 ],\n",
       "       [ 1.51040039,  0.25480384],\n",
       "       [ 1.56429243, -0.12258696],\n",
       "       [ 1.27606926, -0.27758475],\n",
       "       [ 1.34744278, -0.5673992 ],\n",
       "       [ 0.46552986,  0.03945125],\n",
       "       [-0.22495418,  1.09442436],\n",
       "       [ 0.84865797, -0.59690334]])"
      ]
     },
     "execution_count": 66,
     "metadata": {},
     "output_type": "execute_result"
    }
   ],
   "source": [
    "train_data[:10]"
   ]
  },
  {
   "cell_type": "code",
   "execution_count": 67,
   "metadata": {},
   "outputs": [
    {
     "data": {
      "text/plain": [
       "(200, 2)"
      ]
     },
     "execution_count": 67,
     "metadata": {},
     "output_type": "execute_result"
    }
   ],
   "source": [
    "train_data.shape"
   ]
  },
  {
   "cell_type": "code",
   "execution_count": 68,
   "metadata": {},
   "outputs": [
    {
     "data": {
      "text/plain": [
       "array([0., 0., 0., 0., 0., 0., 0., 0., 0., 0.])"
      ]
     },
     "execution_count": 68,
     "metadata": {},
     "output_type": "execute_result"
    }
   ],
   "source": [
    "train_labels[:10]"
   ]
  },
  {
   "cell_type": "markdown",
   "metadata": {},
   "source": [
    "Wyświetlimy je w postaci wykresu punktowego, wraz z linią dokładnie pomiędzy środkami obu rozkładów:"
   ]
  },
  {
   "cell_type": "code",
   "execution_count": 69,
   "metadata": {},
   "outputs": [
    {
     "data": {
      "text/plain": [
       "<matplotlib.collections.PathCollection at 0x19bd1952500>"
      ]
     },
     "execution_count": 69,
     "metadata": {},
     "output_type": "execute_result"
    },
    {
     "data": {
      "image/png": "[encoded data removed]",
      "text/plain": [
       "<Figure size 640x480 with 1 Axes>"
      ]
     },
     "metadata": {},
     "output_type": "display_data"
    }
   ],
   "source": [
    "fig, ax = plt.subplots()\n",
    "\n",
    "ax.scatter(train_data[:,0], train_data[:,1], c =train_labels)"
   ]
  },
  {
   "cell_type": "markdown",
   "metadata": {},
   "source": [
    "Na tak utworzonym zbiorze wytrenujemy model regresji logistycznej"
   ]
  },
  {
   "cell_type": "code",
   "execution_count": 70,
   "metadata": {},
   "outputs": [
    {
     "data": {
      "text/html": [
       "<style>#sk-container-id-5 {color: black;background-color: white;}#sk-container-id-5 pre{padding: 0;}#sk-container-id-5 div.sk-toggleable {background-color: white;}#sk-container-id-5 label.sk-toggleable__label {cursor: pointer;display: block;width: 100%;margin-bottom: 0;padding: 0.3em;box-sizing: border-box;text-align: center;}#sk-container-id-5 label.sk-toggleable__label-arrow:before {content: \"▸\";float: left;margin-right: 0.25em;color: #696969;}#sk-container-id-5 label.sk-toggleable__label-arrow:hover:before {color: black;}#sk-container-id-5 div.sk-estimator:hover label.sk-toggleable__label-arrow:before {color: black;}#sk-container-id-5 div.sk-toggleable__content {max-height: 0;max-width: 0;overflow: hidden;text-align: left;background-color: #f0f8ff;}#sk-container-id-5 div.sk-toggleable__content pre {margin: 0.2em;color: black;border-radius: 0.25em;background-color: #f0f8ff;}#sk-container-id-5 input.sk-toggleable__control:checked~div.sk-toggleable__content {max-height: 200px;max-width: 100%;overflow: auto;}#sk-container-id-5 input.sk-toggleable__control:checked~label.sk-toggleable__label-arrow:before {content: \"▾\";}#sk-container-id-5 div.sk-estimator input.sk-toggleable__control:checked~label.sk-toggleable__label {background-color: #d4ebff;}#sk-container-id-5 div.sk-label input.sk-toggleable__control:checked~label.sk-toggleable__label {background-color: #d4ebff;}#sk-container-id-5 input.sk-hidden--visually {border: 0;clip: rect(1px 1px 1px 1px);clip: rect(1px, 1px, 1px, 1px);height: 1px;margin: -1px;overflow: hidden;padding: 0;position: absolute;width: 1px;}#sk-container-id-5 div.sk-estimator {font-family: monospace;background-color: #f0f8ff;border: 1px dotted black;border-radius: 0.25em;box-sizing: border-box;margin-bottom: 0.5em;}#sk-container-id-5 div.sk-estimator:hover {background-color: #d4ebff;}#sk-container-id-5 div.sk-parallel-item::after {content: \"\";width: 100%;border-bottom: 1px solid gray;flex-grow: 1;}#sk-container-id-5 div.sk-label:hover label.sk-toggleable__label {background-color: #d4ebff;}#sk-container-id-5 div.sk-serial::before {content: \"\";position: absolute;border-left: 1px solid gray;box-sizing: border-box;top: 0;bottom: 0;left: 50%;z-index: 0;}#sk-container-id-5 div.sk-serial {display: flex;flex-direction: column;align-items: center;background-color: white;padding-right: 0.2em;padding-left: 0.2em;position: relative;}#sk-container-id-5 div.sk-item {position: relative;z-index: 1;}#sk-container-id-5 div.sk-parallel {display: flex;align-items: stretch;justify-content: center;background-color: white;position: relative;}#sk-container-id-5 div.sk-item::before, #sk-container-id-5 div.sk-parallel-item::before {content: \"\";position: absolute;border-left: 1px solid gray;box-sizing: border-box;top: 0;bottom: 0;left: 50%;z-index: -1;}#sk-container-id-5 div.sk-parallel-item {display: flex;flex-direction: column;z-index: 1;position: relative;background-color: white;}#sk-container-id-5 div.sk-parallel-item:first-child::after {align-self: flex-end;width: 50%;}#sk-container-id-5 div.sk-parallel-item:last-child::after {align-self: flex-start;width: 50%;}#sk-container-id-5 div.sk-parallel-item:only-child::after {width: 0;}#sk-container-id-5 div.sk-dashed-wrapped {border: 1px dashed gray;margin: 0 0.4em 0.5em 0.4em;box-sizing: border-box;padding-bottom: 0.4em;background-color: white;}#sk-container-id-5 div.sk-label label {font-family: monospace;font-weight: bold;display: inline-block;line-height: 1.2em;}#sk-container-id-5 div.sk-label-container {text-align: center;}#sk-container-id-5 div.sk-container {/* jupyter's `normalize.less` sets `[hidden] { display: none; }` but bootstrap.min.css set `[hidden] { display: none !important; }` so we also need the `!important` here to be able to override the default hidden behavior on the sphinx rendered scikit-learn.org. See: https://github.com/scikit-learn/scikit-learn/issues/21755 */display: inline-block !important;position: relative;}#sk-container-id-5 div.sk-text-repr-fallback {display: none;}</style><div id=\"sk-container-id-5\" class=\"sk-top-container\"><div class=\"sk-text-repr-fallback\"><pre>LogisticRegression()</pre><b>In a Jupyter environment, please rerun this cell to show the HTML representation or trust the notebook. <br />On GitHub, the HTML representation is unable to render, please try loading this page with nbviewer.org.</b></div><div class=\"sk-container\" hidden><div class=\"sk-item\"><div class=\"sk-estimator sk-toggleable\"><input class=\"sk-toggleable__control sk-hidden--visually\" id=\"sk-estimator-id-5\" type=\"checkbox\" checked><label for=\"sk-estimator-id-5\" class=\"sk-toggleable__label sk-toggleable__label-arrow\">LogisticRegression</label><div class=\"sk-toggleable__content\"><pre>LogisticRegression()</pre></div></div></div></div></div>"
      ],
      "text/plain": [
       "LogisticRegression()"
      ]
     },
     "execution_count": 70,
     "metadata": {},
     "output_type": "execute_result"
    }
   ],
   "source": [
    "from sklearn.linear_model import LogisticRegression\n",
    "model = LogisticRegression()\n",
    "model.fit(train_data, train_labels)"
   ]
  },
  {
   "cell_type": "markdown",
   "metadata": {},
   "source": [
    "Stwórzmy zbiór testowy poprzez rozszerzenie zakresu zbioru treningowego."
   ]
  },
  {
   "cell_type": "code",
   "execution_count": 71,
   "metadata": {},
   "outputs": [],
   "source": [
    "x_min, x_max = train_data[:,0].min() -1, train_data[:,0].max() +1\n",
    "y_min, y_max = train_data[:,1].min() -1, train_data[:,1].max() +1"
   ]
  },
  {
   "cell_type": "markdown",
   "metadata": {},
   "source": [
    "Funkcja ta zwraca meshgrid (czyli listę indeksów punktów z zadanego przedziału) na podstawie wygenerowanego zbioru danych."
   ]
  },
  {
   "cell_type": "code",
   "execution_count": 72,
   "metadata": {},
   "outputs": [],
   "source": [
    "xs, ys = np.meshgrid(np.arange(x_min, x_max, 0.01), np.arange(y_min, y_max, 0.01))"
   ]
  },
  {
   "cell_type": "code",
   "execution_count": 73,
   "metadata": {},
   "outputs": [
    {
     "name": "stdout",
     "output_type": "stream",
     "text": [
      "(860, 935)\n",
      "(860, 935)\n"
     ]
    }
   ],
   "source": [
    "print(xs.shape)\n",
    "print(ys.shape)"
   ]
  },
  {
   "cell_type": "code",
   "execution_count": 74,
   "metadata": {},
   "outputs": [],
   "source": [
    "y_pred = model.predict(np.column_stack((xs.flatten(),\n",
    "                                       ys.flatten())))"
   ]
  },
  {
   "cell_type": "code",
   "execution_count": 75,
   "metadata": {},
   "outputs": [
    {
     "name": "stdout",
     "output_type": "stream",
     "text": [
      "(804100,)\n"
     ]
    }
   ],
   "source": [
    "print(y_pred.shape)"
   ]
  },
  {
   "cell_type": "code",
   "execution_count": 76,
   "metadata": {},
   "outputs": [],
   "source": [
    "y_pred_matrix = y_pred.reshape(xs.shape)"
   ]
  },
  {
   "cell_type": "code",
   "execution_count": 77,
   "metadata": {},
   "outputs": [
    {
     "data": {
      "text/plain": [
       "array([[0., 0., 0., ..., 0., 0., 0.],\n",
       "       [0., 0., 0., ..., 0., 0., 0.],\n",
       "       [0., 0., 0., ..., 0., 0., 0.],\n",
       "       ...,\n",
       "       [1., 1., 1., ..., 1., 1., 1.],\n",
       "       [1., 1., 1., ..., 1., 1., 1.],\n",
       "       [1., 1., 1., ..., 1., 1., 1.]])"
      ]
     },
     "execution_count": 77,
     "metadata": {},
     "output_type": "execute_result"
    }
   ],
   "source": [
    "y_pred_matrix"
   ]
  },
  {
   "cell_type": "markdown",
   "metadata": {},
   "source": [
    "Dokonujemy predykcji oraz wyświetlamy wszystkie punkty pcolormeshem, żeby zobaczyć w jaki sposób regresja logistyczna dokonała podziału przestrzeni."
   ]
  },
  {
   "cell_type": "code",
   "execution_count": 78,
   "metadata": {},
   "outputs": [
    {
     "name": "stdout",
     "output_type": "stream",
     "text": [
      "[-3.62215220e+00 -3.61215220e+00 -3.60215220e+00 -3.59215220e+00\n",
      " -3.58215220e+00 -3.57215220e+00 -3.56215220e+00 -3.55215220e+00\n",
      " -3.54215220e+00 -3.53215220e+00 -3.52215220e+00 -3.51215220e+00\n",
      " -3.50215220e+00 -3.49215220e+00 -3.48215220e+00 -3.47215220e+00\n",
      " -3.46215220e+00 -3.45215220e+00 -3.44215220e+00 -3.43215220e+00\n",
      " -3.42215220e+00 -3.41215220e+00 -3.40215220e+00 -3.39215220e+00\n",
      " -3.38215220e+00 -3.37215220e+00 -3.36215220e+00 -3.35215220e+00\n",
      " -3.34215220e+00 -3.33215220e+00 -3.32215220e+00 -3.31215220e+00\n",
      " -3.30215220e+00 -3.29215220e+00 -3.28215220e+00 -3.27215220e+00\n",
      " -3.26215220e+00 -3.25215220e+00 -3.24215220e+00 -3.23215220e+00\n",
      " -3.22215220e+00 -3.21215220e+00 -3.20215220e+00 -3.19215220e+00\n",
      " -3.18215220e+00 -3.17215220e+00 -3.16215220e+00 -3.15215220e+00\n",
      " -3.14215220e+00 -3.13215220e+00 -3.12215220e+00 -3.11215220e+00\n",
      " -3.10215220e+00 -3.09215220e+00 -3.08215220e+00 -3.07215220e+00\n",
      " -3.06215220e+00 -3.05215220e+00 -3.04215220e+00 -3.03215220e+00\n",
      " -3.02215220e+00 -3.01215220e+00 -3.00215220e+00 -2.99215220e+00\n",
      " -2.98215220e+00 -2.97215220e+00 -2.96215220e+00 -2.95215220e+00\n",
      " -2.94215220e+00 -2.93215220e+00 -2.92215220e+00 -2.91215220e+00\n",
      " -2.90215220e+00 -2.89215220e+00 -2.88215220e+00 -2.87215220e+00\n",
      " -2.86215220e+00 -2.85215220e+00 -2.84215220e+00 -2.83215220e+00\n",
      " -2.82215220e+00 -2.81215220e+00 -2.80215220e+00 -2.79215220e+00\n",
      " -2.78215220e+00 -2.77215220e+00 -2.76215220e+00 -2.75215220e+00\n",
      " -2.74215220e+00 -2.73215220e+00 -2.72215220e+00 -2.71215220e+00\n",
      " -2.70215220e+00 -2.69215220e+00 -2.68215220e+00 -2.67215220e+00\n",
      " -2.66215220e+00 -2.65215220e+00 -2.64215220e+00 -2.63215220e+00\n",
      " -2.62215220e+00 -2.61215220e+00 -2.60215220e+00 -2.59215220e+00\n",
      " -2.58215220e+00 -2.57215220e+00 -2.56215220e+00 -2.55215220e+00\n",
      " -2.54215220e+00 -2.53215220e+00 -2.52215220e+00 -2.51215220e+00\n",
      " -2.50215220e+00 -2.49215220e+00 -2.48215220e+00 -2.47215220e+00\n",
      " -2.46215220e+00 -2.45215220e+00 -2.44215220e+00 -2.43215220e+00\n",
      " -2.42215220e+00 -2.41215220e+00 -2.40215220e+00 -2.39215220e+00\n",
      " -2.38215220e+00 -2.37215220e+00 -2.36215220e+00 -2.35215220e+00\n",
      " -2.34215220e+00 -2.33215220e+00 -2.32215220e+00 -2.31215220e+00\n",
      " -2.30215220e+00 -2.29215220e+00 -2.28215220e+00 -2.27215220e+00\n",
      " -2.26215220e+00 -2.25215220e+00 -2.24215220e+00 -2.23215220e+00\n",
      " -2.22215220e+00 -2.21215220e+00 -2.20215220e+00 -2.19215220e+00\n",
      " -2.18215220e+00 -2.17215220e+00 -2.16215220e+00 -2.15215220e+00\n",
      " -2.14215220e+00 -2.13215220e+00 -2.12215220e+00 -2.11215220e+00\n",
      " -2.10215220e+00 -2.09215220e+00 -2.08215220e+00 -2.07215220e+00\n",
      " -2.06215220e+00 -2.05215220e+00 -2.04215220e+00 -2.03215220e+00\n",
      " -2.02215220e+00 -2.01215220e+00 -2.00215220e+00 -1.99215220e+00\n",
      " -1.98215220e+00 -1.97215220e+00 -1.96215220e+00 -1.95215220e+00\n",
      " -1.94215220e+00 -1.93215220e+00 -1.92215220e+00 -1.91215220e+00\n",
      " -1.90215220e+00 -1.89215220e+00 -1.88215220e+00 -1.87215220e+00\n",
      " -1.86215220e+00 -1.85215220e+00 -1.84215220e+00 -1.83215220e+00\n",
      " -1.82215220e+00 -1.81215220e+00 -1.80215220e+00 -1.79215220e+00\n",
      " -1.78215220e+00 -1.77215220e+00 -1.76215220e+00 -1.75215220e+00\n",
      " -1.74215220e+00 -1.73215220e+00 -1.72215220e+00 -1.71215220e+00\n",
      " -1.70215220e+00 -1.69215220e+00 -1.68215220e+00 -1.67215220e+00\n",
      " -1.66215220e+00 -1.65215220e+00 -1.64215220e+00 -1.63215220e+00\n",
      " -1.62215220e+00 -1.61215220e+00 -1.60215220e+00 -1.59215220e+00\n",
      " -1.58215220e+00 -1.57215220e+00 -1.56215220e+00 -1.55215220e+00\n",
      " -1.54215220e+00 -1.53215220e+00 -1.52215220e+00 -1.51215220e+00\n",
      " -1.50215220e+00 -1.49215220e+00 -1.48215220e+00 -1.47215220e+00\n",
      " -1.46215220e+00 -1.45215220e+00 -1.44215220e+00 -1.43215220e+00\n",
      " -1.42215220e+00 -1.41215220e+00 -1.40215220e+00 -1.39215220e+00\n",
      " -1.38215220e+00 -1.37215220e+00 -1.36215220e+00 -1.35215220e+00\n",
      " -1.34215220e+00 -1.33215220e+00 -1.32215220e+00 -1.31215220e+00\n",
      " -1.30215220e+00 -1.29215220e+00 -1.28215220e+00 -1.27215220e+00\n",
      " -1.26215220e+00 -1.25215220e+00 -1.24215220e+00 -1.23215220e+00\n",
      " -1.22215220e+00 -1.21215220e+00 -1.20215220e+00 -1.19215220e+00\n",
      " -1.18215220e+00 -1.17215220e+00 -1.16215220e+00 -1.15215220e+00\n",
      " -1.14215220e+00 -1.13215220e+00 -1.12215220e+00 -1.11215220e+00\n",
      " -1.10215220e+00 -1.09215220e+00 -1.08215220e+00 -1.07215220e+00\n",
      " -1.06215220e+00 -1.05215220e+00 -1.04215220e+00 -1.03215220e+00\n",
      " -1.02215220e+00 -1.01215220e+00 -1.00215220e+00 -9.92152205e-01\n",
      " -9.82152205e-01 -9.72152205e-01 -9.62152205e-01 -9.52152205e-01\n",
      " -9.42152205e-01 -9.32152205e-01 -9.22152205e-01 -9.12152205e-01\n",
      " -9.02152205e-01 -8.92152205e-01 -8.82152205e-01 -8.72152205e-01\n",
      " -8.62152205e-01 -8.52152205e-01 -8.42152205e-01 -8.32152205e-01\n",
      " -8.22152205e-01 -8.12152205e-01 -8.02152205e-01 -7.92152205e-01\n",
      " -7.82152205e-01 -7.72152205e-01 -7.62152205e-01 -7.52152205e-01\n",
      " -7.42152205e-01 -7.32152205e-01 -7.22152205e-01 -7.12152205e-01\n",
      " -7.02152205e-01 -6.92152205e-01 -6.82152205e-01 -6.72152205e-01\n",
      " -6.62152205e-01 -6.52152205e-01 -6.42152205e-01 -6.32152205e-01\n",
      " -6.22152205e-01 -6.12152205e-01 -6.02152205e-01 -5.92152205e-01\n",
      " -5.82152205e-01 -5.72152205e-01 -5.62152205e-01 -5.52152205e-01\n",
      " -5.42152205e-01 -5.32152205e-01 -5.22152205e-01 -5.12152205e-01\n",
      " -5.02152205e-01 -4.92152205e-01 -4.82152205e-01 -4.72152205e-01\n",
      " -4.62152205e-01 -4.52152205e-01 -4.42152205e-01 -4.32152205e-01\n",
      " -4.22152205e-01 -4.12152205e-01 -4.02152205e-01 -3.92152205e-01\n",
      " -3.82152205e-01 -3.72152205e-01 -3.62152205e-01 -3.52152205e-01\n",
      " -3.42152205e-01 -3.32152205e-01 -3.22152205e-01 -3.12152205e-01\n",
      " -3.02152205e-01 -2.92152205e-01 -2.82152205e-01 -2.72152205e-01\n",
      " -2.62152205e-01 -2.52152205e-01 -2.42152205e-01 -2.32152205e-01\n",
      " -2.22152205e-01 -2.12152205e-01 -2.02152205e-01 -1.92152205e-01\n",
      " -1.82152205e-01 -1.72152205e-01 -1.62152205e-01 -1.52152205e-01\n",
      " -1.42152205e-01 -1.32152205e-01 -1.22152205e-01 -1.12152205e-01\n",
      " -1.02152205e-01 -9.21522048e-02 -8.21522048e-02 -7.21522048e-02\n",
      " -6.21522048e-02 -5.21522048e-02 -4.21522048e-02 -3.21522048e-02\n",
      " -2.21522048e-02 -1.21522048e-02 -2.15220482e-03  7.84779518e-03\n",
      "  1.78477952e-02  2.78477952e-02  3.78477952e-02  4.78477952e-02\n",
      "  5.78477952e-02  6.78477952e-02  7.78477952e-02  8.78477952e-02\n",
      "  9.78477952e-02  1.07847795e-01  1.17847795e-01  1.27847795e-01\n",
      "  1.37847795e-01  1.47847795e-01  1.57847795e-01  1.67847795e-01\n",
      "  1.77847795e-01  1.87847795e-01  1.97847795e-01  2.07847795e-01\n",
      "  2.17847795e-01  2.27847795e-01  2.37847795e-01  2.47847795e-01\n",
      "  2.57847795e-01  2.67847795e-01  2.77847795e-01  2.87847795e-01\n",
      "  2.97847795e-01  3.07847795e-01  3.17847795e-01  3.27847795e-01\n",
      "  3.37847795e-01  3.47847795e-01  3.57847795e-01  3.67847795e-01\n",
      "  3.77847795e-01  3.87847795e-01  3.97847795e-01  4.07847795e-01\n",
      "  4.17847795e-01  4.27847795e-01  4.37847795e-01  4.47847795e-01\n",
      "  4.57847795e-01  4.67847795e-01  4.77847795e-01  4.87847795e-01\n",
      "  4.97847795e-01  5.07847795e-01  5.17847795e-01  5.27847795e-01\n",
      "  5.37847795e-01  5.47847795e-01  5.57847795e-01  5.67847795e-01\n",
      "  5.77847795e-01  5.87847795e-01  5.97847795e-01  6.07847795e-01\n",
      "  6.17847795e-01  6.27847795e-01  6.37847795e-01  6.47847795e-01\n",
      "  6.57847795e-01  6.67847795e-01  6.77847795e-01  6.87847795e-01\n",
      "  6.97847795e-01  7.07847795e-01  7.17847795e-01  7.27847795e-01\n",
      "  7.37847795e-01  7.47847795e-01  7.57847795e-01  7.67847795e-01\n",
      "  7.77847795e-01  7.87847795e-01  7.97847795e-01  8.07847795e-01\n",
      "  8.17847795e-01  8.27847795e-01  8.37847795e-01  8.47847795e-01\n",
      "  8.57847795e-01  8.67847795e-01  8.77847795e-01  8.87847795e-01\n",
      "  8.97847795e-01  9.07847795e-01  9.17847795e-01  9.27847795e-01\n",
      "  9.37847795e-01  9.47847795e-01  9.57847795e-01  9.67847795e-01\n",
      "  9.77847795e-01  9.87847795e-01  9.97847795e-01  1.00784780e+00\n",
      "  1.01784780e+00  1.02784780e+00  1.03784780e+00  1.04784780e+00\n",
      "  1.05784780e+00  1.06784780e+00  1.07784780e+00  1.08784780e+00\n",
      "  1.09784780e+00  1.10784780e+00  1.11784780e+00  1.12784780e+00\n",
      "  1.13784780e+00  1.14784780e+00  1.15784780e+00  1.16784780e+00\n",
      "  1.17784780e+00  1.18784780e+00  1.19784780e+00  1.20784780e+00\n",
      "  1.21784780e+00  1.22784780e+00  1.23784780e+00  1.24784780e+00\n",
      "  1.25784780e+00  1.26784780e+00  1.27784780e+00  1.28784780e+00\n",
      "  1.29784780e+00  1.30784780e+00  1.31784780e+00  1.32784780e+00\n",
      "  1.33784780e+00  1.34784780e+00  1.35784780e+00  1.36784780e+00\n",
      "  1.37784780e+00  1.38784780e+00  1.39784780e+00  1.40784780e+00\n",
      "  1.41784780e+00  1.42784780e+00  1.43784780e+00  1.44784780e+00\n",
      "  1.45784780e+00  1.46784780e+00  1.47784780e+00  1.48784780e+00\n",
      "  1.49784780e+00  1.50784780e+00  1.51784780e+00  1.52784780e+00\n",
      "  1.53784780e+00  1.54784780e+00  1.55784780e+00  1.56784780e+00\n",
      "  1.57784780e+00  1.58784780e+00  1.59784780e+00  1.60784780e+00\n",
      "  1.61784780e+00  1.62784780e+00  1.63784780e+00  1.64784780e+00\n",
      "  1.65784780e+00  1.66784780e+00  1.67784780e+00  1.68784780e+00\n",
      "  1.69784780e+00  1.70784780e+00  1.71784780e+00  1.72784780e+00\n",
      "  1.73784780e+00  1.74784780e+00  1.75784780e+00  1.76784780e+00\n",
      "  1.77784780e+00  1.78784780e+00  1.79784780e+00  1.80784780e+00\n",
      "  1.81784780e+00  1.82784780e+00  1.83784780e+00  1.84784780e+00\n",
      "  1.85784780e+00  1.86784780e+00  1.87784780e+00  1.88784780e+00\n",
      "  1.89784780e+00  1.90784780e+00  1.91784780e+00  1.92784780e+00\n",
      "  1.93784780e+00  1.94784780e+00  1.95784780e+00  1.96784780e+00\n",
      "  1.97784780e+00  1.98784780e+00  1.99784780e+00  2.00784780e+00\n",
      "  2.01784780e+00  2.02784780e+00  2.03784780e+00  2.04784780e+00\n",
      "  2.05784780e+00  2.06784780e+00  2.07784780e+00  2.08784780e+00\n",
      "  2.09784780e+00  2.10784780e+00  2.11784780e+00  2.12784780e+00\n",
      "  2.13784780e+00  2.14784780e+00  2.15784780e+00  2.16784780e+00\n",
      "  2.17784780e+00  2.18784780e+00  2.19784780e+00  2.20784780e+00\n",
      "  2.21784780e+00  2.22784780e+00  2.23784780e+00  2.24784780e+00\n",
      "  2.25784780e+00  2.26784780e+00  2.27784780e+00  2.28784780e+00\n",
      "  2.29784780e+00  2.30784780e+00  2.31784780e+00  2.32784780e+00\n",
      "  2.33784780e+00  2.34784780e+00  2.35784780e+00  2.36784780e+00\n",
      "  2.37784780e+00  2.38784780e+00  2.39784780e+00  2.40784780e+00\n",
      "  2.41784780e+00  2.42784780e+00  2.43784780e+00  2.44784780e+00\n",
      "  2.45784780e+00  2.46784780e+00  2.47784780e+00  2.48784780e+00\n",
      "  2.49784780e+00  2.50784780e+00  2.51784780e+00  2.52784780e+00\n",
      "  2.53784780e+00  2.54784780e+00  2.55784780e+00  2.56784780e+00\n",
      "  2.57784780e+00  2.58784780e+00  2.59784780e+00  2.60784780e+00\n",
      "  2.61784780e+00  2.62784780e+00  2.63784780e+00  2.64784780e+00\n",
      "  2.65784780e+00  2.66784780e+00  2.67784780e+00  2.68784780e+00\n",
      "  2.69784780e+00  2.70784780e+00  2.71784780e+00  2.72784780e+00\n",
      "  2.73784780e+00  2.74784780e+00  2.75784780e+00  2.76784780e+00\n",
      "  2.77784780e+00  2.78784780e+00  2.79784780e+00  2.80784780e+00\n",
      "  2.81784780e+00  2.82784780e+00  2.83784780e+00  2.84784780e+00\n",
      "  2.85784780e+00  2.86784780e+00  2.87784780e+00  2.88784780e+00\n",
      "  2.89784780e+00  2.90784780e+00  2.91784780e+00  2.92784780e+00\n",
      "  2.93784780e+00  2.94784780e+00  2.95784780e+00  2.96784780e+00\n",
      "  2.97784780e+00  2.98784780e+00  2.99784780e+00  3.00784780e+00\n",
      "  3.01784780e+00  3.02784780e+00  3.03784780e+00  3.04784780e+00\n",
      "  3.05784780e+00  3.06784780e+00  3.07784780e+00  3.08784780e+00\n",
      "  3.09784780e+00  3.10784780e+00  3.11784780e+00  3.12784780e+00\n",
      "  3.13784780e+00  3.14784780e+00  3.15784780e+00  3.16784780e+00\n",
      "  3.17784780e+00  3.18784780e+00  3.19784780e+00  3.20784780e+00\n",
      "  3.21784780e+00  3.22784780e+00  3.23784780e+00  3.24784780e+00\n",
      "  3.25784780e+00  3.26784780e+00  3.27784780e+00  3.28784780e+00\n",
      "  3.29784780e+00  3.30784780e+00  3.31784780e+00  3.32784780e+00\n",
      "  3.33784780e+00  3.34784780e+00  3.35784780e+00  3.36784780e+00\n",
      "  3.37784780e+00  3.38784780e+00  3.39784780e+00  3.40784780e+00\n",
      "  3.41784780e+00  3.42784780e+00  3.43784780e+00  3.44784780e+00\n",
      "  3.45784780e+00  3.46784780e+00  3.47784780e+00  3.48784780e+00\n",
      "  3.49784780e+00  3.50784780e+00  3.51784780e+00  3.52784780e+00\n",
      "  3.53784780e+00  3.54784780e+00  3.55784780e+00  3.56784780e+00\n",
      "  3.57784780e+00  3.58784780e+00  3.59784780e+00  3.60784780e+00\n",
      "  3.61784780e+00  3.62784780e+00  3.63784780e+00  3.64784780e+00\n",
      "  3.65784780e+00  3.66784780e+00  3.67784780e+00  3.68784780e+00\n",
      "  3.69784780e+00  3.70784780e+00  3.71784780e+00  3.72784780e+00\n",
      "  3.73784780e+00  3.74784780e+00  3.75784780e+00  3.76784780e+00\n",
      "  3.77784780e+00  3.78784780e+00  3.79784780e+00  3.80784780e+00\n",
      "  3.81784780e+00  3.82784780e+00  3.83784780e+00  3.84784780e+00\n",
      "  3.85784780e+00  3.86784780e+00  3.87784780e+00  3.88784780e+00\n",
      "  3.89784780e+00  3.90784780e+00  3.91784780e+00  3.92784780e+00\n",
      "  3.93784780e+00  3.94784780e+00  3.95784780e+00  3.96784780e+00\n",
      "  3.97784780e+00  3.98784780e+00  3.99784780e+00  4.00784780e+00\n",
      "  4.01784780e+00  4.02784780e+00  4.03784780e+00  4.04784780e+00\n",
      "  4.05784780e+00  4.06784780e+00  4.07784780e+00  4.08784780e+00\n",
      "  4.09784780e+00  4.10784780e+00  4.11784780e+00  4.12784780e+00\n",
      "  4.13784780e+00  4.14784780e+00  4.15784780e+00  4.16784780e+00\n",
      "  4.17784780e+00  4.18784780e+00  4.19784780e+00  4.20784780e+00\n",
      "  4.21784780e+00  4.22784780e+00  4.23784780e+00  4.24784780e+00\n",
      "  4.25784780e+00  4.26784780e+00  4.27784780e+00  4.28784780e+00\n",
      "  4.29784780e+00  4.30784780e+00  4.31784780e+00  4.32784780e+00\n",
      "  4.33784780e+00  4.34784780e+00  4.35784780e+00  4.36784780e+00\n",
      "  4.37784780e+00  4.38784780e+00  4.39784780e+00  4.40784780e+00\n",
      "  4.41784780e+00  4.42784780e+00  4.43784780e+00  4.44784780e+00\n",
      "  4.45784780e+00  4.46784780e+00  4.47784780e+00  4.48784780e+00\n",
      "  4.49784780e+00  4.50784780e+00  4.51784780e+00  4.52784780e+00\n",
      "  4.53784780e+00  4.54784780e+00  4.55784780e+00  4.56784780e+00\n",
      "  4.57784780e+00  4.58784780e+00  4.59784780e+00  4.60784780e+00\n",
      "  4.61784780e+00  4.62784780e+00  4.63784780e+00  4.64784780e+00\n",
      "  4.65784780e+00  4.66784780e+00  4.67784780e+00  4.68784780e+00\n",
      "  4.69784780e+00  4.70784780e+00  4.71784780e+00  4.72784780e+00\n",
      "  4.73784780e+00  4.74784780e+00  4.75784780e+00  4.76784780e+00\n",
      "  4.77784780e+00  4.78784780e+00  4.79784780e+00  4.80784780e+00\n",
      "  4.81784780e+00  4.82784780e+00  4.83784780e+00  4.84784780e+00\n",
      "  4.85784780e+00  4.86784780e+00  4.87784780e+00  4.88784780e+00\n",
      "  4.89784780e+00  4.90784780e+00  4.91784780e+00  4.92784780e+00\n",
      "  4.93784780e+00  4.94784780e+00  4.95784780e+00  4.96784780e+00\n",
      "  4.97784780e+00  4.98784780e+00  4.99784780e+00  5.00784780e+00\n",
      "  5.01784780e+00  5.02784780e+00  5.03784780e+00  5.04784780e+00\n",
      "  5.05784780e+00  5.06784780e+00  5.07784780e+00  5.08784780e+00\n",
      "  5.09784780e+00  5.10784780e+00  5.11784780e+00  5.12784780e+00\n",
      "  5.13784780e+00  5.14784780e+00  5.15784780e+00  5.16784780e+00\n",
      "  5.17784780e+00  5.18784780e+00  5.19784780e+00  5.20784780e+00\n",
      "  5.21784780e+00  5.22784780e+00  5.23784780e+00  5.24784780e+00\n",
      "  5.25784780e+00  5.26784780e+00  5.27784780e+00  5.28784780e+00\n",
      "  5.29784780e+00  5.30784780e+00  5.31784780e+00  5.32784780e+00\n",
      "  5.33784780e+00  5.34784780e+00  5.35784780e+00  5.36784780e+00\n",
      "  5.37784780e+00  5.38784780e+00  5.39784780e+00  5.40784780e+00\n",
      "  5.41784780e+00  5.42784780e+00  5.43784780e+00  5.44784780e+00\n",
      "  5.45784780e+00  5.46784780e+00  5.47784780e+00  5.48784780e+00\n",
      "  5.49784780e+00  5.50784780e+00  5.51784780e+00  5.52784780e+00\n",
      "  5.53784780e+00  5.54784780e+00  5.55784780e+00  5.56784780e+00\n",
      "  5.57784780e+00  5.58784780e+00  5.59784780e+00  5.60784780e+00\n",
      "  5.61784780e+00  5.62784780e+00  5.63784780e+00  5.64784780e+00\n",
      "  5.65784780e+00  5.66784780e+00  5.67784780e+00  5.68784780e+00\n",
      "  5.69784780e+00  5.70784780e+00  5.71784780e+00] [-3.01785773 -3.01785773 -3.01785773 -3.01785773 -3.01785773 -3.01785773\n",
      " -3.01785773 -3.01785773 -3.01785773 -3.01785773 -3.01785773 -3.01785773\n",
      " -3.01785773 -3.01785773 -3.01785773 -3.01785773 -3.01785773 -3.01785773\n",
      " -3.01785773 -3.01785773 -3.01785773 -3.01785773 -3.01785773 -3.01785773\n",
      " -3.01785773 -3.01785773 -3.01785773 -3.01785773 -3.01785773 -3.01785773\n",
      " -3.01785773 -3.01785773 -3.01785773 -3.01785773 -3.01785773 -3.01785773\n",
      " -3.01785773 -3.01785773 -3.01785773 -3.01785773 -3.01785773 -3.01785773\n",
      " -3.01785773 -3.01785773 -3.01785773 -3.01785773 -3.01785773 -3.01785773\n",
      " -3.01785773 -3.01785773 -3.01785773 -3.01785773 -3.01785773 -3.01785773\n",
      " -3.01785773 -3.01785773 -3.01785773 -3.01785773 -3.01785773 -3.01785773\n",
      " -3.01785773 -3.01785773 -3.01785773 -3.01785773 -3.01785773 -3.01785773\n",
      " -3.01785773 -3.01785773 -3.01785773 -3.01785773 -3.01785773 -3.01785773\n",
      " -3.01785773 -3.01785773 -3.01785773 -3.01785773 -3.01785773 -3.01785773\n",
      " -3.01785773 -3.01785773 -3.01785773 -3.01785773 -3.01785773 -3.01785773\n",
      " -3.01785773 -3.01785773 -3.01785773 -3.01785773 -3.01785773 -3.01785773\n",
      " -3.01785773 -3.01785773 -3.01785773 -3.01785773 -3.01785773 -3.01785773\n",
      " -3.01785773 -3.01785773 -3.01785773 -3.01785773 -3.01785773 -3.01785773\n",
      " -3.01785773 -3.01785773 -3.01785773 -3.01785773 -3.01785773 -3.01785773\n",
      " -3.01785773 -3.01785773 -3.01785773 -3.01785773 -3.01785773 -3.01785773\n",
      " -3.01785773 -3.01785773 -3.01785773 -3.01785773 -3.01785773 -3.01785773\n",
      " -3.01785773 -3.01785773 -3.01785773 -3.01785773 -3.01785773 -3.01785773\n",
      " -3.01785773 -3.01785773 -3.01785773 -3.01785773 -3.01785773 -3.01785773\n",
      " -3.01785773 -3.01785773 -3.01785773 -3.01785773 -3.01785773 -3.01785773\n",
      " -3.01785773 -3.01785773 -3.01785773 -3.01785773 -3.01785773 -3.01785773\n",
      " -3.01785773 -3.01785773 -3.01785773 -3.01785773 -3.01785773 -3.01785773\n",
      " -3.01785773 -3.01785773 -3.01785773 -3.01785773 -3.01785773 -3.01785773\n",
      " -3.01785773 -3.01785773 -3.01785773 -3.01785773 -3.01785773 -3.01785773\n",
      " -3.01785773 -3.01785773 -3.01785773 -3.01785773 -3.01785773 -3.01785773\n",
      " -3.01785773 -3.01785773 -3.01785773 -3.01785773 -3.01785773 -3.01785773\n",
      " -3.01785773 -3.01785773 -3.01785773 -3.01785773 -3.01785773 -3.01785773\n",
      " -3.01785773 -3.01785773 -3.01785773 -3.01785773 -3.01785773 -3.01785773\n",
      " -3.01785773 -3.01785773 -3.01785773 -3.01785773 -3.01785773 -3.01785773\n",
      " -3.01785773 -3.01785773 -3.01785773 -3.01785773 -3.01785773 -3.01785773\n",
      " -3.01785773 -3.01785773 -3.01785773 -3.01785773 -3.01785773 -3.01785773\n",
      " -3.01785773 -3.01785773 -3.01785773 -3.01785773 -3.01785773 -3.01785773\n",
      " -3.01785773 -3.01785773 -3.01785773 -3.01785773 -3.01785773 -3.01785773\n",
      " -3.01785773 -3.01785773 -3.01785773 -3.01785773 -3.01785773 -3.01785773\n",
      " -3.01785773 -3.01785773 -3.01785773 -3.01785773 -3.01785773 -3.01785773\n",
      " -3.01785773 -3.01785773 -3.01785773 -3.01785773 -3.01785773 -3.01785773\n",
      " -3.01785773 -3.01785773 -3.01785773 -3.01785773 -3.01785773 -3.01785773\n",
      " -3.01785773 -3.01785773 -3.01785773 -3.01785773 -3.01785773 -3.01785773\n",
      " -3.01785773 -3.01785773 -3.01785773 -3.01785773 -3.01785773 -3.01785773\n",
      " -3.01785773 -3.01785773 -3.01785773 -3.01785773 -3.01785773 -3.01785773\n",
      " -3.01785773 -3.01785773 -3.01785773 -3.01785773 -3.01785773 -3.01785773\n",
      " -3.01785773 -3.01785773 -3.01785773 -3.01785773 -3.01785773 -3.01785773\n",
      " -3.01785773 -3.01785773 -3.01785773 -3.01785773 -3.01785773 -3.01785773\n",
      " -3.01785773 -3.01785773 -3.01785773 -3.01785773 -3.01785773 -3.01785773\n",
      " -3.01785773 -3.01785773 -3.01785773 -3.01785773 -3.01785773 -3.01785773\n",
      " -3.01785773 -3.01785773 -3.01785773 -3.01785773 -3.01785773 -3.01785773\n",
      " -3.01785773 -3.01785773 -3.01785773 -3.01785773 -3.01785773 -3.01785773\n",
      " -3.01785773 -3.01785773 -3.01785773 -3.01785773 -3.01785773 -3.01785773\n",
      " -3.01785773 -3.01785773 -3.01785773 -3.01785773 -3.01785773 -3.01785773\n",
      " -3.01785773 -3.01785773 -3.01785773 -3.01785773 -3.01785773 -3.01785773\n",
      " -3.01785773 -3.01785773 -3.01785773 -3.01785773 -3.01785773 -3.01785773\n",
      " -3.01785773 -3.01785773 -3.01785773 -3.01785773 -3.01785773 -3.01785773\n",
      " -3.01785773 -3.01785773 -3.01785773 -3.01785773 -3.01785773 -3.01785773\n",
      " -3.01785773 -3.01785773 -3.01785773 -3.01785773 -3.01785773 -3.01785773\n",
      " -3.01785773 -3.01785773 -3.01785773 -3.01785773 -3.01785773 -3.01785773\n",
      " -3.01785773 -3.01785773 -3.01785773 -3.01785773 -3.01785773 -3.01785773\n",
      " -3.01785773 -3.01785773 -3.01785773 -3.01785773 -3.01785773 -3.01785773\n",
      " -3.01785773 -3.01785773 -3.01785773 -3.01785773 -3.01785773 -3.01785773\n",
      " -3.01785773 -3.01785773 -3.01785773 -3.01785773 -3.01785773 -3.01785773\n",
      " -3.01785773 -3.01785773 -3.01785773 -3.01785773 -3.01785773 -3.01785773\n",
      " -3.01785773 -3.01785773 -3.01785773 -3.01785773 -3.01785773 -3.01785773\n",
      " -3.01785773 -3.01785773 -3.01785773 -3.01785773 -3.01785773 -3.01785773\n",
      " -3.01785773 -3.01785773 -3.01785773 -3.01785773 -3.01785773 -3.01785773\n",
      " -3.01785773 -3.01785773 -3.01785773 -3.01785773 -3.01785773 -3.01785773\n",
      " -3.01785773 -3.01785773 -3.01785773 -3.01785773 -3.01785773 -3.01785773\n",
      " -3.01785773 -3.01785773 -3.01785773 -3.01785773 -3.01785773 -3.01785773\n",
      " -3.01785773 -3.01785773 -3.01785773 -3.01785773 -3.01785773 -3.01785773\n",
      " -3.01785773 -3.01785773 -3.01785773 -3.01785773 -3.01785773 -3.01785773\n",
      " -3.01785773 -3.01785773 -3.01785773 -3.01785773 -3.01785773 -3.01785773\n",
      " -3.01785773 -3.01785773 -3.01785773 -3.01785773 -3.01785773 -3.01785773\n",
      " -3.01785773 -3.01785773 -3.01785773 -3.01785773 -3.01785773 -3.01785773\n",
      " -3.01785773 -3.01785773 -3.01785773 -3.01785773 -3.01785773 -3.01785773\n",
      " -3.01785773 -3.01785773 -3.01785773 -3.01785773 -3.01785773 -3.01785773\n",
      " -3.01785773 -3.01785773 -3.01785773 -3.01785773 -3.01785773 -3.01785773\n",
      " -3.01785773 -3.01785773 -3.01785773 -3.01785773 -3.01785773 -3.01785773\n",
      " -3.01785773 -3.01785773 -3.01785773 -3.01785773 -3.01785773 -3.01785773\n",
      " -3.01785773 -3.01785773 -3.01785773 -3.01785773 -3.01785773 -3.01785773\n",
      " -3.01785773 -3.01785773 -3.01785773 -3.01785773 -3.01785773 -3.01785773\n",
      " -3.01785773 -3.01785773 -3.01785773 -3.01785773 -3.01785773 -3.01785773\n",
      " -3.01785773 -3.01785773 -3.01785773 -3.01785773 -3.01785773 -3.01785773\n",
      " -3.01785773 -3.01785773 -3.01785773 -3.01785773 -3.01785773 -3.01785773\n",
      " -3.01785773 -3.01785773 -3.01785773 -3.01785773 -3.01785773 -3.01785773\n",
      " -3.01785773 -3.01785773 -3.01785773 -3.01785773 -3.01785773 -3.01785773\n",
      " -3.01785773 -3.01785773 -3.01785773 -3.01785773 -3.01785773 -3.01785773\n",
      " -3.01785773 -3.01785773 -3.01785773 -3.01785773 -3.01785773 -3.01785773\n",
      " -3.01785773 -3.01785773 -3.01785773 -3.01785773 -3.01785773 -3.01785773\n",
      " -3.01785773 -3.01785773 -3.01785773 -3.01785773 -3.01785773 -3.01785773\n",
      " -3.01785773 -3.01785773 -3.01785773 -3.01785773 -3.01785773 -3.01785773\n",
      " -3.01785773 -3.01785773 -3.01785773 -3.01785773 -3.01785773 -3.01785773\n",
      " -3.01785773 -3.01785773 -3.01785773 -3.01785773 -3.01785773 -3.01785773\n",
      " -3.01785773 -3.01785773 -3.01785773 -3.01785773 -3.01785773 -3.01785773\n",
      " -3.01785773 -3.01785773 -3.01785773 -3.01785773 -3.01785773 -3.01785773\n",
      " -3.01785773 -3.01785773 -3.01785773 -3.01785773 -3.01785773 -3.01785773\n",
      " -3.01785773 -3.01785773 -3.01785773 -3.01785773 -3.01785773 -3.01785773\n",
      " -3.01785773 -3.01785773 -3.01785773 -3.01785773 -3.01785773 -3.01785773\n",
      " -3.01785773 -3.01785773 -3.01785773 -3.01785773 -3.01785773 -3.01785773\n",
      " -3.01785773 -3.01785773 -3.01785773 -3.01785773 -3.01785773 -3.01785773\n",
      " -3.01785773 -3.01785773 -3.01785773 -3.01785773 -3.01785773 -3.01785773\n",
      " -3.01785773 -3.01785773 -3.01785773 -3.01785773 -3.01785773 -3.01785773\n",
      " -3.01785773 -3.01785773 -3.01785773 -3.01785773 -3.01785773 -3.01785773\n",
      " -3.01785773 -3.01785773 -3.01785773 -3.01785773 -3.01785773 -3.01785773\n",
      " -3.01785773 -3.01785773 -3.01785773 -3.01785773 -3.01785773 -3.01785773\n",
      " -3.01785773 -3.01785773 -3.01785773 -3.01785773 -3.01785773 -3.01785773\n",
      " -3.01785773 -3.01785773 -3.01785773 -3.01785773 -3.01785773 -3.01785773\n",
      " -3.01785773 -3.01785773 -3.01785773 -3.01785773 -3.01785773 -3.01785773\n",
      " -3.01785773 -3.01785773 -3.01785773 -3.01785773 -3.01785773 -3.01785773\n",
      " -3.01785773 -3.01785773 -3.01785773 -3.01785773 -3.01785773 -3.01785773\n",
      " -3.01785773 -3.01785773 -3.01785773 -3.01785773 -3.01785773 -3.01785773\n",
      " -3.01785773 -3.01785773 -3.01785773 -3.01785773 -3.01785773 -3.01785773\n",
      " -3.01785773 -3.01785773 -3.01785773 -3.01785773 -3.01785773 -3.01785773\n",
      " -3.01785773 -3.01785773 -3.01785773 -3.01785773 -3.01785773 -3.01785773\n",
      " -3.01785773 -3.01785773 -3.01785773 -3.01785773 -3.01785773 -3.01785773\n",
      " -3.01785773 -3.01785773 -3.01785773 -3.01785773 -3.01785773 -3.01785773\n",
      " -3.01785773 -3.01785773 -3.01785773 -3.01785773 -3.01785773 -3.01785773\n",
      " -3.01785773 -3.01785773 -3.01785773 -3.01785773 -3.01785773 -3.01785773\n",
      " -3.01785773 -3.01785773 -3.01785773 -3.01785773 -3.01785773 -3.01785773\n",
      " -3.01785773 -3.01785773 -3.01785773 -3.01785773 -3.01785773 -3.01785773\n",
      " -3.01785773 -3.01785773 -3.01785773 -3.01785773 -3.01785773 -3.01785773\n",
      " -3.01785773 -3.01785773 -3.01785773 -3.01785773 -3.01785773 -3.01785773\n",
      " -3.01785773 -3.01785773 -3.01785773 -3.01785773 -3.01785773 -3.01785773\n",
      " -3.01785773 -3.01785773 -3.01785773 -3.01785773 -3.01785773 -3.01785773\n",
      " -3.01785773 -3.01785773 -3.01785773 -3.01785773 -3.01785773 -3.01785773\n",
      " -3.01785773 -3.01785773 -3.01785773 -3.01785773 -3.01785773 -3.01785773\n",
      " -3.01785773 -3.01785773 -3.01785773 -3.01785773 -3.01785773 -3.01785773\n",
      " -3.01785773 -3.01785773 -3.01785773 -3.01785773 -3.01785773 -3.01785773\n",
      " -3.01785773 -3.01785773 -3.01785773 -3.01785773 -3.01785773 -3.01785773\n",
      " -3.01785773 -3.01785773 -3.01785773 -3.01785773 -3.01785773 -3.01785773\n",
      " -3.01785773 -3.01785773 -3.01785773 -3.01785773 -3.01785773 -3.01785773\n",
      " -3.01785773 -3.01785773 -3.01785773 -3.01785773 -3.01785773 -3.01785773\n",
      " -3.01785773 -3.01785773 -3.01785773 -3.01785773 -3.01785773 -3.01785773\n",
      " -3.01785773 -3.01785773 -3.01785773 -3.01785773 -3.01785773 -3.01785773\n",
      " -3.01785773 -3.01785773 -3.01785773 -3.01785773 -3.01785773 -3.01785773\n",
      " -3.01785773 -3.01785773 -3.01785773 -3.01785773 -3.01785773 -3.01785773\n",
      " -3.01785773 -3.01785773 -3.01785773 -3.01785773 -3.01785773 -3.01785773\n",
      " -3.01785773 -3.01785773 -3.01785773 -3.01785773 -3.01785773 -3.01785773\n",
      " -3.01785773 -3.01785773 -3.01785773 -3.01785773 -3.01785773 -3.01785773\n",
      " -3.01785773 -3.01785773 -3.01785773 -3.01785773 -3.01785773 -3.01785773\n",
      " -3.01785773 -3.01785773 -3.01785773 -3.01785773 -3.01785773 -3.01785773\n",
      " -3.01785773 -3.01785773 -3.01785773 -3.01785773 -3.01785773 -3.01785773\n",
      " -3.01785773 -3.01785773 -3.01785773 -3.01785773 -3.01785773 -3.01785773\n",
      " -3.01785773 -3.01785773 -3.01785773 -3.01785773 -3.01785773 -3.01785773\n",
      " -3.01785773 -3.01785773 -3.01785773 -3.01785773 -3.01785773 -3.01785773\n",
      " -3.01785773 -3.01785773 -3.01785773 -3.01785773 -3.01785773 -3.01785773\n",
      " -3.01785773 -3.01785773 -3.01785773 -3.01785773 -3.01785773 -3.01785773\n",
      " -3.01785773 -3.01785773 -3.01785773 -3.01785773 -3.01785773 -3.01785773\n",
      " -3.01785773 -3.01785773 -3.01785773 -3.01785773 -3.01785773 -3.01785773\n",
      " -3.01785773 -3.01785773 -3.01785773 -3.01785773 -3.01785773 -3.01785773\n",
      " -3.01785773 -3.01785773 -3.01785773 -3.01785773 -3.01785773 -3.01785773\n",
      " -3.01785773 -3.01785773 -3.01785773 -3.01785773 -3.01785773 -3.01785773\n",
      " -3.01785773 -3.01785773 -3.01785773 -3.01785773 -3.01785773 -3.01785773\n",
      " -3.01785773 -3.01785773 -3.01785773 -3.01785773 -3.01785773 -3.01785773\n",
      " -3.01785773 -3.01785773 -3.01785773 -3.01785773 -3.01785773 -3.01785773\n",
      " -3.01785773 -3.01785773 -3.01785773 -3.01785773 -3.01785773] [0. 0. 0. 0. 0. 0. 0. 0. 0. 0. 0. 0. 0. 0. 0. 0. 0. 0. 0. 0. 0. 0. 0. 0.\n",
      " 0. 0. 0. 0. 0. 0. 0. 0. 0. 0. 0. 0. 0. 0. 0. 0. 0. 0. 0. 0. 0. 0. 0. 0.\n",
      " 0. 0. 0. 0. 0. 0. 0. 0. 0. 0. 0. 0. 0. 0. 0. 0. 0. 0. 0. 0. 0. 0. 0. 0.\n",
      " 0. 0. 0. 0. 0. 0. 0. 0. 0. 0. 0. 0. 0. 0. 0. 0. 0. 0. 0. 0. 0. 0. 0. 0.\n",
      " 0. 0. 0. 0. 0. 0. 0. 0. 0. 0. 0. 0. 0. 0. 0. 0. 0. 0. 0. 0. 0. 0. 0. 0.\n",
      " 0. 0. 0. 0. 0. 0. 0. 0. 0. 0. 0. 0. 0. 0. 0. 0. 0. 0. 0. 0. 0. 0. 0. 0.\n",
      " 0. 0. 0. 0. 0. 0. 0. 0. 0. 0. 0. 0. 0. 0. 0. 0. 0. 0. 0. 0. 0. 0. 0. 0.\n",
      " 0. 0. 0. 0. 0. 0. 0. 0. 0. 0. 0. 0. 0. 0. 0. 0. 0. 0. 0. 0. 0. 0. 0. 0.\n",
      " 0. 0. 0. 0. 0. 0. 0. 0. 0. 0. 0. 0. 0. 0. 0. 0. 0. 0. 0. 0. 0. 0. 0. 0.\n",
      " 0. 0. 0. 0. 0. 0. 0. 0. 0. 0. 0. 0. 0. 0. 0. 0. 0. 0. 0. 0. 0. 0. 0. 0.\n",
      " 0. 0. 0. 0. 0. 0. 0. 0. 0. 0. 0. 0. 0. 0. 0. 0. 0. 0. 0. 0. 0. 0. 0. 0.\n",
      " 0. 0. 0. 0. 0. 0. 0. 0. 0. 0. 0. 0. 0. 0. 0. 0. 0. 0. 0. 0. 0. 0. 0. 0.\n",
      " 0. 0. 0. 0. 0. 0. 0. 0. 0. 0. 0. 0. 0. 0. 0. 0. 0. 0. 0. 0. 0. 0. 0. 0.\n",
      " 0. 0. 0. 0. 0. 0. 0. 0. 0. 0. 0. 0. 0. 0. 0. 0. 0. 0. 0. 0. 0. 0. 0. 0.\n",
      " 0. 0. 0. 0. 0. 0. 0. 0. 0. 0. 0. 0. 0. 0. 0. 0. 0. 0. 0. 0. 0. 0. 0. 0.\n",
      " 0. 0. 0. 0. 0. 0. 0. 0. 0. 0. 0. 0. 0. 0. 0. 0. 0. 0. 0. 0. 0. 0. 0. 0.\n",
      " 0. 0. 0. 0. 0. 0. 0. 0. 0. 0. 0. 0. 0. 0. 0. 0. 0. 0. 0. 0. 0. 0. 0. 0.\n",
      " 0. 0. 0. 0. 0. 0. 0. 0. 0. 0. 0. 0. 0. 0. 0. 0. 0. 0. 0. 0. 0. 0. 0. 0.\n",
      " 0. 0. 0. 0. 0. 0. 0. 0. 0. 0. 0. 0. 0. 0. 0. 0. 0. 0. 0. 0. 0. 0. 0. 0.\n",
      " 0. 0. 0. 0. 0. 0. 0. 0. 0. 0. 0. 0. 0. 0. 0. 0. 0. 0. 0. 0. 0. 0. 0. 0.\n",
      " 0. 0. 0. 0. 0. 0. 0. 0. 0. 0. 0. 0. 0. 0. 0. 0. 0. 0. 0. 0. 0. 0. 0. 0.\n",
      " 0. 0. 0. 0. 0. 0. 0. 0. 0. 0. 0. 0. 0. 0. 0. 0. 0. 0. 0. 0. 0. 0. 0. 0.\n",
      " 0. 0. 0. 0. 0. 0. 0. 0. 0. 0. 0. 0. 0. 0. 0. 0. 0. 0. 0. 0. 0. 0. 0. 0.\n",
      " 0. 0. 0. 0. 0. 0. 0. 0. 0. 0. 0. 0. 0. 0. 0. 0. 0. 0. 0. 0. 0. 0. 0. 0.\n",
      " 0. 0. 0. 0. 0. 0. 0. 0. 0. 0. 0. 0. 0. 0. 0. 0. 0. 0. 0. 0. 0. 0. 0. 0.\n",
      " 0. 0. 0. 0. 0. 0. 0. 0. 0. 0. 0. 0. 0. 0. 0. 0. 0. 0. 0. 0. 0. 0. 0. 0.\n",
      " 0. 0. 0. 0. 0. 0. 0. 0. 0. 0. 0. 0. 0. 0. 0. 0. 0. 0. 0. 0. 0. 0. 0. 0.\n",
      " 0. 0. 0. 0. 0. 0. 0. 0. 0. 0. 0. 0. 0. 0. 0. 0. 0. 0. 0. 0. 0. 0. 0. 0.\n",
      " 0. 0. 0. 0. 0. 0. 0. 0. 0. 0. 0. 0. 0. 0. 0. 0. 0. 0. 0. 0. 0. 0. 0. 0.\n",
      " 0. 0. 0. 0. 0. 0. 0. 0. 0. 0. 0. 0. 0. 0. 0. 0. 0. 0. 0. 0. 0. 0. 0. 0.\n",
      " 0. 0. 0. 0. 0. 0. 0. 0. 0. 0. 0. 0. 0. 0. 0. 0. 0. 0. 0. 0. 0. 0. 0. 0.\n",
      " 0. 0. 0. 0. 0. 0. 0. 0. 0. 0. 0. 0. 0. 0. 0. 0. 0. 0. 0. 0. 0. 0. 0. 0.\n",
      " 0. 0. 0. 0. 0. 0. 0. 0. 0. 0. 0. 0. 0. 0. 0. 0. 0. 0. 0. 0. 0. 0. 0. 0.\n",
      " 0. 0. 0. 0. 0. 0. 0. 0. 0. 0. 0. 0. 0. 0. 0. 0. 0. 0. 0. 0. 0. 0. 0. 0.\n",
      " 0. 0. 0. 0. 0. 0. 0. 0. 0. 0. 0. 0. 0. 0. 0. 0. 0. 0. 0. 0. 0. 0. 0. 0.\n",
      " 0. 0. 0. 0. 0. 0. 0. 0. 0. 0. 0. 0. 0. 0. 0. 0. 0. 0. 0. 0. 0. 0. 0. 0.\n",
      " 0. 0. 0. 0. 0. 0. 0. 0. 0. 0. 0. 0. 0. 0. 0. 0. 0. 0. 0. 0. 0. 0. 0. 0.\n",
      " 0. 0. 0. 0. 0. 0. 0. 0. 0. 0. 0. 0. 0. 0. 0. 0. 0. 0. 0. 0. 0. 0. 0. 0.\n",
      " 0. 0. 0. 0. 0. 0. 0. 0. 0. 0. 0. 0. 0. 0. 0. 0. 0. 0. 0. 0. 0. 0. 0.]\n"
     ]
    }
   ],
   "source": [
    "for x,y, pred in zip(xs, ys, y_pred_matrix):\n",
    "    print(x, y, pred)\n",
    "    \n",
    "    break"
   ]
  },
  {
   "cell_type": "code",
   "execution_count": 79,
   "metadata": {},
   "outputs": [
    {
     "data": {
      "image/png": "[encoded data removed]",
      "text/plain": [
       "<Figure size 640x480 with 1 Axes>"
      ]
     },
     "metadata": {},
     "output_type": "display_data"
    }
   ],
   "source": [
    "fig, ax = plt.subplots()\n",
    "ax.pcolormesh(xs, ys, y_pred_matrix)\n",
    "ax.scatter(train_data[:,0], train_data[:,1], c=train_labels, edgecolors = 'k')\n",
    "plt.show()"
   ]
  },
  {
   "cell_type": "markdown",
   "metadata": {},
   "source": [
    "Zwróćmy uwagę na fakt, że jest tutaj linia prosta."
   ]
  },
  {
   "cell_type": "code",
   "execution_count": null,
   "metadata": {},
   "outputs": [],
   "source": []
  },
  {
   "cell_type": "code",
   "execution_count": null,
   "metadata": {},
   "outputs": [],
   "source": []
  }
 ],
 "metadata": {
  "colab": {
   "name": "LogisticRegression.ipynb",
   "provenance": []
  },
  "kernelspec": {
   "display_name": "Python 3 (ipykernel)",
   "language": "python",
   "name": "python3"
  },
  "language_info": {
   "codemirror_mode": {
    "name": "ipython",
    "version": 3
   },
   "file_extension": ".py",
   "mimetype": "text/x-python",
   "name": "python",
   "nbconvert_exporter": "python",
   "pygments_lexer": "ipython3",
   "version": "3.10.9"
  }
 },
 "nbformat": 4,
 "nbformat_minor": 1
}
